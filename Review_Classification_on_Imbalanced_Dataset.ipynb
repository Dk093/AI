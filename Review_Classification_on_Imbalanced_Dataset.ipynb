{
  "nbformat": 4,
  "nbformat_minor": 0,
  "metadata": {
    "colab": {
      "name": "Review Classification on Imbalanced Dataset",
      "provenance": [],
      "collapsed_sections": [
        "nzJD6TTyyPOP",
        "TfZJbLS_yc9s",
        "3YrzxWjeyqo_",
        "Een73448y1aa",
        "nupQUUlHzB23",
        "yHqKULCOzFPz",
        "k0pHAyp5zOfD",
        "u7tzkyVzVahl"
      ],
      "include_colab_link": true
    },
    "kernelspec": {
      "name": "python3",
      "display_name": "Python 3"
    }
  },
  "cells": [
    {
      "cell_type": "markdown",
      "metadata": {
        "id": "view-in-github",
        "colab_type": "text"
      },
      "source": [
        "<a href=\"https://colab.research.google.com/github/Dk093/AI/blob/main/Review_Classification_on_Imbalanced_Dataset.ipynb\" target=\"_parent\"><img src=\"https://colab.research.google.com/assets/colab-badge.svg\" alt=\"Open In Colab\"/></a>"
      ]
    },
    {
      "cell_type": "markdown",
      "metadata": {
        "id": "8h2fbN8e8upo"
      },
      "source": [
        "**Dealing with Class Imbalance in Text Classififcation**"
      ]
    },
    {
      "cell_type": "markdown",
      "metadata": {
        "id": "Uzu67N8nRoq4"
      },
      "source": [
        "E-commerce has revolutionized retail experience through multiple insights that it provides customers and retailers. Customer reviews are\n",
        "considered as feedback by retailers about their products and services. This feedback allows them to understand the industry better and enhance\n",
        "the efficiency and quality of their product. A thorough analysis of a review can provide insights to retailers and E-commerce platforms about\n",
        "improvements that are required for better customer satisfaction. If an analysis of such million reviews is handled by the E-commerce team manually\n",
        "then it is a very time-consuming task that impacts the business of retailers as they get delayed feedback.\n"
      ]
    },
    {
      "cell_type": "markdown",
      "metadata": {
        "id": "MLn1ffnfjumX"
      },
      "source": [
        ""
      ]
    },
    {
      "cell_type": "markdown",
      "metadata": {
        "id": "TSJZ8-I9z9Dj"
      },
      "source": [
        "This Machine Learning exercise aims to create a simplified Machine Learning approach to analyze the feedback & identify the key problems that are\n",
        "highlighted in the given dataset containing reviews on an E-commerce platform."
      ]
    },
    {
      "cell_type": "markdown",
      "metadata": {
        "id": "nzJD6TTyyPOP"
      },
      "source": [
        "##Data Capture"
      ]
    },
    {
      "cell_type": "markdown",
      "metadata": {
        "id": "zRZE88VbTXe0"
      },
      "source": [
        "To begin our analysis, let us look at the data first by importing python library **pandas** to load the data.\n"
      ]
    },
    {
      "cell_type": "code",
      "metadata": {
        "id": "YVf2iYPbZ7eM"
      },
      "source": [
        "import pandas as pd\n"
      ],
      "execution_count": null,
      "outputs": []
    },
    {
      "cell_type": "markdown",
      "metadata": {
        "id": "pPuP4-1ARnQ3"
      },
      "source": [
        "We load the dataset into DataFrame which is a two-dimensional data structure in Pandas library i.e. data is aligned in a tabular fashion in rows and columns.\n",
        "Once the training data is loaded in dataframe df_train, we use the **head()** function which returns the first n rows or by default the first five rows of the dataframe."
      ]
    },
    {
      "cell_type": "code",
      "metadata": {
        "id": "O-Fg6r9rh40B",
        "outputId": "93185655-feb5-4f06-ce98-bc7b1e279869",
        "colab": {
          "base_uri": "https://localhost:8080/",
          "height": 181
        }
      },
      "source": [
        "df_train=pd.read_csv(\"train.csv\")\n",
        "df_test=pd.read_csv(\"test.csv\")"
      ],
      "execution_count": null,
      "outputs": [
        {
          "output_type": "error",
          "ename": "NameError",
          "evalue": "ignored",
          "traceback": [
            "\u001b[0;31m---------------------------------------------------------------------------\u001b[0m",
            "\u001b[0;31mNameError\u001b[0m                                 Traceback (most recent call last)",
            "\u001b[0;32m<ipython-input-1-b27081296d00>\u001b[0m in \u001b[0;36m<module>\u001b[0;34m()\u001b[0m\n\u001b[0;32m----> 1\u001b[0;31m \u001b[0mdf_train\u001b[0m\u001b[0;34m=\u001b[0m\u001b[0mpd\u001b[0m\u001b[0;34m.\u001b[0m\u001b[0mread_csv\u001b[0m\u001b[0;34m(\u001b[0m\u001b[0;34m\"train.csv\"\u001b[0m\u001b[0;34m)\u001b[0m\u001b[0;34m\u001b[0m\u001b[0;34m\u001b[0m\u001b[0m\n\u001b[0m\u001b[1;32m      2\u001b[0m \u001b[0mdf_test\u001b[0m\u001b[0;34m=\u001b[0m\u001b[0mpd\u001b[0m\u001b[0;34m.\u001b[0m\u001b[0mread_csv\u001b[0m\u001b[0;34m(\u001b[0m\u001b[0;34m\"test.csv\"\u001b[0m\u001b[0;34m)\u001b[0m\u001b[0;34m\u001b[0m\u001b[0;34m\u001b[0m\u001b[0m\n",
            "\u001b[0;31mNameError\u001b[0m: name 'pd' is not defined"
          ]
        }
      ]
    },
    {
      "cell_type": "markdown",
      "metadata": {
        "id": "Rv44YpPw0WYZ"
      },
      "source": [
        "We can see that the dataset has three feature columns namely **Review Text**, **Review Title**, and **topic** in which **Review Text** holds the body of a particular review and **topic** holds the type of class of a particular review. "
      ]
    },
    {
      "cell_type": "code",
      "metadata": {
        "id": "8o5pWjUliAEd",
        "outputId": "4167b47b-a4e6-44d6-a1f5-a1f33ab476ed",
        "colab": {
          "base_uri": "https://localhost:8080/",
          "height": 204
        }
      },
      "source": [
        "df_train.head()"
      ],
      "execution_count": null,
      "outputs": [
        {
          "output_type": "execute_result",
          "data": {
            "text/html": [
              "<div>\n",
              "<style scoped>\n",
              "    .dataframe tbody tr th:only-of-type {\n",
              "        vertical-align: middle;\n",
              "    }\n",
              "\n",
              "    .dataframe tbody tr th {\n",
              "        vertical-align: top;\n",
              "    }\n",
              "\n",
              "    .dataframe thead th {\n",
              "        text-align: right;\n",
              "    }\n",
              "</style>\n",
              "<table border=\"1\" class=\"dataframe\">\n",
              "  <thead>\n",
              "    <tr style=\"text-align: right;\">\n",
              "      <th></th>\n",
              "      <th>Review Text</th>\n",
              "      <th>Review Title</th>\n",
              "      <th>topic</th>\n",
              "    </tr>\n",
              "  </thead>\n",
              "  <tbody>\n",
              "    <tr>\n",
              "      <th>0</th>\n",
              "      <td>Did nothing for me, didn't help lost even with...</td>\n",
              "      <td>Useless</td>\n",
              "      <td>Shipment and delivery</td>\n",
              "    </tr>\n",
              "    <tr>\n",
              "      <th>1</th>\n",
              "      <td>Did nothing for me, didn't help lost even with...</td>\n",
              "      <td>Useless</td>\n",
              "      <td>Not Effective</td>\n",
              "    </tr>\n",
              "    <tr>\n",
              "      <th>2</th>\n",
              "      <td>I have bought these bags and  immediately open...</td>\n",
              "      <td>TRASH!!! Do not buy these bags it’s a waist of...</td>\n",
              "      <td>Customer Service</td>\n",
              "    </tr>\n",
              "    <tr>\n",
              "      <th>3</th>\n",
              "      <td>Gave me an allergic reaction on my face :(</td>\n",
              "      <td>Do not recommend</td>\n",
              "      <td>Allergic</td>\n",
              "    </tr>\n",
              "    <tr>\n",
              "      <th>4</th>\n",
              "      <td>These don't compare to the name brand wipes. F...</td>\n",
              "      <td>Can't tackle big messes</td>\n",
              "      <td>Texture</td>\n",
              "    </tr>\n",
              "  </tbody>\n",
              "</table>\n",
              "</div>"
            ],
            "text/plain": [
              "                                         Review Text  ...                  topic\n",
              "0  Did nothing for me, didn't help lost even with...  ...  Shipment and delivery\n",
              "1  Did nothing for me, didn't help lost even with...  ...          Not Effective\n",
              "2  I have bought these bags and  immediately open...  ...       Customer Service\n",
              "3         Gave me an allergic reaction on my face :(  ...               Allergic\n",
              "4  These don't compare to the name brand wipes. F...  ...                Texture\n",
              "\n",
              "[5 rows x 3 columns]"
            ]
          },
          "metadata": {
            "tags": []
          },
          "execution_count": 3
        }
      ]
    },
    {
      "cell_type": "markdown",
      "metadata": {
        "id": "OOTaDl8_cOE8"
      },
      "source": [
        "Among the three columns, **Review Text** and **Review Title** are Independent Features and **topic** is a dependent feature. The value of the Dependent feature is dependent on Independent features. So Independent features are considered as input while Dependent features are considered as the output in a machine learning problem setup.\n",
        "We aim to predict the respective class(**topic**) of a review by using **Review Text** and **Review Title** as the inputs."
      ]
    },
    {
      "cell_type": "markdown",
      "metadata": {
        "id": "8MnpYhFzfPPp"
      },
      "source": [
        "The **shape** attribute of a DataFrame is used to get a tuple representing the dimensionality of the DataFrame. We can see that our training DataFrame **df_train** has 5959 rows and 3 columns while our testing DataFrame **df_test** has 2553 rows and 2 columns as the testing dataset never contain the output values that is why column **topic** is not present in **df_test**.\n",
        "\n"
      ]
    },
    {
      "cell_type": "code",
      "metadata": {
        "id": "sZ6E0PWsd2Qm",
        "outputId": "f041bb14-f88c-4b56-8022-bed64913de11",
        "colab": {
          "base_uri": "https://localhost:8080/",
          "height": 34
        }
      },
      "source": [
        "df_train.shape"
      ],
      "execution_count": null,
      "outputs": [
        {
          "output_type": "execute_result",
          "data": {
            "text/plain": [
              "(5959, 3)"
            ]
          },
          "metadata": {
            "tags": []
          },
          "execution_count": 5
        }
      ]
    },
    {
      "cell_type": "code",
      "metadata": {
        "id": "zNTzBSGhiP2N",
        "outputId": "6976676c-399a-4c49-8364-4d9a5350c81b",
        "colab": {
          "base_uri": "https://localhost:8080/",
          "height": 34
        }
      },
      "source": [
        "df_test.shape"
      ],
      "execution_count": null,
      "outputs": [
        {
          "output_type": "execute_result",
          "data": {
            "text/plain": [
              "(2553, 2)"
            ]
          },
          "metadata": {
            "tags": []
          },
          "execution_count": 6
        }
      ]
    },
    {
      "cell_type": "code",
      "metadata": {
        "id": "zRa6kd-Xi_51",
        "outputId": "a03dcc74-507f-4481-8b0d-aeeb66641606",
        "colab": {
          "base_uri": "https://localhost:8080/",
          "height": 204
        }
      },
      "source": [
        "df_test.head()"
      ],
      "execution_count": null,
      "outputs": [
        {
          "output_type": "execute_result",
          "data": {
            "text/html": [
              "<div>\n",
              "<style scoped>\n",
              "    .dataframe tbody tr th:only-of-type {\n",
              "        vertical-align: middle;\n",
              "    }\n",
              "\n",
              "    .dataframe tbody tr th {\n",
              "        vertical-align: top;\n",
              "    }\n",
              "\n",
              "    .dataframe thead th {\n",
              "        text-align: right;\n",
              "    }\n",
              "</style>\n",
              "<table border=\"1\" class=\"dataframe\">\n",
              "  <thead>\n",
              "    <tr style=\"text-align: right;\">\n",
              "      <th></th>\n",
              "      <th>Review Text</th>\n",
              "      <th>Review Title</th>\n",
              "    </tr>\n",
              "  </thead>\n",
              "  <tbody>\n",
              "    <tr>\n",
              "      <th>0</th>\n",
              "      <td>I use chia seed in my protein shakes. These ta...</td>\n",
              "      <td>Bad tast</td>\n",
              "    </tr>\n",
              "    <tr>\n",
              "      <th>1</th>\n",
              "      <td>I use chia seed in my protein shakes. These ta...</td>\n",
              "      <td>Bad tast</td>\n",
              "    </tr>\n",
              "    <tr>\n",
              "      <th>2</th>\n",
              "      <td>Don’t waste your money.</td>\n",
              "      <td>No change. No results.</td>\n",
              "    </tr>\n",
              "    <tr>\n",
              "      <th>3</th>\n",
              "      <td>I use the book 'Fortify Your Life' by Tieraona...</td>\n",
              "      <td>Good Vegan Choice, Poor Non Vegan Choice</td>\n",
              "    </tr>\n",
              "    <tr>\n",
              "      <th>4</th>\n",
              "      <td>I use the book 'Fortify Your Life' by Tieraona...</td>\n",
              "      <td>Good Vegan Choice, Poor Non Vegan Choice</td>\n",
              "    </tr>\n",
              "  </tbody>\n",
              "</table>\n",
              "</div>"
            ],
            "text/plain": [
              "                                         Review Text                              Review Title\n",
              "0  I use chia seed in my protein shakes. These ta...                                  Bad tast\n",
              "1  I use chia seed in my protein shakes. These ta...                                  Bad tast\n",
              "2                            Don’t waste your money.                    No change. No results.\n",
              "3  I use the book 'Fortify Your Life' by Tieraona...  Good Vegan Choice, Poor Non Vegan Choice\n",
              "4  I use the book 'Fortify Your Life' by Tieraona...  Good Vegan Choice, Poor Non Vegan Choice"
            ]
          },
          "metadata": {
            "tags": []
          },
          "execution_count": 7
        }
      ]
    },
    {
      "cell_type": "markdown",
      "metadata": {
        "id": "zihzrM-sxiuj"
      },
      "source": [
        "We drop the column **Review Title** as it does not have much effect on the output. The whole body of a review is captured under **Review Text**. We use the **drop()** function of Pandas to drop this column from our training and testing dataframe.\n"
      ]
    },
    {
      "cell_type": "code",
      "metadata": {
        "id": "WjrkOO2NxYWN"
      },
      "source": [
        "df_train.drop('Review Title',\n",
        "  axis='columns', inplace=True)"
      ],
      "execution_count": null,
      "outputs": []
    },
    {
      "cell_type": "code",
      "metadata": {
        "id": "jloEvRmlzQEb"
      },
      "source": [
        "df_test.drop('Review Title',\n",
        "  axis='columns', inplace=True)"
      ],
      "execution_count": null,
      "outputs": []
    },
    {
      "cell_type": "code",
      "metadata": {
        "id": "kBM4VoIAzUIw",
        "outputId": "036ad6d7-06fc-4a39-f43e-4bcf2cac081f",
        "colab": {
          "base_uri": "https://localhost:8080/",
          "height": 204
        }
      },
      "source": [
        "df_train.head()"
      ],
      "execution_count": null,
      "outputs": [
        {
          "output_type": "execute_result",
          "data": {
            "text/html": [
              "<div>\n",
              "<style scoped>\n",
              "    .dataframe tbody tr th:only-of-type {\n",
              "        vertical-align: middle;\n",
              "    }\n",
              "\n",
              "    .dataframe tbody tr th {\n",
              "        vertical-align: top;\n",
              "    }\n",
              "\n",
              "    .dataframe thead th {\n",
              "        text-align: right;\n",
              "    }\n",
              "</style>\n",
              "<table border=\"1\" class=\"dataframe\">\n",
              "  <thead>\n",
              "    <tr style=\"text-align: right;\">\n",
              "      <th></th>\n",
              "      <th>Review Text</th>\n",
              "      <th>topic</th>\n",
              "    </tr>\n",
              "  </thead>\n",
              "  <tbody>\n",
              "    <tr>\n",
              "      <th>0</th>\n",
              "      <td>Did nothing for me, didn't help lost even with...</td>\n",
              "      <td>Shipment and delivery</td>\n",
              "    </tr>\n",
              "    <tr>\n",
              "      <th>1</th>\n",
              "      <td>Did nothing for me, didn't help lost even with...</td>\n",
              "      <td>Not Effective</td>\n",
              "    </tr>\n",
              "    <tr>\n",
              "      <th>2</th>\n",
              "      <td>I have bought these bags and  immediately open...</td>\n",
              "      <td>Customer Service</td>\n",
              "    </tr>\n",
              "    <tr>\n",
              "      <th>3</th>\n",
              "      <td>Gave me an allergic reaction on my face :(</td>\n",
              "      <td>Allergic</td>\n",
              "    </tr>\n",
              "    <tr>\n",
              "      <th>4</th>\n",
              "      <td>These don't compare to the name brand wipes. F...</td>\n",
              "      <td>Texture</td>\n",
              "    </tr>\n",
              "  </tbody>\n",
              "</table>\n",
              "</div>"
            ],
            "text/plain": [
              "                                         Review Text                  topic\n",
              "0  Did nothing for me, didn't help lost even with...  Shipment and delivery\n",
              "1  Did nothing for me, didn't help lost even with...          Not Effective\n",
              "2  I have bought these bags and  immediately open...       Customer Service\n",
              "3         Gave me an allergic reaction on my face :(               Allergic\n",
              "4  These don't compare to the name brand wipes. F...                Texture"
            ]
          },
          "metadata": {
            "tags": []
          },
          "execution_count": 18
        }
      ]
    },
    {
      "cell_type": "markdown",
      "metadata": {
        "id": "TfZJbLS_yc9s"
      },
      "source": [
        "##Exploratory Data Analysis"
      ]
    },
    {
      "cell_type": "markdown",
      "metadata": {
        "id": "hz7b5ok6j4Dn"
      },
      "source": [
        "To see how all the training samples are segregated into different classes we use **value_counts()** function. Pandas **value_counts()** function returns object containing counts of unique values. The resulting object is in descending order so that the first element is the most frequently-occurring element. Excludes NA values by default.\n",
        "Like , after executing **df_train[\"topic\"].value_counts()**, we get the number of samples corresponding to different classes with **Bad Taste/Flavor** being the most frequently-occuring class while **Hard to Chew** being the least frequently-occuring class."
      ]
    },
    {
      "cell_type": "code",
      "metadata": {
        "id": "JrvCzBdwlfsE",
        "outputId": "d3dbf86f-7eeb-4556-9603-db05a4345b6c",
        "colab": {
          "base_uri": "https://localhost:8080/",
          "height": 391
        }
      },
      "source": [
        "df_train[\"topic\"].value_counts()"
      ],
      "execution_count": null,
      "outputs": [
        {
          "output_type": "execute_result",
          "data": {
            "text/plain": [
              "Bad Taste/Flavor           1194\n",
              "Quality/Contaminated        715\n",
              "Not Effective               611\n",
              "Allergic                    567\n",
              "Packaging                   467\n",
              "Texture                     410\n",
              "Shipment and delivery       390\n",
              "Customer Service            239\n",
              "Color and texture           234\n",
              "Too big to swallow          228\n",
              "Ingredients                 216\n",
              "Expiry                      136\n",
              "Smells Bad                  123\n",
              "Pricing                     107\n",
              "Wrong Product received       99\n",
              "Too Sweet                    97\n",
              "Inferior to competitors      44\n",
              "False Advertisement          37\n",
              "Didn't Like                  31\n",
              "Customer Issues               8\n",
              "Hard to Chew                  6\n",
              "Name: topic, dtype: int64"
            ]
          },
          "metadata": {
            "tags": []
          },
          "execution_count": 8
        }
      ]
    },
    {
      "cell_type": "markdown",
      "metadata": {
        "id": "IqaHAxDknLHK"
      },
      "source": [
        "We import **matplotlib.pyplot** python library for visualization of our data. "
      ]
    },
    {
      "cell_type": "code",
      "metadata": {
        "id": "6bYcEDtDlZW7"
      },
      "source": [
        "import matplotlib.pyplot as plt"
      ],
      "execution_count": null,
      "outputs": []
    },
    {
      "cell_type": "code",
      "metadata": {
        "id": "c2H2cahppFJI",
        "outputId": "3974e1ab-69f8-4ecf-f2a9-74f8b3c926fb",
        "colab": {
          "base_uri": "https://localhost:8080/",
          "height": 405
        }
      },
      "source": [
        "fig = plt.figure(figsize=(8,6))\n",
        "df_train.groupby('topic').count().plot.bar(ylim=0)\n",
        "plt.show()"
      ],
      "execution_count": null,
      "outputs": [
        {
          "output_type": "display_data",
          "data": {
            "text/plain": [
              "<Figure size 576x432 with 0 Axes>"
            ]
          },
          "metadata": {
            "tags": []
          }
        },
        {
          "output_type": "display_data",
          "data": {
            "image/png": "[encoded data removed]",
            "text/plain": [
              "<Figure size 432x288 with 1 Axes>"
            ]
          },
          "metadata": {
            "tags": [],
            "needs_background": "light"
          }
        }
      ]
    },
    {
      "cell_type": "markdown",
      "metadata": {
        "id": "HEJ4LlzSpmFv"
      },
      "source": [
        "We can see from the output of **value_counts()** and from the image above that our dataset has imbalanced class distribution. This is a scenario where the number of observations belonging to one class is significantly lower than those belonging to the other classes. If the class imbalance is not dealt with, then there is a risk that all the minority classes can be misclassified, and still, the accuracy of the model will be high. For example, in a classification problem with only 2 classes, with the majority class being 95 in the count and the minority class being only 5, the classification model can predict every sample to be classified as majority class and still get an accuracy of 95%. That is why the class imbalance problem has to be rectified before training the model but first we clean our data using **Regular Expression** as there are a number of unwanted characters in text data. Regular Expression can be used to check if a string contains the specified search pattern."
      ]
    },
    {
      "cell_type": "markdown",
      "metadata": {
        "id": "3YrzxWjeyqo_"
      },
      "source": [
        "##Data Cleaning"
      ]
    },
    {
      "cell_type": "markdown",
      "metadata": {
        "id": "Rt8g-7UxtMW9"
      },
      "source": [
        "We define a function **clean_str()** which takes a single string as input and then use **re.sub()** function to remove all the unnecessary characters like random digits, spaces,\\n,\\r, etc from the string and return a clean string with all the characters in lower case.\n",
        "\n"
      ]
    },
    {
      "cell_type": "code",
      "metadata": {
        "id": "vxVYvTKdQprP"
      },
      "source": [
        "import re\n"
      ],
      "execution_count": null,
      "outputs": []
    },
    {
      "cell_type": "code",
      "metadata": {
        "id": "LpLv0AdzTNUi"
      },
      "source": [
        "def clean_str(string):\n",
        "  string=re.sub(r\"\\n\",\"\",string)\n",
        "  string=re.sub(r\"\\r\",\"\",string)\n",
        "  string=re.sub(r\"[0-9]\",\"digit\",string)\n",
        "  string=re.sub(r\"\\'\",\"\",string)\n",
        "  string=re.sub(r\"\\\"\",\"\",string)\n",
        "  return string.strip().lower()\n",
        "X=[]\n",
        "for i in range(df_train.shape[0]):\n",
        "  X.append(clean_str(df_train.iloc[i][0]))\n",
        "\n",
        "\n"
      ],
      "execution_count": null,
      "outputs": []
    },
    {
      "cell_type": "markdown",
      "metadata": {
        "id": "eoM_TWm_vObT"
      },
      "source": [
        "Then, to get the data cleaned in our independent features, we loop through the rows of **df_train** and save the cleaned strings to a separate list **X[ ]**."
      ]
    },
    {
      "cell_type": "code",
      "metadata": {
        "id": "OBqKMdvSVx6G",
        "outputId": "4e17ad64-4111-4219-fb62-0bc78e286b34",
        "colab": {
          "base_uri": "https://localhost:8080/",
          "height": 1000
        }
      },
      "source": [
        "X"
      ],
      "execution_count": null,
      "outputs": [
        {
          "output_type": "execute_result",
          "data": {
            "text/plain": [
              "['did nothing for me, didnt help lost even with working out and eating healthy. didnt curb appetite or anything.',\n",
              " 'did nothing for me, didnt help lost even with working out and eating healthy. didnt curb appetite or anything.',\n",
              " 'i have bought these bags and  immediately open one put in some trash and the bag was split down the side. so i opened another bag to cover the split bag and it also split down the side(xdigit).don’t buy these you will end up throwing your box away',\n",
              " 'gave me an allergic reaction on my face :(',\n",
              " 'these dont compare to the name brand wipes. family of digit little kids, we use a lot of wipes. these dont cut through sticky messes and theyre small and very thin. might be ok for wiping down less often used places but not good at tackling actual messes. i also didnt care for the lemon scent, felt it was too strong.',\n",
              " 'these dont compare to the name brand wipes. family of digit little kids, we use a lot of wipes. these dont cut through sticky messes and theyre small and very thin. might be ok for wiping down less often used places but not good at tackling actual messes. i also didnt care for the lemon scent, felt it was too strong.',\n",
              " 'these dont compare to the name brand wipes. family of digit little kids, we use a lot of wipes. these dont cut through sticky messes and theyre small and very thin. might be ok for wiping down less often used places but not good at tackling actual messes. i also didnt care for the lemon scent, felt it was too strong.',\n",
              " 'no good',\n",
              " 'these are extremely hard to swallow. the pills are huge and the sides are sharp. i seriously feel like i can choke on them. i don’t know about their effects and honestly don’t care because it’s not worth the pain and danger.',\n",
              " 'first of all the style i am leaving a review for is: solimo incontinent maximum absorbency long length individually wrapped.<br />i had always used a name brand but still had to search for something better.<br />when i first ordered these, i must say i was very pleasantly surprised.<br />for my daytime use, these worked great.<br />they were very soft, long but not to long. wide enough but not to wide.<br />and they worked for those gushes. well for myself, i really liked them.<br />they stuck well, but not to much.<br />and then they changed the outside wrapper.<br />they used to be individually wrapped inwhich you would take off the outside wrap and then peel off the paper strip and then attach.<br />but now what they have done is they have attached the paper strip to the outer wrap covering. so now when you unwrap it, the paper strip that covers the sticky stuff comes off all at the same time. bad move!! picture this, you go into the bathroom to change your pad. you take the new pad and go to take the outside wrap off but now the strip that covers the sticky part comes off as well. now you have to somehow hold that new pad while taking off the old pad and wanting to use the outside wrap to wrap the old pad up but oops, now the new pad falls to the floor because you now have to hold on to everything at the same time. i used to be able to at least recycle the paper strip but you cant anymore because the outer wrap and the paper strip are attached. why cant they just leave things the way they were? now im stuck with yet another product that is crappy. im just not happy about the new changes. please bring back the old style!!!',\n",
              " 'first of all the style i am leaving a review for is: solimo incontinent maximum absorbency long length individually wrapped.<br />i had always used a name brand but still had to search for something better.<br />when i first ordered these, i must say i was very pleasantly surprised.<br />for my daytime use, these worked great.<br />they were very soft, long but not to long. wide enough but not to wide.<br />and they worked for those gushes. well for myself, i really liked them.<br />they stuck well, but not to much.<br />and then they changed the outside wrapper.<br />they used to be individually wrapped inwhich you would take off the outside wrap and then peel off the paper strip and then attach.<br />but now what they have done is they have attached the paper strip to the outer wrap covering. so now when you unwrap it, the paper strip that covers the sticky stuff comes off all at the same time. bad move!! picture this, you go into the bathroom to change your pad. you take the new pad and go to take the outside wrap off but now the strip that covers the sticky part comes off as well. now you have to somehow hold that new pad while taking off the old pad and wanting to use the outside wrap to wrap the old pad up but oops, now the new pad falls to the floor because you now have to hold on to everything at the same time. i used to be able to at least recycle the paper strip but you cant anymore because the outer wrap and the paper strip are attached. why cant they just leave things the way they were? now im stuck with yet another product that is crappy. im just not happy about the new changes. please bring back the old style!!!',\n",
              " 'first of all the style i am leaving a review for is: solimo incontinent maximum absorbency long length individually wrapped.<br />i had always used a name brand but still had to search for something better.<br />when i first ordered these, i must say i was very pleasantly surprised.<br />for my daytime use, these worked great.<br />they were very soft, long but not to long. wide enough but not to wide.<br />and they worked for those gushes. well for myself, i really liked them.<br />they stuck well, but not to much.<br />and then they changed the outside wrapper.<br />they used to be individually wrapped inwhich you would take off the outside wrap and then peel off the paper strip and then attach.<br />but now what they have done is they have attached the paper strip to the outer wrap covering. so now when you unwrap it, the paper strip that covers the sticky stuff comes off all at the same time. bad move!! picture this, you go into the bathroom to change your pad. you take the new pad and go to take the outside wrap off but now the strip that covers the sticky part comes off as well. now you have to somehow hold that new pad while taking off the old pad and wanting to use the outside wrap to wrap the old pad up but oops, now the new pad falls to the floor because you now have to hold on to everything at the same time. i used to be able to at least recycle the paper strip but you cant anymore because the outer wrap and the paper strip are attached. why cant they just leave things the way they were? now im stuck with yet another product that is crappy. im just not happy about the new changes. please bring back the old style!!!',\n",
              " 'these smelled horrible! as soon as i opened the bottle i was hit by a smell of ammonia or perm solution. i don’t know if this is just how these smell or if something was wrong with them but i was afraid to take them. i let x brand know and they refunded my purchase.',\n",
              " 'super easy these don’t work and definitely doesn’t give you energy. i’ll stick with gnc instead.',\n",
              " 'super easy these don’t work and definitely doesn’t give you energy. i’ll stick with gnc instead.',\n",
              " 'by my lights, these are a big disappointment.  finding good veggie vitamins isn’t always easy.  and the convenience of gummies was appealing.  but:  these have a lot of sugars in them, and a lot of calories.  neither my dentist nor my waistline would be happy if i consumed the recommended dosage of three gummies a day.',\n",
              " 'by my lights, these are a big disappointment.  finding good veggie vitamins isn’t always easy.  and the convenience of gummies was appealing.  but:  these have a lot of sugars in them, and a lot of calories.  neither my dentist nor my waistline would be happy if i consumed the recommended dosage of three gummies a day.',\n",
              " 'absolutely did not improve my health at all in any way, shape or form.',\n",
              " 'i was having neck surgery and thought i would stock up. my last order was a big one and whe n i opened second pack the expiration date was just two weeks away! i couldnt drink all of them and now have digit packs of digitdigit that have expired. they always had a longer shelf life but they obviously were getting rid of their old stock.',\n",
              " 'i dont know why the ratings are so high for this - i have used so many different brands of lavender essential oils, from high quality aura cacia to cheaper lesser known x brand brands -  none of them have smelled like nows lavender essential oil does.  it smells like stale flowers and nothing like lavender.  i am really disappointed after paying $digitdigit.digitdigit for this.  the sad part is i cant return or get a refund since i already opened it.  do not buy this.',\n",
              " 'i dont know why the ratings are so high for this - i have used so many different brands of lavender essential oils, from high quality aura cacia to cheaper lesser known x brand brands -  none of them have smelled like nows lavender essential oil does.  it smells like stale flowers and nothing like lavender.  i am really disappointed after paying $digitdigit.digitdigit for this.  the sad part is i cant return or get a refund since i already opened it.  do not buy this.',\n",
              " 'i dont know why the ratings are so high for this - i have used so many different brands of lavender essential oils, from high quality aura cacia to cheaper lesser known x brand brands -  none of them have smelled like nows lavender essential oil does.  it smells like stale flowers and nothing like lavender.  i am really disappointed after paying $digitdigit.digitdigit for this.  the sad part is i cant return or get a refund since i already opened it.  do not buy this.',\n",
              " 'doesnt smell anything like rosehip oil. smells more like cooking oil or stale oil. the fact its all opened without sealing protection makes me very suspicious of this product. dont buy from this digitdigitdigit company ever. may have the seal of organic approval but its shady in the packaging. im not putting this on my face. i will mix it with other hair oils i have as a hair treatment tonic. i wish i could give it a zero... for horrid smell and worse poor packaging of an oil bottle ever.',\n",
              " 'doesnt smell anything like rosehip oil. smells more like cooking oil or stale oil. the fact its all opened without sealing protection makes me very suspicious of this product. dont buy from this digitdigitdigit company ever. may have the seal of organic approval but its shady in the packaging. im not putting this on my face. i will mix it with other hair oils i have as a hair treatment tonic. i wish i could give it a zero... for horrid smell and worse poor packaging of an oil bottle ever.',\n",
              " 'i thought i used that size but i need the digitdigit gallon.  i will find a use for the ones i did by.  my bad.',\n",
              " 'they taste awful.  i am now cutting them up into swallowable pieces to try and get them down without tasting.  kind of defeats the purpose of a chewable',\n",
              " 'i really do like these diapers. i’ve never had problems with them but this time i’ve ordered them, i’ve noticed a few things. one being that even though i got the size my daughter wears, they were still really really big! which is weird because.. these diapers have never been like that before. second thing is that they’re coming apart.. like one of the layers of the diapers which i’ve never noticed before. idk if something changed with the diapers recently or if maybe i never realized these things when we’ve ordered them before. besides that, i never have any leaks or problems, they’re absorbent and reliable! i always recommended them but now.. i’m unsure!',\n",
              " 'no idea how this got such great reviews. literally passed out after digit weeks from this. i thought it was possibly something else but the nausea and dizziness only came after taking this. also, did not at all do what was claimed.',\n",
              " 'ordered the ripped version and got regular, ordered raspberry lemonade and got frozen bombsicle, not what i ordered...',\n",
              " 'we love these diapers, but will no longer be buying them. the price has gone up $digitdigit in less than two months.',\n",
              " 'its a good allergy medication but the product information (compare this item section) states its its a pack of digit. its not. its one bottle. considering that i could buy the same brand in a digit -pack (digit bottles with digitdigitdigit tablets each)  at costco for less than this price, i feel ripped off. its false advertising.',\n",
              " 'found cheaper at store',\n",
              " 'absolutely hate the size of this enormous horse pill.  super hard to get down.  i’d rather buy the smaller ones and have to take more of them.',\n",
              " 'this product never arrived.  ordered weeks ago.  still in transit.  no option to receive a refund.  no ability to communicate with x brand.  need refund!',\n",
              " 'im not a big meat eater so its great to get half my recommended intake of protein in a morning shake with this powder as the base.  its great to have any food product with only digit ingredients on the list and i do appreciate the grass-fed aspect of this product.  the unflavored version of the product didnt add anything to the taste or texture of my smoothie, but i guess thats the point for those who choose this style.  personally, id get the vanilla next time as i like how that compliments the fruits and covers up the veggies.<br /><br />comes in a big jug, with a handy scoop.',\n",
              " 'great product but.....the order arrived with the complete bottom of the bottle broken out and glass and the vitamins spilled out. do i return this bottle or get a refund? not sure if i want to take them with the pills mixed in with all the broken glass. help!',\n",
              " 'made me feel weird. i did not like it.',\n",
              " 'never received it!',\n",
              " 'i liked the ingredients initially. i disliked it felt like i was eating a pillow and allergic to nuts. i ate it for my healthy.',\n",
              " 'i liked the ingredients initially. i disliked it felt like i was eating a pillow and allergic to nuts. i ate it for my healthy.',\n",
              " 'i love that theyre vegan and cheap. however, they are very sugary and dont taste too good. they dont taste bad, but im disappointed whenever i eat them. they get the job done, but i will try out another brand once theyre gone. honestly in this day and age with so many options, taste is the game that wins out.',\n",
              " 'so i got this because of the reviews and i love this brand, plus it seemed that it was a great concept for my macros!<br /><br />the thing i did not realize was the oats are kind of very finely ground and do not i repeat do not mix very well.<br /><br />i figured since this was whey and oats i would use warm/hot water to mix this up with since lets be honest who doesnt like a hot blueberry muffin! well even with the warm water as soon as you take a gulp of this it instantly drys the back of your throat causing you to cough. i love the flavor of it its just like it says blueberry muffin, but the dryness of the oats is a real downfall. i have not let it sit in hot water yet, but i do not think it will make a difference.<br /><br />other than that its a good product with great macros and a good flavor that is the only reason for the digit stars. if it did not taste as good as it does than digit star all of the way. my apologies optimum nutrition but this was a fail.',\n",
              " 'i told my boyfriend i was going to get him some supplements but not what i was giving him to avoid the placebo affect. he had no change at all!',\n",
              " 'misleading information on packaging. it has only digitdigitdigitmg of cranberry concentrate! don’t expect to get digitdigitdigitdigitmg as it says on the front.<br />on a packaging of another brand i got those two numbers match.',\n",
              " 'i like the ingredient list and i like the reviews however this is very hard to take. almost makes me sick. im real disappointed with it. too expensive just to throw away.',\n",
              " 'i like the ingredient list and i like the reviews however this is very hard to take. almost makes me sick. im real disappointed with it. too expensive just to throw away.',\n",
              " 'i like the ingredient list and i like the reviews however this is very hard to take. almost makes me sick. im real disappointed with it. too expensive just to throw away.',\n",
              " 'i like the ingredient list and i like the reviews however this is very hard to take. almost makes me sick. im real disappointed with it. too expensive just to throw away.',\n",
              " 'i did not receive this product, i want my money back please!',\n",
              " 'made me gain weight and did not give me the energy i was looking for.',\n",
              " 'these are gawd awful, they do not stick, they are uncomfortable because it doesnt stick so it moves around making it very uncomfortable and difficult to absorb. these are horrible',\n",
              " 'well a product i didn’t order. haven’t received it yet',\n",
              " 'have not received my order yet!',\n",
              " 'i did not receive this item. somebody dropped the ball.',\n",
              " 'never received my package! yet i don’t have any options than to write the crappy review!',\n",
              " 'weak oil. bad inner lid. bad cost benefit.',\n",
              " 'yeah... the flavor isn’t great and i didn’t feel energized after i drank it. i love vega’s protein powder but the energize was a fail.',\n",
              " 'took product for digit days, very bad gas! will not be taking again. i even cut the dose in half on day digit, and still terrible. beware!',\n",
              " 'took product for digit days, very bad gas! will not be taking again. i even cut the dose in half on day digit, and still terrible. beware!',\n",
              " 'edit digit/digit/digitdigitdigitdigit - one star rating earned by #gardenoffail<br /><br />garden of life directed me to send a dm to them on twitter. i did so on digit/digit/digitdigitdigitdigit. digit weeks go by without a response. i called them out on that, saying that their tweet did not age well.  they responded by blocking me.<br /><br />avoid garden of life if you prefer to not reward a company who actively tries to bait-and-switch/rip customers off by reducing the measuring cup size and/or actual content within the packages. this is an ongoing problem with these deceptive people - read the reviews to see others having found this problem, too.<br /><br />time to move on to a company that deals with its customers with integrity, honor and respect.<br /><br />=====================================<br /><br />original review:<br /><br />you can read across the other reviews to see what folks say about the flavor and blending - i can tell you that the current flavor blend for the chocolate protein powder is superb and it is smooth-blending.<br /><br />however, do not be fooled by the digitdigit-servings on the label. you only get digitdigit servings with a level digitdigitcc scoop (which is included in the package).  theyre lying through their teeth on the label which is despicable and unfortunate.<br /><br />theyre pulling a similar stunt with their perfect food super greens powder where theyve snuck a digitdigitcc measuring cup in to replace the long-running digitdigitcc measuring cup with no warning on the packaging whatsoever.<br /><br />garden of life is not trustworthy so just keep an eye on the packages and enjoy the shakes.. but know that they are not being honest with us.',\n",
              " 'this is not tea tree oil, i dont know what it is but ive gotten way better quality for much less. also, the dropper is the worst and doesnt stick so i ended up with an abundance spilled out and this terrible stench of gas, never smelt tea tree oil like that.',\n",
              " 'i should had listened to other people. it taste terrible, like some horrible medicines. it may supply good vitamin for your need but i just cannot take it. it is also hard to bite. it is hard like some cold overnight supper dry bread. the vitafusion tastes much better and softer than this. will not buy again.',\n",
              " 'i should had listened to other people. it taste terrible, like some horrible medicines. it may supply good vitamin for your need but i just cannot take it. it is also hard to bite. it is hard like some cold overnight supper dry bread. the vitafusion tastes much better and softer than this. will not buy again.',\n",
              " 'it may be fine, but i did not order it.',\n",
              " 'my tea tree oil broken. woohoonatural please send me a new one. was looking forward to making diy for my trip this week. 😞',\n",
              " 'the product itself is fine as it makes me sleepy and helps me fall asleep. the taste leaves a bit less to be desired, but the packaging, oh the packaging is a nightmare. i have fairly small hands but the container is a weird square shape which makes it impossible to grip. i spent half an hour trying to get this darn thing open and finally accessed the gummies by using a pair of scissors to stab open the side of the container. which was actually pretty difficult. i was actually sweaty but the time i got a single gummy out of the container and was very very awake and annoyed. ultimately the actual product worked and it made me fall asleep but i wouldn’t buy this product again in this packaging. just not worth the hassle.',\n",
              " 'this seller sent wrong product, wouldn’t refund. then promised to send the right product but didn’t',\n",
              " 'maybe i am missing something, but i don’t see any dha in the ingredients',\n",
              " 'im not a coffee drinker, so maybe i should have ordered another flavor. ive tried a lot of protein powders, and this one is too sweet for me. the consistency is thin, even with two scoops and mixed with unsweetened almond milk.  im use to a thicker shake.',\n",
              " 'im not a coffee drinker, so maybe i should have ordered another flavor. ive tried a lot of protein powders, and this one is too sweet for me. the consistency is thin, even with two scoops and mixed with unsweetened almond milk.  im use to a thicker shake.',\n",
              " 'disgusting flavor - dear gahhhhhhh',\n",
              " 'i am not a big product reviewer, but i felt others should be aware of my experience in case the same thing happens to them. i started taking this calcium supplement about a year ago when trader joe’s discontinued the ones i had taken for about a decade. i didn’t put two and two together for months, but these caused chronic diarrhea for me, which has never been an issue for me before. at first i attributed it a prescription, then stress, then thought maybe i had developed lactose intolerance. i tried eliminating wheat, then dairy, then tried the wholedigitdigit elimation diet- nothing helped.  i even got a celiac disease test and had my tsh levels checked in case those were the cause of the problem.  even my doctor ran out of ideas. then i noticed that whenever i travelled my symptoms would disappear, and started focusing on things that were different when i traveled. i don’t take my vitamins along and then also realized all the problems started when i switched calcium brands.  i stopped taking them and symptoms disappeared in digitdigit hours, after months of daily misery and way too much time wasted in the bathroom.  i don’t know what is in this supplement that’s causing the problem, but i have never had an issue with a vitamin before. you couldn’t pay me to take these again. i am steering clear of this brand now because i don’t trust their products anymore.',\n",
              " 'i am not a big product reviewer, but i felt others should be aware of my experience in case the same thing happens to them. i started taking this calcium supplement about a year ago when trader joe’s discontinued the ones i had taken for about a decade. i didn’t put two and two together for months, but these caused chronic diarrhea for me, which has never been an issue for me before. at first i attributed it a prescription, then stress, then thought maybe i had developed lactose intolerance. i tried eliminating wheat, then dairy, then tried the wholedigitdigit elimation diet- nothing helped.  i even got a celiac disease test and had my tsh levels checked in case those were the cause of the problem.  even my doctor ran out of ideas. then i noticed that whenever i travelled my symptoms would disappear, and started focusing on things that were different when i traveled. i don’t take my vitamins along and then also realized all the problems started when i switched calcium brands.  i stopped taking them and symptoms disappeared in digitdigit hours, after months of daily misery and way too much time wasted in the bathroom.  i don’t know what is in this supplement that’s causing the problem, but i have never had an issue with a vitamin before. you couldn’t pay me to take these again. i am steering clear of this brand now because i don’t trust their products anymore.',\n",
              " 'the shea butter is very grainy and take a bit to warm in my hands to apply.<br />it has not been as effective as i hoped, but, i will continue to use it and see what happens.',\n",
              " 'i have lakanto granulated monkfruit sweetener and love it. this tasted mostly of that fake sweetener alcohol taste. i really wanted to like it but the alcohol is overwhelming.',\n",
              " 'i gave this a try after i couldnt get the nutri-dyn dynamic health drink. huge mistake. it has an odor that smells like sour milk and i had to drink it while holding my breath. awful taste for the salted caramel. i wish i could return this but now will just have to dump it.',\n",
              " 'i gave this a try after i couldnt get the nutri-dyn dynamic health drink. huge mistake. it has an odor that smells like sour milk and i had to drink it while holding my breath. awful taste for the salted caramel. i wish i could return this but now will just have to dump it.',\n",
              " 'i gave this a try after i couldnt get the nutri-dyn dynamic health drink. huge mistake. it has an odor that smells like sour milk and i had to drink it while holding my breath. awful taste for the salted caramel. i wish i could return this but now will just have to dump it.',\n",
              " 'he entire package was not sealed..anyone could have opened it and took whats inside....things inside could have fallen out or lost. this is the second time that it has happened. most of the time i received sealed package..except this one and one other one in the past. please seal the package completely.',\n",
              " 'they leak.  now i am stuck with three more packages.',\n",
              " 'i received this, and the cover was broken already.',\n",
              " 'the new formula tastes disgusting. so disappointed.',\n",
              " 'its still legal for them to sell this, however, as a pharmacist i can tell you its bad form to sell medication so close to its expiration date. how am i going to use that many ibuprofen in a month?',\n",
              " 'its still legal for them to sell this, however, as a pharmacist i can tell you its bad form to sell medication so close to its expiration date. how am i going to use that many ibuprofen in a month?',\n",
              " 'its still legal for them to sell this, however, as a pharmacist i can tell you its bad form to sell medication so close to its expiration date. how am i going to use that many ibuprofen in a month?',\n",
              " 'came opened with digit silica driers in it. it was most likely returned then repackaged with a new tape around the cap. threw it in the garbage. and just like that, they lost a regular customer.',\n",
              " 'of the last four bottles ordered, three had leaking gelcaps and two of the bottle safety seals (covering the opening of the bottle after the cap is removed) were not sealed at all, they stuck to the cap when i opened the bottle.<br /><br />x brand policy is no refunds on this item even though it was sold and shipped by x brand, so i contacted customer service and told them of the issues. they offered a refund.<br /><br />i never had a problem ordering these from x brand until recently. it may be they were stored in too hot a warehouse which causes gelcap leaking, but i dont know if thats the reason the safety seals were unattached. the bottles i received expire in oct. digitdigitdigitdigit, so they are still within their fresh window, but high temperatures will probably weaken their efficacy.',\n",
              " 'of the last four bottles ordered, three had leaking gelcaps and two of the bottle safety seals (covering the opening of the bottle after the cap is removed) were not sealed at all, they stuck to the cap when i opened the bottle.<br /><br />x brand policy is no refunds on this item even though it was sold and shipped by x brand, so i contacted customer service and told them of the issues. they offered a refund.<br /><br />i never had a problem ordering these from x brand until recently. it may be they were stored in too hot a warehouse which causes gelcap leaking, but i dont know if thats the reason the safety seals were unattached. the bottles i received expire in oct. digitdigitdigitdigit, so they are still within their fresh window, but high temperatures will probably weaken their efficacy.',\n",
              " 'this product from x brand has a horrible taste i always get mine from nutrition pit and it’s amazing i have no idea why this product is so horrible. can anyone help me message the seller',\n",
              " 'did nothing.',\n",
              " 'i liked these vitamins because i felt like i had more energy while taking them, but it made me and my baby extremely gassy with diarrhea (and fussy on her end). i’ve stopped taking them for about a week and our gas and her fussiness are completely gone. it’s a shame though because i’ve definitely noticed my energy dropping since switching to a different vitamin.',\n",
              " 'taste like garbage',\n",
              " 'came with a broken plastic cap. no scent and i didnt notice that it moisurizes',\n",
              " 'bag arrived open and seems a bit stale.  i do not see a way to contact the seller though.  for these reasons i would not recommend',\n",
              " 'these made me sick as a dog. i threw up several times, each time i tried them. dont buy them, warning..',\n",
              " 'day digit of this vitamin and i broke out in hives all over my face, neck, arms, and back. felt like lava being poured down my body. i like that this vitamin did not upset my stomach but will not continue taking.',\n",
              " 'they have been returned.',\n",
              " 'i received it expired with a month !!!! the gums are stuck together and dry, do not buy this product from this seller, look for it in a pharmacy or other seller',\n",
              " 'i received it expired with a month !!!! the gums are stuck together and dry, do not buy this product from this seller, look for it in a pharmacy or other seller',\n",
              " 'i received it expired with a month !!!! the gums are stuck together and dry, do not buy this product from this seller, look for it in a pharmacy or other seller',\n",
              " 'i forgot to read the reviews, something i always do … and im paying for it, drinking this horrible tasting, poor mixing supposedly vanilla protein drink. boy, what a disappointment … but thats what i get. dont order this stuff!',\n",
              " 'this is a good product. i use it often. however, with this bottle, all the capsules are stuck together.  i had to cut open the entire bottle, now i am trying to separate them.',\n",
              " 'i have a lot of trouble falling asleep, and often take melatonin to help out. these gummies are usually pretty good, but recently i ordered four bottles and every bottle is full of gummies that dont feel fresh. theyre harder and drier than others ive purchased in the past.<br /><br />even with the not-so-great bottles, this is one of the very few brands that seem to work. ive tried other melatonin supplements and they dont seem to work as well as these. i just wish the freshness was consistent.',\n",
              " 'i have a lot of trouble falling asleep, and often take melatonin to help out. these gummies are usually pretty good, but recently i ordered four bottles and every bottle is full of gummies that dont feel fresh. theyre harder and drier than others ive purchased in the past.<br /><br />even with the not-so-great bottles, this is one of the very few brands that seem to work. ive tried other melatonin supplements and they dont seem to work as well as these. i just wish the freshness was consistent.',\n",
              " 'impossible to chew, nasty flavor. spend a few more bucks on some quality protein.',\n",
              " 'didn’t work for me',\n",
              " 'i really wanted this to work for me. problem is that i started to take this in dec digitdigitdigitdigit when the pollen count is low here in ohio. i have tried a couple other different brands that say they have the same ingredient as zyrtec (cetirizine hcl digitdigit mg) and they did not work at all. i came across this one day and i figured with all the great digit star reviews, the cheap price compared to zyrtec and enough for a year, i would give it a shot. well, its now towards the end of march and ive been sneezing my head off and blowing my nose digitdigit times a day for the last couple days as the tree pollen is starting to rise. i soo wanted this stuff to work but just now ordered a twin digitdigit pack of zyrtec. oh well, i tried.',\n",
              " 'did not make it cold was hot and cold shipping was not effective',\n",
              " 'took one heaping teaspoon every morning. finished the entire container. feel no different.',\n",
              " 'are you guys serious? this is the second time i tried to purchase tmg. first time you sent me an iphone charging cable, this time you sent me a usb port... how are you still sellers??? i had this reshiooed internationally so cant return. have you ever actually sent anyone tmg or is this just a straight up scam. how does x brand allow this?',\n",
              " 'the taste of sucralose .....  awful!!!!  couldnt understand how digitdigit% gave digit star  until i came across a post.  nature bounty made some change ot this product and has not been the same.  firs t few days, it did help me to fall asleep.  i notie its effect wore away.  i kept increasing dosage.  currently,  at digitdigit tabs. very little help.  i happen to catch a post talking about magnesium.  added that and working on it.',\n",
              " 'i woke up after a few hours feeling nauseous and quite ill. i then had horrible stomach pains that caused me to literally fall to the floor. i couldnt get up i felt so weak and i was sweating. i laid there for about digitdigit minutes until i finally got up. it has to be this product because thats the only different thing i did.',\n",
              " 'pill size too big, nearly choked one time. the company should offer a chewable version of its product.',\n",
              " 'i havent had any issues with leaks, but the quality seems much less than that of the leading brand. the sides are not as stretchy and the absorbent inside seems to clump up into gross chunks on the inside of the diaper. i will not be purchasing again.',\n",
              " 'i havent had any issues with leaks, but the quality seems much less than that of the leading brand. the sides are not as stretchy and the absorbent inside seems to clump up into gross chunks on the inside of the diaper. i will not be purchasing again.',\n",
              " 'we have been purchasing this for over a year and loved it.  our last three purchases had to be thrown away because it tasted like plastic chemical.  so disappointed and cancelled our subscription.',\n",
              " 'these  orange gummies don’t have a good flavor or consistency compared to the red ones. they arrived clumped together and i have to pry into the jar to get one, maybe they melted on route or it’s the gummies themselves that are breaking down?',\n",
              " 'this is the worse tasting amino energy i have ever had',\n",
              " 'they’re ok at first but there is this weird almost metallic taste at the end.',\n",
              " 'they’re ok at first but there is this weird almost metallic taste at the end.',\n",
              " 'i like to try different vegan protein powders, even if i liked the one i had before, just to see what options are out there. this is by far one of the biggest disappointments. i try to get all organic products because i don’t like the level of pesticides allowed for non-org and they tend to taste better than non-org item do. in my opinion, the ingredients are cheap (only using rice and pea protein is a corporate money-saving move), and the flavor is just awful. the pea protein overpowers everything else in there and leaves a sour flavor as an aftertaste. the texture is really, really grainy as well. most vegan proteins are grainy to a certain extent owing to the veggie/rice/seed proteins used, but this is by far the worst offender yet. just gross. i was really hoping it would be a winner from what a great brand i’d heard this to be. wawaawaaa.',\n",
              " 'i like to try different vegan protein powders, even if i liked the one i had before, just to see what options are out there. this is by far one of the biggest disappointments. i try to get all organic products because i don’t like the level of pesticides allowed for non-org and they tend to taste better than non-org item do. in my opinion, the ingredients are cheap (only using rice and pea protein is a corporate money-saving move), and the flavor is just awful. the pea protein overpowers everything else in there and leaves a sour flavor as an aftertaste. the texture is really, really grainy as well. most vegan proteins are grainy to a certain extent owing to the veggie/rice/seed proteins used, but this is by far the worst offender yet. just gross. i was really hoping it would be a winner from what a great brand i’d heard this to be. wawaawaaa.',\n",
              " 'mostly these are ok, the flavors are pretty good but.....there is one flavor that is super strange and kind of gross. i cannot for the life of me figure out what it is supposed to taste like. they will also get stuck in your teeth. they are great value for money though and have all the essential things you need in a prenatal.',\n",
              " 'mostly these are ok, the flavors are pretty good but.....there is one flavor that is super strange and kind of gross. i cannot for the life of me figure out what it is supposed to taste like. they will also get stuck in your teeth. they are great value for money though and have all the essential things you need in a prenatal.',\n",
              " 'from my research i read an article that these were a good vitamin for the price.  i have an average knowledge of vitamins. unfortunately for me, every time i went to the bathroom throughout the day my urine was always a bright yellow.  i drink approximately digit-digit water bottles a day.  by the evening before i went to bed the color was not as bad but still there.  it seems something in these vitamins is off or too strong.  i’ve taken many other vitamins and had the typical bright color urine but typically it would wear off after going to the bathroom a few times.  unfortunately i’ve past the digitdigit day window so i can’t get a refund.',\n",
              " 'never received our tp. we sent a couple emails contacting seller, asking what happened? no response.  its been so long we have forgotten about it and now we are over it. taking the lose but learning a lesson to never buy from this seller again.',\n",
              " 'tried to buy stevia for my coffee in bulk so i picked these ... wrong choice!! this stuff does not taste in anyway as good as the liquid sweet leaf stevia brand. x brands policy does not allow me to return the unopened one to get any kind of credit back. wonderful !!  taste is horrible !! now it cost me $digitdigit.digitdigit for coffee sweetener !!',\n",
              " 'tried to buy stevia for my coffee in bulk so i picked these ... wrong choice!! this stuff does not taste in anyway as good as the liquid sweet leaf stevia brand. x brands policy does not allow me to return the unopened one to get any kind of credit back. wonderful !!  taste is horrible !! now it cost me $digitdigit.digitdigit for coffee sweetener !!',\n",
              " 'gave me bad stomach cramps and bloating for over digitdigit hours. felt miserable like i had a huge log in my stomach.',\n",
              " 'gave me bad stomach cramps and bloating for over digitdigit hours. felt miserable like i had a huge log in my stomach.',\n",
              " 'gave me bad stomach cramps and bloating for over digitdigit hours. felt miserable like i had a huge log in my stomach.',\n",
              " 'it is not as effective as pampers sensitive wipes, and it is not skin friendly as water based wipes. there are a little bit dry too.',\n",
              " 'does not hold as much as assurance and a bit too large',\n",
              " 'put a pill in cup of water and leave for couple hours see what you are left with???? looks like plastic to digest, plus they are huge!',\n",
              " 'i used this product on a daily/regular basis and didnt notice any difference from when i wasnt using it.  your results may be different, but i felt no different.',\n",
              " 'i never felt a boost in energy but the crash as the caffeine leaves the system is very taxing, which is a weird effect i have never encountered with other energy pills. i wouldn’t recommend this',\n",
              " 'this product contains vitamin ddigit and should not be ingested. for the best in vitamin d supplementation one should look for vitamin ddigit.',\n",
              " 'both the packaging and the individual spray bottles were unsealed. almost suspiciously so. i am very hesitant to ingest something that came unsealed like this...',\n",
              " 'i dont like writing bad reviews but this is a must. cause of this order i refuse to purchase anything edible through x brand ever again. i buy these at my gym and they are amazing. i decided to buy a box to save some money on single packets. this box came in great condition but every single packet in the box was disgusting. i was confused as to why my chocolate covered almonds were white and not brown when its dark chocolate. honestly didnt want it to go to waste cause some werent as bad as others so i attempted to try it but they were very stale and old. never again.',\n",
              " 'i dont like writing bad reviews but this is a must. cause of this order i refuse to purchase anything edible through x brand ever again. i buy these at my gym and they are amazing. i decided to buy a box to save some money on single packets. this box came in great condition but every single packet in the box was disgusting. i was confused as to why my chocolate covered almonds were white and not brown when its dark chocolate. honestly didnt want it to go to waste cause some werent as bad as others so i attempted to try it but they were very stale and old. never again.',\n",
              " 'i dont like writing bad reviews but this is a must. cause of this order i refuse to purchase anything edible through x brand ever again. i buy these at my gym and they are amazing. i decided to buy a box to save some money on single packets. this box came in great condition but every single packet in the box was disgusting. i was confused as to why my chocolate covered almonds were white and not brown when its dark chocolate. honestly didnt want it to go to waste cause some werent as bad as others so i attempted to try it but they were very stale and old. never again.',\n",
              " 'very bad packaging, the cap is broken. how can i use it? should i send it back?',\n",
              " 'very bad packaging, the cap is broken. how can i use it? should i send it back?',\n",
              " 'i’m sorry i ever ordered anything from x brand as many items were never received such as the item i now review. how do i give a positive review when i never received my product?',\n",
              " 'i made the mistake of trying the vanilla toffee. i did it twice and i had to switch to a new brand. the protein is high and does the job, but god this tasted awful. i tried to use water, cold water, almond milk, vanilla almond milk, but everything tasted disgusting. id rather be sore after a workout then taste this.<br /><br />the other flavors might be great, but do not get the vanilla.',\n",
              " 'got the flavor i didn’t ask for',\n",
              " 'based upon the front labeling, i ordered this product thinking that each capsule had digitdigitdigitmg of digitdigit% curcuminoids.  however, after receiving the product and reading the ingredients on the back carefully, each capsule actually has digitdigitdigitmg of proprietary organic curcumin complex which is composed of organic turmeric root and organic curcumin extract standardized to digitdigit% curcuminoids.  i contacted the company and asked them what was the percentage of organic curcumin extract.  they refused to answer.  therefore, i have to surmise the product is mostly turmeric root which has less than digit% curcuminoids.  so instead of getting more than digitdigitdigitmg of curcuminoids per capsule, there is most likely only around digitdigitmg per capsule which makes the product mostly useless.',\n",
              " 'i had been taking these for about a year, no problem. the last two bottles i’ve purchased i noticed random pills tasted horribly like sour fish. i did some research and apparently if any of the pills “leak,” it essentially flavors the rest of the bottle. it was so bad i threw out an almost full bottle and went with another brand.',\n",
              " 'i had been taking these for about a year, no problem. the last two bottles i’ve purchased i noticed random pills tasted horribly like sour fish. i did some research and apparently if any of the pills “leak,” it essentially flavors the rest of the bottle. it was so bad i threw out an almost full bottle and went with another brand.',\n",
              " 'i had been taking these for about a year, no problem. the last two bottles i’ve purchased i noticed random pills tasted horribly like sour fish. i did some research and apparently if any of the pills “leak,” it essentially flavors the rest of the bottle. it was so bad i threw out an almost full bottle and went with another brand.',\n",
              " 'it kind of tastes more like butter flavored whey protein more than actual butter.  its not good.... at all.  i most certainly will not be buying this again.  this is the digitnd garden of life keto product ive tried thats been an absolute bust.  they need to stick to probiotics and green formulas, and leave the keto stuff to somebody else.',\n",
              " 'it kind of tastes more like butter flavored whey protein more than actual butter.  its not good.... at all.  i most certainly will not be buying this again.  this is the digitnd garden of life keto product ive tried thats been an absolute bust.  they need to stick to probiotics and green formulas, and leave the keto stuff to somebody else.',\n",
              " 'it kind of tastes more like butter flavored whey protein more than actual butter.  its not good.... at all.  i most certainly will not be buying this again.  this is the digitnd garden of life keto product ive tried thats been an absolute bust.  they need to stick to probiotics and green formulas, and leave the keto stuff to somebody else.',\n",
              " 'today took my first one.... didn’t feel anything from no energy no thermogenic reaction nothing but like i said i have only taken one will review again once i take a few days to try them<br /><br />update: took my second tablet and went out and did some light yard work but i sweat a lot i don’t know if it was because of the tablets or i just did more then i thought and i’ve noticed they do give you energy but also jitters too will keep trying them out.<br /><br />can no longer take they are making me very nauseous and sick to my stomach',\n",
              " 'product came already opened even though there was a “seal”. the powder did leak inside the packaging so i lost<br />several servings. very disappointed.',\n",
              " 'will not be using since the seal was missing',\n",
              " 'i ordered the “naturally flavored vanilla” and they sent just “naturally flavored”. can’t even return it to get the right kind. was really excited now just kind of bummed. taste would have been much better if there was some.',\n",
              " 'although the packaging says unscented, it has a moderate citrusy fragrance.  i purchased the unscented one because i am very sensitive to scents and fragrances (i get headaches and itchy nose and skin).  in looking at the ingredients, it has lemongrass essential oil, so that is probably the source of the scent.  while i am sure it smells nice to those without this sensitivity, i would not call it unscented.  i got a refund.',\n",
              " 'had to take three scoops in order to feel any type of real energy from this product',\n",
              " 'it is terrible shampoo. it is very drying and leaves your hair feeling rough.conditioner doesn’t even help.',\n",
              " 'the cap was cracked in half and the seal was missing and alot of it leaked out in the box. not packaged at all very well!',\n",
              " 'flavor wasn’t close to what i was expecting. i will definitely try something else...',\n",
              " 'this is a really chewy gummy.  the flavor isnt horrible, but its not amazing either. its my least favorite of my morning supplements. i always leave it for last.',\n",
              " 'arrived damaged. not worth my time to send back.',\n",
              " 'i bought the digit-pound container of this wit vanilla flavor - had my first shake with it this morning. it tasted horrible!  a sickly sweet, cloying flavor with a strong under taste of coconut. i have used many protein powders over the past digitdigit years - none tasted worse than this.  i will attempt to return it.',\n",
              " 'package came broke! had powder all over my floor and inside the box!! requesting a refund',\n",
              " '!!!!!!--->>digitdigitdigit mg of sodium per digit scoop serving, with a recommended digit-digit scoops- possibly multiple times a day. use between major meals and before and after exercise woah. do the math! if you plan to use this to add some protein once a day and all else is pretty clean, then have at it. if you are using this to bulk up and need multiple servings each day (and/or are consuming anything canned, boxed, processed, or made in a restaurant), then beware, be mindful, and take heed to the excess sodium you are taking in. maybe blood pressure isnt an issue for you, but what about those excess pounds while you are trying to shred? excess sodium is not your friend.<br /><br />---dietary guideline for sodium is no more than digitdigitdigitdigit mg, per day. through food, drinks, and additional spices we easily top digitdigitdigitdigitmg or more. the idea is to push it back under digitdigitdigitdigitmg. so most people would do well to avoid high sodium products like this. the caveat is if you are someone who would benefit from replacing lost electrolytes from intense sweat producing workouts if the replenishment beverage also contains a balance of potassium and natural sugar. this product is not made to address that. there is no potassium in this product, and the only sugar comes from sucralose (like, little yellow packets of splenda).  the sodium appears to be for taste.<br /><br />even competitors have high sodium, but the highest brand is about half of what is here- given same amount of protein and grams per serving. crazy.<br /><br />-----now that is just about sodium. whats up with sucralose (splenda) being used to sweeten it up? i wont get into the potential health hazard of these artificial sweeteners, but i will say that artificial sweeteners can make us want more sugary foods- which is not helpful when we are trying to lose weight, or aiming to add muscle to our body. just drop the sweetener and maybe blend or shake in something cleaner, and easier on the mind and body.<br /><br />**dont care about any of that? here are some positives..<br /><br />--> taste. ok, so overall taste is fine. i used some unsweetened almond milk, ice, and a scoop of this product in a blender. the vanilla taste was rather bland. i typically like to blend in some frozen fruit and a couple of supplements, so the protein powder typically just serves as a base. after i made the basic smoothie, i added in a half of an under ripe banana. that seemed to make the vanilla pop, and the over taste improved.<br /><br />---> protein absorption. one thing thing product has over some is that this product contains digestive enzymes which research alludes to being vital in assisting in protein absorption, which is what we want from a protein powder. digitdigitdigit mg each of protease and bromelain for digitdigitdigitmg digestive enzyme blend.<br /><br />i like this last bit, a lot,  but the excess sodium will make me take a closer look at other products. i have a tendency to retain water as it is, so this is a no go for me. i think it is an easy fix for this company if enough people express sodium concerns.',\n",
              " 'i was previously taking probiotics from a different brand, it was time to refill and i wanted to save some money because hey, if you can find a quality product for a cheaper price then why not? your dollar is valuable and over-investing in expensive brands that display the exact results if not very similar results as a lower-named brand is pretty much like flushing your dollar down the drain.<br /><br />so i went with this brand, on the surface it looks very appealing. digitdigitdigit days of probiotics for the same price as a different brand which only has a quantity of digitdigit days. what could go wrong? for the most part everything. these probiotics did absolutely nothing for me over the week that i have been taking them. i even increased my intake and still i did not see any results.<br /><br />theres nothing wrong with trying to save money and picking up a good deal, but this is not a deal. from my personal experience it was like me throwing away my money.',\n",
              " 'ordered on may digitst and still have not received. tracking does not show any details. no email from seller, nothing. will not order from this seller again.',\n",
              " 'ordered on may digitst and still have not received. tracking does not show any details. no email from seller, nothing. will not order from this seller again.',\n",
              " 'the taste was very bad.  when you mix it, its really thick and the texture of it makes it tough to drink and all the metals dont help',\n",
              " 'the taste was very bad.  when you mix it, its really thick and the texture of it makes it tough to drink and all the metals dont help',\n",
              " 'the taste was very bad.  when you mix it, its really thick and the texture of it makes it tough to drink and all the metals dont help',\n",
              " 'the taste was very bad.  when you mix it, its really thick and the texture of it makes it tough to drink and all the metals dont help',\n",
              " 'the pump on my bottle was faulty. no matter how many times i spun it, nothing happened and it never popped up. i gave up and unscrewed it to get to the gel itself. the smell is ok, not great, but it was not all that bad. i am using clarisonic, so i was pouring it on the brush head to use it. it does clean my face all right. i did not notice much oil control, but it does not seem to make my face oilier, either.<br />there is no word on where it was made and by whom. quality of the pump itself does not inspire my confidence in their choices of ingredients and their source, either.',\n",
              " 'digit stars: i can’t even try the product due i received poor quality bottle from now, that was like melted at the time i received the set of bottles. i’m writing this review since i received product not as described or expected not matter the root cause. this is something that not supposed to happen with dietary supplement for safety and quality reasons. root cause for melted bottle container from now unknown. i’m big fan of now supplement do not know what happen here. never happened before when i bought directly to x brand services. so i don’t not what happened. but this review is for the product bought, and is awful experience. product delivered digitdigit-digitdigit-digitdigit. hope<br />this help. this is my unbiased and honest review about the product/item bought. digit stars since is unknown the safety issued. i can’t said was due shipping. that’s why i’m writing this review. thank you.',\n",
              " 'no noticeable change in joint pain.',\n",
              " 'i thought it would aid in my digestion with the high fiber content but i see so difference.',\n",
              " 'i thought it would aid in my digestion with the high fiber content but i see so difference.',\n",
              " 'i typically love x brand products but these were a fail for us.  very poor quality.  you can fill them because they will tear open if more than half full.  the plastic is extremely thin.  back to name brand bags for us.',\n",
              " 'i had to call in to work today because i just had an allergic reaction, and i dont even have food allergies--do not buy<br />it was terrifying to wake up first feeling a strange tingly feeling on my face, which initially, my half-asleep brain thought was a stroke, immediately ruining the remaining few hours of sleep i *would have* gotten. then i felt my face, and my lip was extremely swollen in the middle. i ran to the mirror, and i saw more of my face was swollen. thankfully not my tongue or throat, but now i’m sitting here with ice and drowsiness from a benadryl, making sure it doesn’t get worse and cause me to choke to death. so yeah. again, do not buy',\n",
              " 'i had to call in to work today because i just had an allergic reaction, and i dont even have food allergies--do not buy<br />it was terrifying to wake up first feeling a strange tingly feeling on my face, which initially, my half-asleep brain thought was a stroke, immediately ruining the remaining few hours of sleep i *would have* gotten. then i felt my face, and my lip was extremely swollen in the middle. i ran to the mirror, and i saw more of my face was swollen. thankfully not my tongue or throat, but now i’m sitting here with ice and drowsiness from a benadryl, making sure it doesn’t get worse and cause me to choke to death. so yeah. again, do not buy',\n",
              " 'this item does not work',\n",
              " 'i dont take these supplements anymore they are a statin',\n",
              " 'i think its sugar coated too much!',\n",
              " 'price is too high. bought it for $digitdigit and after digit days it’s listed for $digitdigit. if i have to return this i need to pay $digit towards shipping even though prime. cheap tricks.',\n",
              " 'disappointed',\n",
              " 'l-arginine increases uric acid in the blood and kidneys. the first time i took this (digitdigitdigitdigit mg/day), digit weeks later i had a major gout attack in my knee. the second i took it (digit months later), i developed a uric acid kidney stone, also digit weeks later. i dont think there is anything wrong with the product itself, but the dosage is definitely too high for my system even when i drank a gallon of water over the course of a day. i will never take it again. use this with caution, and drink *lots* of water.',\n",
              " 'really disappointed,i didnt receive any item, been digitweek waiting for the product but nothing happen',\n",
              " 'i bought it for sore muscles. the oil is not the problem. the stopper was inserted incorrectly, the seal was broken, the lid does not fit properly (lid and seal ring are not even the same color! one is black, one white.)...however, no oil had leaked out. the scent is not as strong as other wintergreens ive had.',\n",
              " 'this is very hard to mix in water.. it also makes me sweat like when i eat fruit so that means it has fruit stuff besides the fiber from the fruit. bad for fructose intolerant people and also a pain to mix. get whole husk psyllium instead and avoid this.',\n",
              " 'this is very hard to mix in water.. it also makes me sweat like when i eat fruit so that means it has fruit stuff besides the fiber from the fruit. bad for fructose intolerant people and also a pain to mix. get whole husk psyllium instead and avoid this.',\n",
              " 'i have been using this brand for the past digit years with no issues until now. i just received a new bottle after opening it the pills looked a different color but i didnt realize the ingredients have changed.  digitdigit minutes after taking them i broke out in red itchy/burning blotches on my neck, arms and knees.  i will never use this product again. it is such a shame that these healthier companies are selling their good product to top companies and in tern are producing such poor quality products. please research before purchasing!',\n",
              " 'i have been using this brand for the past digit years with no issues until now. i just received a new bottle after opening it the pills looked a different color but i didnt realize the ingredients have changed.  digitdigit minutes after taking them i broke out in red itchy/burning blotches on my neck, arms and knees.  i will never use this product again. it is such a shame that these healthier companies are selling their good product to top companies and in tern are producing such poor quality products. please research before purchasing!',\n",
              " 'i have been taking these for over a month now and never liked the taste, but its gotten to the point where i dread taking them and the taste of them makes me vomit. they do seem to be gentle on the stomach in general, i just cant stomach the taste anymore.',\n",
              " 'it didnt give me any boost!! i took a lot of products that actually worked so much better than this.. but it still tastes good.',\n",
              " 'i had bought two digit lb. tubs of cookies and creme over the past few months and they were fine: not the greatest tasting, but okay. i bought another one last week and it tasted nothing like the others. im not sure if its a peanut butter kind of taste or closer to banana, but it isnt good and has a bad aftertaste.. also the texture changed: now its not as dense. i called on and the guy said sometimes flavor can vary from time to time. ?? a hershey bar doesnt change in taste. anyhow, x brand sent me another and its the same taste. i did notice that both had a label hanging from the top stating amazing great taste (never seen this before). i wonder if all of their flavors have changed.',\n",
              " 'i had bought two digit lb. tubs of cookies and creme over the past few months and they were fine: not the greatest tasting, but okay. i bought another one last week and it tasted nothing like the others. im not sure if its a peanut butter kind of taste or closer to banana, but it isnt good and has a bad aftertaste.. also the texture changed: now its not as dense. i called on and the guy said sometimes flavor can vary from time to time. ?? a hershey bar doesnt change in taste. anyhow, x brand sent me another and its the same taste. i did notice that both had a label hanging from the top stating amazing great taste (never seen this before). i wonder if all of their flavors have changed.',\n",
              " 'i had bought two digit lb. tubs of cookies and creme over the past few months and they were fine: not the greatest tasting, but okay. i bought another one last week and it tasted nothing like the others. im not sure if its a peanut butter kind of taste or closer to banana, but it isnt good and has a bad aftertaste.. also the texture changed: now its not as dense. i called on and the guy said sometimes flavor can vary from time to time. ?? a hershey bar doesnt change in taste. anyhow, x brand sent me another and its the same taste. i did notice that both had a label hanging from the top stating amazing great taste (never seen this before). i wonder if all of their flavors have changed.',\n",
              " 'who is the dumb marketing genius who put this trio together?  now is a great company on supplements and essential oils. im sure it comes from somewhere in china where robots are being mass produced to take over the world, but, well, its quite inexpensive and usually seems to be the real stuff....their yiang yiang is the best....that being said, sage is a stimulant.  hell, you might as well put in some thyme and oregano and black pepper if you really want to get jacked up.  there is nothing about sage that will make you sleep.  as an essential oil, its just flat out bad.  perhaps the thinking here...a common oil blended with these other digit....was clary sage.',\n",
              " 'noticed this weird red almost oily substance mixed in at the bottom of my cup as i was finishing my drink. i only added water to the powder and my cup was clean before i drank it. i’m wondering what this possibly could be.',\n",
              " 'these did not give my baby a rash or anything, but i just really dont like them.<br /><br />i thought they were not wet enough, so it took more of them to clean up messes. they also get stuck together a little too often, so when you try pulling out just one you end up getting a chain of them. lastly, they had a weird smell which i didnt like.<br /><br />im going to keep using them because i bought them, but will try to only do so on spills and stuff rather then my babys body. will not buy again.',\n",
              " 'these did not give my baby a rash or anything, but i just really dont like them.<br /><br />i thought they were not wet enough, so it took more of them to clean up messes. they also get stuck together a little too often, so when you try pulling out just one you end up getting a chain of them. lastly, they had a weird smell which i didnt like.<br /><br />im going to keep using them because i bought them, but will try to only do so on spills and stuff rather then my babys body. will not buy again.',\n",
              " 'expires in digit year for a digit year supply',\n",
              " 'never received the product',\n",
              " 'this product tastes like a leaf. some people might be a fan but i could not stand it . sent it back.',\n",
              " 'i received a few sample diapers from a baby welcome box from x brand. they seemed amazing. i bought a box and was very disappointed. they seemed so different. the material seemed papery like luvs. the print was cute. the cut was weird around the kegs and didn’t fit my babe good which caused a lot of leaks. we had daily diaper blowouts every time baby pooped. the cost was great!',\n",
              " 'smoothies- chalky taste',\n",
              " 'definitely moisturizes your skin but i think i may have had an allergic reaction to it. any time i applied it my skin (face) it would get red and warm.',\n",
              " 'holy cow... digit giant scoops and a lot of water to get proper calories..  im drinking one scoop instead and it requires way too much...',\n",
              " 'great product. i was just a little allergic.',\n",
              " 'diaper leaks. we tried this diaper a few times. very disappointed. we will stick to huggies and pampers.',\n",
              " 'they put the cheapest protein pea protein. same high price and less probiotics.',\n",
              " 'they put the cheapest protein pea protein. same high price and less probiotics.',\n",
              " 'ive been buying this protein for months now and was dissapointed with what i recieved today. the protein came with no scooper and made me nauseous after drinking it. not good',\n",
              " 'ive been buying this protein for months now and was dissapointed with what i recieved today. the protein came with no scooper and made me nauseous after drinking it. not good',\n",
              " 'this is the best supplement ive ever used. it is filling, flavorful, and it all blends easily with any form of liquid. the only downside is the price! about two months ago its original cost was $digitdigit. as of now it is close to double that amount. why?<br /><br />psa:<br />if you’re interested in this protein powder i would more than likely suggest you to wait for the price to lower down a bit and buy as many as you possibly can before its price flunctuates again!',\n",
              " 'i guess i will need to start shopping at walgreens again',\n",
              " '*received free bottle for review *<br />i started with digit pill digit hours before meals for digit days and then digit pills before meals after that. ive found that it works better for me to eat between digitdigit-digitdigit minutes after taking them. after digit weeks i noticed that i was averaging a loss of digit/digit pound per week and stomach fat reduction, not drastic just slight.<br /><br /> i added intermittent fasting digitdigit:digit and some days omad at the start of the digitnd bottle. eating lots of veggies and protein. exercise digit days cardio and strength training. digitdigitdigitdigit-digitdigitdigitdigit calories or less some days.<br /><br />this regimen has me losing digit-digit lbs per week! i also take the pills during fasting hours and seems to work well. it doesnt suppress my appetite as in the first digit weeks though. i think it just blocks the fat at this point.<br /><br />baby weight is coming off, c-section flap is shrinking but i honestly believe it is mostly due to intermittent fasting, diet changes and exercise.<br /><br />update: digit/digitdigit/digitdigit<br />ive noticed in digit weeks of no exercise and diet the pills did not work. ive researched and found that these are standardized to digitdigit% hca and that may be why im not seeing any results from the pills on their own. ive found other brands that are made in usa standardized to digitdigit-digitdigit% with digitdigitdigit% pure garcinia cambogia. ill have to try another brand. this is my honest review.',\n",
              " 'i have previously purchased these cookies both at costco and x brand. they were delicious cookies. this time, however, the cookies had either been stored in a hot warehouse or delivery truck. the cookies had melted and the stuck together, making a big mess. these could not be served to anyone.',\n",
              " 'really bad taste i have been buying this product every digit months and now the flavor has changed and it is not good',\n",
              " 'really bad taste i have been buying this product every digit months and now the flavor has changed and it is not good',\n",
              " 'worst taste of any supplement i’ve ever used. if i could return it, i would.',\n",
              " 'its disgusting. the entire container reeks of maple syrup, ruins the whole experience. second worst are the new donuts favors. it took a solid digitdigit minutes to pick them all out.',\n",
              " 'horrible taste, like too many chemicals. vega is much better',\n",
              " 'i wanted these to work well. every single diaper left the inner absorbency pieces all over her butt. which irritated her skin. and because i assume the diapers had a hole somewhere, they leaked.',\n",
              " 'this protein powder doesnt have a terrible taste, but it left me with lingering sucralose headaches. i usually avoid sucralose, so perhaps this is fine for people that are used to it, but i would get mild headaches every time i used this powder.<br /><br />it mixes very well with fruit and veggies for a shake, and adds a decent flavor.',\n",
              " 'this protein powder doesnt have a terrible taste, but it left me with lingering sucralose headaches. i usually avoid sucralose, so perhaps this is fine for people that are used to it, but i would get mild headaches every time i used this powder.<br /><br />it mixes very well with fruit and veggies for a shake, and adds a decent flavor.',\n",
              " 'ive never had a harder time opening a bottle of any supplement, than i had with this nature made prenatal gummies. and after struggling with it for five minutes, i finally opened it, so i transferred all the gummies into another container. i like these gummies because they are made with natural ingredients, and include most of the nutrition one needs when planning to get pregnant, or while being pregnant. and even after delivery, because if breastfeeding, one still needs to have the best nourishment possible.<br /><br />but the main reason i chose these nature made prenatal gummies, is because these dont have any iron. and i take my iron supplement separately, every other day. i cant take it every day because iron makes me constipated, and i still need the others supplement nutrition every day. these gummies also taste good, and while they need lots of chewing, these are gentle on my stomach. i hope that the lid issue gets solved, so i can continue to order these gummies in the future.',\n",
              " 'not sure why, but these cause severe heartburn.  i switched to a different brand gummy that seems to work. your mileage my vary.',\n",
              " 'product had an expiration date less than one month from purchase. company did not respond to my complaint.',\n",
              " 'flavor was good but gummies are too soft and melt too easily. sticky to chew.',\n",
              " 'flavor was good but gummies are too soft and melt too easily. sticky to chew.',\n",
              " 'flavor was good but gummies are too soft and melt too easily. sticky to chew.',\n",
              " 'nothing as described very disappointed its a shame that they have to bribe people to write a good review ( free bottle )<br />did nothing  for my appetite in fact made me more hungrier plus nauseated at the same time....no improvement in mood actually felt more tired, and i have tried digit-htp in the past with great results which leads me to believe this is a brand issue....i wont be buying from this supplier anymore i will go forth with walmart instead...',\n",
              " 'nothing as described very disappointed its a shame that they have to bribe people to write a good review ( free bottle )<br />did nothing  for my appetite in fact made me more hungrier plus nauseated at the same time....no improvement in mood actually felt more tired, and i have tried digit-htp in the past with great results which leads me to believe this is a brand issue....i wont be buying from this supplier anymore i will go forth with walmart instead...',\n",
              " 'product gave severe itching allergic reaction<br />within a few days. i didnt do loading, just recommended digitg a day. do not reccomend!',\n",
              " 'i have been using this product for several months now, i would only buy the tablets because i had never use the capsules i know that the the tablets work. almost every bottle i have purchased where they have been the capsules and not the tablets, there has been an issue where the capsules have opened or the the seal pack the fresh packs have been ripped open at the bottom of the bottle. i have not been able to use completely the product. this never happened when ive ordered super enzymes the tablets, only when i have ordered the capsules. this is an excellent product for someone who has digestive issues, lack of a gallbladder, or just in general wants some assistance outside of yogurt or probiotics with their digestive issues. great product, i gave it one to two stars because of how many times ive ordered a bottle of the capsules, not the tablets, and once i received that unopened bottle of capsules and open the package, the powder and the capsules were already ruined and the fresh seal packet was open. i have been to the doctor and im fine i ingested very little of the dust that comes with within the fresh packets. do invest in the now super enzymes product, go for the tablets i am digitdigitdigit% sure you will never get a defective bottle as long as you get the tablets.',\n",
              " 'i ordered these after reading the good reviews.<br />however, when i received the bottle... the seal was broken.<br />its important to have a seal intact for any supplements and medications... disappointed!',\n",
              " 'it is so so b/c the expiration date would be little bit soon.',\n",
              " 'i just love these gummy’s but i will not order them again because they got sugar in them i’ll just have to find something else',\n",
              " 'it came in like this and the seal was broken',\n",
              " 'they are delicious, but almost half the box were all broken.',\n",
              " 'i took these for a three weeks and had constant and increasing muscle aches and pain.  i had started a couple other supplements at the same time.  so i stopped one at a time for a couple of days each until the aching stopped.  the aching ceased  when i stopped the l glutamine.  i stayed off all supplements for a couple more days, then tried the glutamine again by itself to be sure that was it.  the aches and pain came back.  i figure my body is telling me i dont need it.  there is no flavor.  the price is a little high, as are all quality supplements.  no higher and a lot less than most prescription meds if it works for you.  everyone is a little different.',\n",
              " 'shipping took forever! i ordered digit other bottles from digit separate retailers in addition to this one over a week later and got both of those even a week earlier than i got this one.',\n",
              " 'great prenatal. a bit fishy probably wouldn’t buy again because of the fish taste.',\n",
              " 'great prenatal. a bit fishy probably wouldn’t buy again because of the fish taste.',\n",
              " 'my body does not seem to like this form. it gave me a headache. niacinamide works better for me, and no headache.',\n",
              " 'give nauseas, maybe to much toxics stuff on there and did not work.<br />i tried different atp from others brand.<br />waste of money',\n",
              " 'i keep trying to use this in small amounts but it gives me bad headaches. i have used other asorbic acid crystals without a problem. not sure what is going on with this product. i will be looking into the source of this asorbic acid.',\n",
              " 'i keep trying to use this in small amounts but it gives me bad headaches. i have used other asorbic acid crystals without a problem. not sure what is going on with this product. i will be looking into the source of this asorbic acid.',\n",
              " 'i had the same experience that a lot of people mentioned. what i bought at costco it was great but what i received from x brand upset my stomach, caused headaches, etc. and flat out just didn’t do anything. something is different even if the label reads all the same ingredients.',\n",
              " 'i had the same experience that a lot of people mentioned. what i bought at costco it was great but what i received from x brand upset my stomach, caused headaches, etc. and flat out just didn’t do anything. something is different even if the label reads all the same ingredients.',\n",
              " 'oh yuck. just yuck. double chocolate is chalky, not overly sweet like others have claimed, and doesn’t blend well no matter what it’s mixed with.  if taste and texture are unimportant to you then this is probably a good product.  me, i’m figuring out what else to do with this digitlb tub. might make a good paperweight.',\n",
              " 'oh yuck. just yuck. double chocolate is chalky, not overly sweet like others have claimed, and doesn’t blend well no matter what it’s mixed with.  if taste and texture are unimportant to you then this is probably a good product.  me, i’m figuring out what else to do with this digitlb tub. might make a good paperweight.',\n",
              " 'i wanted to be a fan of these, but they just werent for me.  it got to the point where i wanted to avoid taking them because i did not like the flavor and the strong after taste in my mouth.  i ended up buying some different vitamins instead and got rid of these.  if you like really strong, lasting citrus flavors then these might be for you, but honestly they were so strong that they made me gag a little bit.  (side note- i was using these in the first months of pregnancy, so it could have also been part of the morning sickness i was experiencing)',\n",
              " 'i wanted to be a fan of these, but they just werent for me.  it got to the point where i wanted to avoid taking them because i did not like the flavor and the strong after taste in my mouth.  i ended up buying some different vitamins instead and got rid of these.  if you like really strong, lasting citrus flavors then these might be for you, but honestly they were so strong that they made me gag a little bit.  (side note- i was using these in the first months of pregnancy, so it could have also been part of the morning sickness i was experiencing)',\n",
              " 'maltodextrin is horrible. its the primary carbohydrate in this mix-and its cheap. its higher on the glycemic index than table sugar. i bough this bag not realizing that it was the first ingredient in the mix. im throwing this bag out. eat clean food with high carbs if thats what you need. yeah harder to swallow in mass if you need it quickly but this trash will wreck your body. just skip it altogether. this is the stuff that gives the supplement industry a bad name.',\n",
              " 'i take other gummy vitamins,  but these are gross.',\n",
              " 'i take other gummy vitamins,  but these are gross.',\n",
              " 'these tasted really bad and i was kinda pissed because i bought digit of these. i ended up giving them away and they still got thrown out. they work okay for what they are but none of us could get past the awful, weird taste.',\n",
              " 'these tasted really bad and i was kinda pissed because i bought digit of these. i ended up giving them away and they still got thrown out. they work okay for what they are but none of us could get past the awful, weird taste.',\n",
              " 'these tasted really bad and i was kinda pissed because i bought digit of these. i ended up giving them away and they still got thrown out. they work okay for what they are but none of us could get past the awful, weird taste.',\n",
              " 'didn’t see any difference',\n",
              " 'i ordered this because it was a little cheaper and you get alot more than what ive been buying. there is absolutely no coffee flavor in this drink whatsoever which is terribly disappointing since i purchased it to replace my morning coffee. it is a decent tasting chocolate however if i wanted a chocolate drink i would have ordered one. when this is finished ill be going back to my normal drink. if you want something to fill you up and dont care about the lack of coffe flavor then this will probably work fine for you.',\n",
              " 'maybe this would work for some people but my partner saw no change after finishing the whole bottle. more and more i’m thinking digitdigit.digit% of supplement just don’t work.',\n",
              " 'dislike',\n",
              " 'the gel-tabs were multiple colors and had a strange odor. it appears to be a bad batch that quality control missed.',\n",
              " 'the gel-tabs were multiple colors and had a strange odor. it appears to be a bad batch that quality control missed.',\n",
              " 'the gel-tabs were multiple colors and had a strange odor. it appears to be a bad batch that quality control missed.',\n",
              " 'i am using this product since long but never had bad experience before this order,somehow its not tasting good and i feel like i should not use ,can x brand please review this delivered product and let us know on quality of this product.',\n",
              " 'it’s clumpy don’t blend well it’s always chunks.  the flavor wasn’t as i expected. but is it worth the money u pay yes it’s. i’d rather pay more and get something i can actually drink. this wasn’t for me',\n",
              " 'when we opened the tin all the cookies were stuck together.',\n",
              " 'several tablets were broken in half. i guess not that important but quality control maybe a problem. i have not experience this name brand products.',\n",
              " 'my first advice, do not buy banana flavor. the artificial flavor taste very very fake at the point that made me feel dizzy taking digit scoops only. in my case instead of gain i lost muscle mass.',\n",
              " 'my first advice, do not buy banana flavor. the artificial flavor taste very very fake at the point that made me feel dizzy taking digit scoops only. in my case instead of gain i lost muscle mass.',\n",
              " 'my first advice, do not buy banana flavor. the artificial flavor taste very very fake at the point that made me feel dizzy taking digit scoops only. in my case instead of gain i lost muscle mass.',\n",
              " 'i honestly dont know what i was expecting when i bought this but this product doesnt work at all and i do not recommend anyone wasting their money on it.',\n",
              " 'i do not like the taste, so idk if it works. if you like weird blueberry taste then go for it but i wish there was a different flavor.',\n",
              " 'i do not like the taste, so idk if it works. if you like weird blueberry taste then go for it but i wish there was a different flavor.',\n",
              " 'i do not like the taste, so idk if it works. if you like weird blueberry taste then go for it but i wish there was a different flavor.',\n",
              " 'terrible flavor and texture, i threw out digitdigit% of the package due to the kids gagging, they couldnt get past the flavor and the chalky texture to chew and shallow. digit kids aged digit-digitdigit tried them and they all had the same opinion',\n",
              " 'terrible flavor and texture, i threw out digitdigit% of the package due to the kids gagging, they couldnt get past the flavor and the chalky texture to chew and shallow. digit kids aged digit-digitdigit tried them and they all had the same opinion',\n",
              " 'i took a chance on this brand and was sadly very disappointed. not impressed on how it was packaged. very disappointed when i poured it and tasted it. poured like water and tasted like pancake syrup. expensive pancake syrup. will not buy again. would not have given it one star but i couldnt submit otherwise.',\n",
              " 'worst tasting vitamin i have ever had! hopefully the benefits are worth it. take the pill version - not the gummy. you do not want to savor this flavor.',\n",
              " 'this stuff makes me sick every time i have tried it. definitely will not order again. threw rest of container. now sports nutrition, creatine monohydrate powder i find to be a far more natural energy boost. make it your own flavor by adding a little digitdigitdigit% juice of your choice.',\n",
              " 'this stuff makes me sick every time i have tried it. definitely will not order again. threw rest of container. now sports nutrition, creatine monohydrate powder i find to be a far more natural energy boost. make it your own flavor by adding a little digitdigitdigit% juice of your choice.',\n",
              " 'this stuff makes me sick every time i have tried it. definitely will not order again. threw rest of container. now sports nutrition, creatine monohydrate powder i find to be a far more natural energy boost. make it your own flavor by adding a little digitdigitdigit% juice of your choice.',\n",
              " 'i hate that i have to take digit of these in one day, that’s my biggest complaint. and the flavor makes my tummy kinda queasy.',\n",
              " 'i have used this product purchased from a store in the past. the texture and firmness was not upheld do to the heat outside despite the package having a cool pack.  i’ll still use the product, however i will not order again.',\n",
              " 'i have used this product purchased from a store in the past. the texture and firmness was not upheld do to the heat outside despite the package having a cool pack.  i’ll still use the product, however i will not order again.',\n",
              " 'been using this bcaa for over digit years never had an issue with the taste.  did i get a bad batch?  will not reorder from this distributor again.',\n",
              " 'no good 👎🏼',\n",
              " 'for me this product is not working. i have to either double the dosage or take tums alongside. very disappointed. it’s cheap but i will pay more for something that works and does what the label says',\n",
              " 'the flavor of this product is nasty. do not recommend!',\n",
              " 'there were only digitdigit capsules in the container, not digitdigit. two of them were broken. so i paid for digitdigit capsules and only got digitdigit. other people seem to have had the same issues so it’s not a one-time “mistake.”',\n",
              " 'it does the job – taste great and i like the composition and ability to mix it with other items. the only thing is misleading is the packaging: where almost half of the container is practically empty!! this waste a lot of space for storage in my pantry and i don’t understand why they do that!',\n",
              " 'thick and sticky, which i guess is par for the course for glycerin before it’s diluted.  but it stung when i put it on my skin.',\n",
              " 'thick and sticky, which i guess is par for the course for glycerin before it’s diluted.  but it stung when i put it on my skin.',\n",
              " 'i needed this product for a keto recipe and this was the only brand available through prime.  i make many sugar-free and low carb desserts for friends and neighbors who are diabetic or on keto diet. (example pictured above)  i used the glycerite today and it ruined the recipe and i had dump expensive ingredients and  start over.  wound up using some sugar-free “maple syrup” that i had instead.  the glycerite is incredibly bitter and leaves a horrible aftertaste even when just using a tiny amount.  and it cost $digitdigit for digitoz.  do not waste your money. packaging was fine though.  ha',\n",
              " 'both the safety seal and the black cap were broken.',\n",
              " 'i think its a bad idea to have melatonin in these. i understand why its in them, but people dont realize that melatonin can make depression, and anxiety worse. just be aware if youre taking these to help your mental health. you might be better off with aome hot tea, and a book, or maybe a calming youtube video. melatonin can also make nightmares occor more often, and to be more vivid. just be careful with them.',\n",
              " 'i like that it smells good. too bad when i receive it in the mail the lid was off and the coconut oil was all over the jar and inside the packaging.',\n",
              " 'i definitely noticed an energy and fullness difference after adding this to my morning smoothie. however, i also noticed that no matter how much fruit and other flavor i put in, there was always a strong flavor of a handful of dirt. not even good, clean dirt from your front lawn. dirt that you got from the side of the freeway. so if you dont mind that, its a slightly expensive way to add nutrients to your smoothie. or you could skip it and just add wholesome, tasty whole foods instead.',\n",
              " 'this should not be sold. a melted mess horrible',\n",
              " 'truly unsatisfied and disappointed.<br />it was such a big hype abt it but it does not give me much energy as i would expect and now im stuck with it.<br />drinking it was hard becuz its soooooo sweet!<br />for $digitdigit is not worth it!',\n",
              " 'chalky texture and terrible taste.  used a shaker blender cup.  i tried it with both water and almond milk - same bad taste and chalky texture.<br /><br />attempted to return it...no returns???',\n",
              " 'chalky texture and terrible taste.  used a shaker blender cup.  i tried it with both water and almond milk - same bad taste and chalky texture.<br /><br />attempted to return it...no returns???',\n",
              " 'chalky texture and terrible taste.  used a shaker blender cup.  i tried it with both water and almond milk - same bad taste and chalky texture.<br /><br />attempted to return it...no returns???',\n",
              " 'these gave me some of the worst stomach pain ive ever had. you have to throw up to get rid of it, its terrible in the upper belly region. so many good reviews vs. the bad ones, so perhaps it affects people differently. be careful.',\n",
              " 'these gave me some of the worst stomach pain ive ever had. you have to throw up to get rid of it, its terrible in the upper belly region. so many good reviews vs. the bad ones, so perhaps it affects people differently. be careful.',\n",
              " 'i purchased these in feb digitdigitdigitdigit. i stored them in a cool, dry place just like the rest of my supplements. i don’t take nac often, usually only after i drink alcohol, so i did not open the bottle more than digitdigit or so times.<br /><br />within the last month i noticed dark spots developing. no longer taking these, and hoping i can get a refund. this is unacceptable.',\n",
              " 'i purchased these in feb digitdigitdigitdigit. i stored them in a cool, dry place just like the rest of my supplements. i don’t take nac often, usually only after i drink alcohol, so i did not open the bottle more than digitdigit or so times.<br /><br />within the last month i noticed dark spots developing. no longer taking these, and hoping i can get a refund. this is unacceptable.',\n",
              " 'i usually purchase this product but this bottle tastes terrible, like something is very wrong with it. sending it back.',\n",
              " 'i usually purchase this product but this bottle tastes terrible, like something is very wrong with it. sending it back.',\n",
              " 'flavor was great, but i didnt feel any sort of energy boost. i was using cdigit previously and that made me a little itchy, so i decided to change it up and i just dont feel anything with this.',\n",
              " 'smelled fishy. probably rancid. unfortunately we did not open the bottle until after the digitdigit day limit.',\n",
              " 'smelled fishy. probably rancid. unfortunately we did not open the bottle until after the digitdigit day limit.',\n",
              " 'smelled fishy. probably rancid. unfortunately we did not open the bottle until after the digitdigit day limit.',\n",
              " 'these soft gels are just too large to swallow. i gave these one star across the board, not for quality, but for size.  each is digit inch long and very plump with contents.',\n",
              " 'i added this to my smoothie & it did not mix at all and there were huge clumps of powder in it (i have never had this issue with the chocolate flavor.) the vanilla flavor is really bad, i had to return it. also, there was no scoop in there?!',\n",
              " 'i added this to my smoothie & it did not mix at all and there were huge clumps of powder in it (i have never had this issue with the chocolate flavor.) the vanilla flavor is really bad, i had to return it. also, there was no scoop in there?!',\n",
              " 'i added this to my smoothie & it did not mix at all and there were huge clumps of powder in it (i have never had this issue with the chocolate flavor.) the vanilla flavor is really bad, i had to return it. also, there was no scoop in there?!',\n",
              " 'nutri catalog did not delivered the nature made potassium gluconate digitdigitdigit mg tablets digit pack i ordered recently. instead of it, nutri catalog delivered a roll of craftableds permanent vinyl i never ordered. please, and to whom it may concern, deliver my original order asap!!!',\n",
              " 'nutri catalog did not delivered the nature made potassium gluconate digitdigitdigit mg tablets digit pack i ordered recently. instead of it, nutri catalog delivered a roll of craftableds permanent vinyl i never ordered. please, and to whom it may concern, deliver my original order asap!!!',\n",
              " 'i dislike being asked to review something i never ordered',\n",
              " 'do not buy, unless you are some health nut loser.',\n",
              " 'do not buy, unless you are some health nut loser.',\n",
              " 'i received my order today and this was carelessly thrown into the box with other items.  when i opened the box this bag was open and the contents were spilled out all over the place. i am truly disappointed in the careless manner in which x brand ships products these days!',\n",
              " 'never again. we just spent our third trip to the er with severe diaper rash to a point my babies bum bled. they also leak everbadly so if you dont change in one pee prepare for a bad mess. this is the digitth perscription she is put on to try and clean this up. i do not recommend',\n",
              " 'this smelled strong like fish when i opened it. the bottle didn’t look the same as the nordic naturals ddigit i have used. it did not smell the same. the item isn’t eligible for return. i don’t trust this product. looks like it’s going in the trash. i recommend purchasing elsewhere.',\n",
              " 'this smelled strong like fish when i opened it. the bottle didn’t look the same as the nordic naturals ddigit i have used. it did not smell the same. the item isn’t eligible for return. i don’t trust this product. looks like it’s going in the trash. i recommend purchasing elsewhere.',\n",
              " 'do not use this seller! tried to cancel order as soon as shipping method was processed because they use delivery service that has a ton of horrible reviews online and i had never heard of before. didnt want service at my home.  cancelled before left facility but shipped to me anyway.  was charged return shipping and digitdigit% restocking fee. product available for much better deal elsewhere.',\n",
              " 'great taste. not as much potency as a regular multivitamin gummy.',\n",
              " 'never got the order!',\n",
              " 'i like gummy vitamins, but these were too sweet for my liking. im going to switch to another brand.',\n",
              " 'i like gummy vitamins, but these were too sweet for my liking. im going to switch to another brand.',\n",
              " 'the bottle was missing the protective seal which means it was previously opened. can not trust this seller.',\n",
              " 'the adhesive is not good on this and it slides around quite a lot. otherwise its great, but that can be a really big problem.',\n",
              " 'all the gummies are stuck together and hard to remove from jar.  the bottom ones ill have to toss because its as though theyre all melted together.  its as though its one big ball of gummy!!',\n",
              " 'the seal was broken when i received this item.',\n",
              " 'i developed an allergic reaction to this product - likely too much sulfur.  it was a gradual onset that developed into a full blown red, itchy rash of the whole body and most severe around both eyes.  use with care!',\n",
              " 'i received this product yesterday, by the time it was delivered to my house it must have been in the truck all day, product was melted. very unhappy with x brand food delivery.',\n",
              " 'didnt taste great used it for almost digit weeks but caused diarrhea almost the whole time i couldnt do it anymore had to throw it away. i couldnt figure out why i had such an upset stomach until i stopped taking them.',\n",
              " 'i wish this product tasted as good as it smells. i can improve to the icky flavor by adding fruit but if you let your smoothie set for a minute or two, it starts to separate and form a foamy, gelatinous layer at the top which is not edible. even if you mix it all up again it is still icky (which is a total waste of good fruit!) why cant protein powers taste good without adding a ton of sugar? is it really that hard to produce one? geez!',\n",
              " 'these did nothing to suppress my appetite whatsoever.',\n",
              " 'product arrived very fast as describe.<br />after digit weeks of taking it daily i didnt really see a noticible effect. will not but again.',\n",
              " 'after using it twice i was convinced it wasnt good for me. it made me feel sick for digitdigit hours when i took it. first time i thought maybe it was something else. second time confirmed it. felt like i had severe low blood pressure for the entire time. weird and scary feeling. if it works for you with no side effects, great. but buyer beware.',\n",
              " 'after using it twice i was convinced it wasnt good for me. it made me feel sick for digitdigit hours when i took it. first time i thought maybe it was something else. second time confirmed it. felt like i had severe low blood pressure for the entire time. weird and scary feeling. if it works for you with no side effects, great. but buyer beware.',\n",
              " 'it was really miserable to chew them everyday. way way too sweet, almost choke me. i didnt want to go through the trouble of returning it because its cheap.',\n",
              " 'reviews sause it was the same as charmin and its not even close.',\n",
              " 'i have been very impressed with the revly brand of products, but this one is concerning to me. it says it has digitdigitdigitdigit mcg of folate as folic acid; but folate and folic acid are not the same thing. the body does have some limited ability to convert folic acid to folate, but then the unconverted fa circulates unmodified, with two detrimental effects: digit) it disrupts normal folate metabolism and digit) it can be toxic at levels above digitdigitdigitdigitmcg per day, and there is even some evidence that it is carcinogenic.<br /><br />in addition, the sulfate combos are not organic, and dont have the nutritional benefits you need. i would pass on this.',\n",
              " 'i ordered the chocolate mint because the photo didnt show sucralose in the ingredients. another reviewer even confirmed this. i received my protein powder, opened it, mixed it up, tasted it. the flavor isnt horrible but i could tell it was artificially sweetened. i wish id checked the ingredients before i opened it. im very disappointed. especially since it mixed up wonderfully with water.<br />update: x brand support is issuing me a refund for this even though i already opened it. x brand support gets digit-stars from me. this still only gets one.',\n",
              " 'i have been having really clear skin for a while, which i was really happy about. i have more sensitive skin, so i have to be careful with certain products, although usually its not that bad. although this product claims to be gentle and non-irritating, i broke out horribly all across my cheeks, chin, and forehead after using this. im almost digitdigit, and i dont appreciate suddenly getting acne-like bumps like a teenager! this product claims to be like cetaphil, which doesnt do anything like this to me - this is the only reason why i decided to try it out. boy, do i regret it! the digitdigitdigits of red, itching, oozing, angry bumps all over my face have been oozing all day with a yellowish oil, and no amount of makeup covers this up. i honestly look like i rolled my face in poison ivy. this is really bad, and i wouldnt even recommend it for normal skin. ive never had a problem with cetaphil and my skin is not that sensitive, so this is most definitely not like cetaphil at all. horrible - do not recommend!',\n",
              " 'i have been having really clear skin for a while, which i was really happy about. i have more sensitive skin, so i have to be careful with certain products, although usually its not that bad. although this product claims to be gentle and non-irritating, i broke out horribly all across my cheeks, chin, and forehead after using this. im almost digitdigit, and i dont appreciate suddenly getting acne-like bumps like a teenager! this product claims to be like cetaphil, which doesnt do anything like this to me - this is the only reason why i decided to try it out. boy, do i regret it! the digitdigitdigits of red, itching, oozing, angry bumps all over my face have been oozing all day with a yellowish oil, and no amount of makeup covers this up. i honestly look like i rolled my face in poison ivy. this is really bad, and i wouldnt even recommend it for normal skin. ive never had a problem with cetaphil and my skin is not that sensitive, so this is most definitely not like cetaphil at all. horrible - do not recommend!',\n",
              " 'i have been having really clear skin for a while, which i was really happy about. i have more sensitive skin, so i have to be careful with certain products, although usually its not that bad. although this product claims to be gentle and non-irritating, i broke out horribly all across my cheeks, chin, and forehead after using this. im almost digitdigit, and i dont appreciate suddenly getting acne-like bumps like a teenager! this product claims to be like cetaphil, which doesnt do anything like this to me - this is the only reason why i decided to try it out. boy, do i regret it! the digitdigitdigits of red, itching, oozing, angry bumps all over my face have been oozing all day with a yellowish oil, and no amount of makeup covers this up. i honestly look like i rolled my face in poison ivy. this is really bad, and i wouldnt even recommend it for normal skin. ive never had a problem with cetaphil and my skin is not that sensitive, so this is most definitely not like cetaphil at all. horrible - do not recommend!',\n",
              " 'has not received item. natures bounty zinc digitdigit mg. reason for rating digit',\n",
              " 'horrible taste!',\n",
              " 'i got these hoping ot would help my nails. although my nails seemed to be looking better my face had not. when i started taking these i started to break out very bad. after digitish months i stopped taking them and magically my acne went back to being minor. oh and the taste is absolutely dreadful. the taste stayed in my mouth/back of throat for hours after taking them. i ended up getting sick twice just from the taste.',\n",
              " 'i got these hoping ot would help my nails. although my nails seemed to be looking better my face had not. when i started taking these i started to break out very bad. after digitish months i stopped taking them and magically my acne went back to being minor. oh and the taste is absolutely dreadful. the taste stayed in my mouth/back of throat for hours after taking them. i ended up getting sick twice just from the taste.',\n",
              " 'ive tried a few different creatines and normally only feel some bloating or discomfort when i first start taking creatine from nothing.<br /><br />ive been on creatine for about digit months and grabbed this brand just randomly since i didnt feel like driving to walmart and grabbing one off the shelf there.<br /><br />this creatine makes my stomach hurt, comes with no scooper, and when you use a scooper it crystallizes really weirdly on the plastic. ive never seen a creatine do this and ive never had a creatine make me nauseated. i do not recommend this creatine at all!',\n",
              " 'wont buy again due to the nasty taste.',\n",
              " 'wanted to like it as i love on chocolate with splenda. i wanted to get rid of the artificial sugars and to buy the one with the natural sugars. i got this one assuming it would taste the same as the other on one. my mistake! this taste horrible. if you are used to the on with splenda then don’t try this one. you won’t be happy.',\n",
              " 'probably will not order from this company again. it was a package of digit bottles and got one. still have not heard from the company to fix it.',\n",
              " 'the olly beauty gummies are a great gummy to take if you’re looking for a non pill form of biotin to take.  like most gummy vitamins, these vitamins are pretty much vitamin infused candy.  these gummies taste so yummy - they’re soft and chewy and have a nice sweet grapefruit flavor.  the ingredients include glucose syrup, beet sugar, water, gelatin, natural flavor, citric acid, pectin, coloring from various fruits and vegetable juices, vegetable oil, and carnauba wax.  these vitamins include vitamin c, vitamin e, biotin, and keratin.  most of the supplements are small - vitamin c (digitdigitmg/digitdigit% dv), vitamin e (digit.digitmg/digitdigit%dv), and keratin (digitdigitmg/dv not established) - but the biotin supplement is huge (digitdigitdigitdigitmcg/digitdigitdigitdigit% dv) but it’s still lower than taking a small biotin pill.  i normally take biotin as a supplement in pill form, and the one i’m taking includes digitdigitdigitdigit mcg/digitdigitdigitdigitdigit% dv.  as a non pill supplement, i would totally take these simply because i love the flavor.  however, i personally don’t mind swallowing pills, so i would unlikely purchase these in the future unless i want to mix things up and have a candy vitamin to take.  overall, these are great if you want to avoid taking pills, but these have less vitamins so be aware.',\n",
              " 'the olly beauty gummies are a great gummy to take if you’re looking for a non pill form of biotin to take.  like most gummy vitamins, these vitamins are pretty much vitamin infused candy.  these gummies taste so yummy - they’re soft and chewy and have a nice sweet grapefruit flavor.  the ingredients include glucose syrup, beet sugar, water, gelatin, natural flavor, citric acid, pectin, coloring from various fruits and vegetable juices, vegetable oil, and carnauba wax.  these vitamins include vitamin c, vitamin e, biotin, and keratin.  most of the supplements are small - vitamin c (digitdigitmg/digitdigit% dv), vitamin e (digit.digitmg/digitdigit%dv), and keratin (digitdigitmg/dv not established) - but the biotin supplement is huge (digitdigitdigitdigitmcg/digitdigitdigitdigit% dv) but it’s still lower than taking a small biotin pill.  i normally take biotin as a supplement in pill form, and the one i’m taking includes digitdigitdigitdigit mcg/digitdigitdigitdigitdigit% dv.  as a non pill supplement, i would totally take these simply because i love the flavor.  however, i personally don’t mind swallowing pills, so i would unlikely purchase these in the future unless i want to mix things up and have a candy vitamin to take.  overall, these are great if you want to avoid taking pills, but these have less vitamins so be aware.',\n",
              " 'not good product',\n",
              " 'i liked the ingredients however the flavor of the vanilla spiced chai was not good.',\n",
              " 'i liked the ingredients however the flavor of the vanilla spiced chai was not good.',\n",
              " 'i took these and had a bad reaction. my face became hot and bright red. this traveled down my body and lasted about two hours.  i read about the ‘flush’ but this was worse than i imagined. very scary. i took a benadryl as i thought i was having a severe reaction.  nearly went to the er.  i won’t take these again.',\n",
              " 'i just double and triple checked my bottle label and sure enough, these do not contain iron! this is, to me, the single most important thing a prenatal could have in it. no wonder so many people are saying that these dont make them sick when other prenatal vitamins do- youre basically eating candy. i never realized it because i could not even fathom a company calling something a prenatal without it. this is a dangerous omission for moms like me, who are prone to anemia.',\n",
              " 'i just double and triple checked my bottle label and sure enough, these do not contain iron! this is, to me, the single most important thing a prenatal could have in it. no wonder so many people are saying that these dont make them sick when other prenatal vitamins do- youre basically eating candy. i never realized it because i could not even fathom a company calling something a prenatal without it. this is a dangerous omission for moms like me, who are prone to anemia.',\n",
              " 'i ordered these thinking they were the small gel caps, but they are plastic capsules. i can’t even tell i’ve taken anything. they do not work at all. don’t waste your money on these.',\n",
              " 'is a flat flavor , no taste at all , hard to drink',\n",
              " 'giving this product digit stars sadly. i love it, but this is not a great experience. i was trying to save a trip to the store and order this; however, i’m short digit capsules & as you can see from the photo (and similarly to other customers) at least digit-digit broken capsules and product on the bottom of the container. really disappointed because like i said i really do love this stuff.',\n",
              " 'the solimo oatmeal has  a  well structured taste. however other store brand flavors have richer flavor.',\n",
              " 'the solimo oatmeal has  a  well structured taste. however other store brand flavors have richer flavor.',\n",
              " 'i love the product.  its hard to find where i live and im a loyal prime member.  i ordered online so i didnt have to worry about finding it.  out of the digitdigit cans, only digit cans dont have major damage, and one can leaked out over half of the contents - even the box was wet.  so disappointed!  i dont even know if the damaged cans are safe to drink.',\n",
              " 'i order whole psyllium husks. what i received was psyllium husk powder. of course when it arrived i foolishly assumed it was the item i ordered and just went ahead and broke the safety seal to open the container ... now it is not returnable. powder is not as effective as whole husks.',\n",
              " 'i order whole psyllium husks. what i received was psyllium husk powder. of course when it arrived i foolishly assumed it was the item i ordered and just went ahead and broke the safety seal to open the container ... now it is not returnable. powder is not as effective as whole husks.',\n",
              " 'used these with my first two pregnancies and cant use them this time. i think they changed the formula because all i taste and smell is fish. its disgusting! i cant keep them down. and i hadnt had an issue before. going to have to find a new vitamin.',\n",
              " 'used these with my first two pregnancies and cant use them this time. i think they changed the formula because all i taste and smell is fish. its disgusting! i cant keep them down. and i hadnt had an issue before. going to have to find a new vitamin.',\n",
              " 'don’t order took forever to get was treated poorly by x brand customer service agent when i called to inquire about it',\n",
              " 'i bought this product to help manage a blocked milk duct.  i have seen some improvement.  what no one seemed to mention is the size of these pills.  they are huge!!!  i have to cut them to take them...',\n",
              " 'not worth the money!',\n",
              " 'ive used this product in the past.  when i used the digit mini gels per day it was great.  i switch to the digit pills per day because i could get digitdigit days worth so i wouldnt have to shop as often and it was a little cheaper.  unfortunately either i got an old batch, a bad batch, expired or recycled batch or what ever - i dont know, but it doesnt nearly have the same potency and results i got with the other. i wont order it again',\n",
              " 'ive used this product in the past.  when i used the digit mini gels per day it was great.  i switch to the digit pills per day because i could get digitdigit days worth so i wouldnt have to shop as often and it was a little cheaper.  unfortunately either i got an old batch, a bad batch, expired or recycled batch or what ever - i dont know, but it doesnt nearly have the same potency and results i got with the other. i wont order it again',\n",
              " 'i’ve been using this for over a month and i have not noticed any significant changes. i definitely prefer the gnc brand.',\n",
              " 'these are exceptional and they are very good but the problem i have with olly products is they are too expensive and if they werent i would definitely continue to buy olly products.',\n",
              " 'if it turned side ways in my throat the heimlich wouldn’t be able to save me. these are ridiculous large. it’s half the size of my average adult pinky finger!',\n",
              " 'never received them',\n",
              " 'i need vitamin d in my diet, but this is not the supplement for me. they were all stuck together because some of them had broken open. there was oil all over on the inside of the bottle. i kept it, separated the pills best i could and used most of it. the flavor was great, but it was annoying getting oil on myself everyday. i get sports research vitamin ddigit now.',\n",
              " 'i need vitamin d in my diet, but this is not the supplement for me. they were all stuck together because some of them had broken open. there was oil all over on the inside of the bottle. i kept it, separated the pills best i could and used most of it. the flavor was great, but it was annoying getting oil on myself everyday. i get sports research vitamin ddigit now.',\n",
              " 'i need vitamin d in my diet, but this is not the supplement for me. they were all stuck together because some of them had broken open. there was oil all over on the inside of the bottle. i kept it, separated the pills best i could and used most of it. the flavor was great, but it was annoying getting oil on myself everyday. i get sports research vitamin ddigit now.',\n",
              " 'i ordered the dandruff digit in digit shampoo and received  the body wash. i did not order the body wash.',\n",
              " 'i ordered the dandruff digit in digit shampoo and received  the body wash. i did not order the body wash.',\n",
              " 'for some weird reason, after i started taking this pre-workout i tend to loose my breath often and having trouble breathing..',\n",
              " 'one of my kids absolutely will not use this toothpaste. she says its gross. tasted it myself and its not great.',\n",
              " 'it creates a very thick shake and i am not a fan of the flavor. in the past i only have been using regular whey and the flavor of this product is not that good as the traditional whey. i know i am not comparing digit identical products as this one is vegan but if you ask me if i like the flavor the answer is no.',\n",
              " 'after taste ruins the flavor of tea and coffee',\n",
              " 'tried for weeks now have not noticed any difference',\n",
              " 'sick texture. frothy af',\n",
              " 'sick texture. frothy af',\n",
              " 'sick texture. frothy af',\n",
              " 'sick texture. frothy af',\n",
              " 'x brand’s delivery ‘independent contractor’ had an attitude.<br />started yelling over the phone',\n",
              " 'who ever delivered my package was very mean.  they did not leave it at my door. they left it downstairs at the complex<br />entrance.  i complained to x brand on a chat.  they said they will look into it.  i waited four days to get it and i had<br />prime membership.  i gave that up.',\n",
              " 'i didnt like the face that mixing it is a must and the scoops required takee a large quantity of the product. not for me il stick with boost vhc',\n",
              " 'i didnt like the face that mixing it is a must and the scoops required takee a large quantity of the product. not for me il stick with boost vhc',\n",
              " 'i live on amino energy, but this flavor was way too sweet. my boyfriend and i drank some before a workout and both felt nauseous from the sugary taste. if you like artificial orange flavor/amino energy that tastes really sweet, youll like this but we like the more subtle, tart flavors (watermelon, half and half, raspberry tea)',\n",
              " 'i live on amino energy, but this flavor was way too sweet. my boyfriend and i drank some before a workout and both felt nauseous from the sugary taste. if you like artificial orange flavor/amino energy that tastes really sweet, youll like this but we like the more subtle, tart flavors (watermelon, half and half, raspberry tea)',\n",
              " 'i live on amino energy, but this flavor was way too sweet. my boyfriend and i drank some before a workout and both felt nauseous from the sugary taste. if you like artificial orange flavor/amino energy that tastes really sweet, youll like this but we like the more subtle, tart flavors (watermelon, half and half, raspberry tea)',\n",
              " 'i have to break the pills in half in order to be able to swallow them.',\n",
              " 'i now have to take digit of these pills to achieve similar benefits compared to when i used to take just digit pill of the same exact brand, sundown naturals. the herb inside the capsule went from being oily, sweet and nutty flavored powder to dry, bitter and ashy. huh..? and i bought a digitnd bottle, which had the same exact ashy herb. a different flavor combined with depreciated effectiveness at the same time is more than coincidence, so i guess no more sundown for me.',\n",
              " 'i now have to take digit of these pills to achieve similar benefits compared to when i used to take just digit pill of the same exact brand, sundown naturals. the herb inside the capsule went from being oily, sweet and nutty flavored powder to dry, bitter and ashy. huh..? and i bought a digitnd bottle, which had the same exact ashy herb. a different flavor combined with depreciated effectiveness at the same time is more than coincidence, so i guess no more sundown for me.',\n",
              " 'i had a bad reaction to this tea blend that put me in bed for two days, every smell was like poison and everything i ate tasted like poison, it affection my vision, balance, energy. i tryed to give to someone but they wont touch it. i would to return for a refund or exchange for something else but not this tea. thanks cristy',\n",
              " 'i had a bad reaction to this tea blend that put me in bed for two days, every smell was like poison and everything i ate tasted like poison, it affection my vision, balance, energy. i tryed to give to someone but they wont touch it. i would to return for a refund or exchange for something else but not this tea. thanks cristy',\n",
              " 'i had a bad reaction to this tea blend that put me in bed for two days, every smell was like poison and everything i ate tasted like poison, it affection my vision, balance, energy. i tryed to give to someone but they wont touch it. i would to return for a refund or exchange for something else but not this tea. thanks cristy',\n",
              " 'expiration date is so soon. only a month left and no option for return',\n",
              " 'they smell and taste like regular vitamins. so much so that my husband has to leave the room when i open the jar. not worth it. going back to vita fusion.',\n",
              " 'my fault, i should have read the reviews but i wound up with a box full of powder and no pods.  they all exploded in transit so a bit of false advertising.  im sure it will still clean so i will give a digit star but will never order again.',\n",
              " 'small but the round shape still makes it hard to swallow. i’ll have to cut these in half too. i’m really disappointed.',\n",
              " 'almost has a sour taste to it. it does its job in terms of getting protein and calories, but is very unpleasant to drink.',\n",
              " 'tastes literally like burnt candlewax.',\n",
              " 'bought this have an alternative to dairy sourced protein in my smoothies. this stuff is so gross!! it takes so many other ingredients to try and make it palatable and theres no true disguising the flavor. ill finish the bottle since i paid for it and it seems like a fairly high quality product but dang, it wont be enjoyable. i remember using the raw meal years ago and it wasnt too bad, but this is just plain yuck.',\n",
              " 'bought this have an alternative to dairy sourced protein in my smoothies. this stuff is so gross!! it takes so many other ingredients to try and make it palatable and theres no true disguising the flavor. ill finish the bottle since i paid for it and it seems like a fairly high quality product but dang, it wont be enjoyable. i remember using the raw meal years ago and it wasnt too bad, but this is just plain yuck.',\n",
              " 'i have very mixed feelings about this product. i love using it as an afternoon pick-me-up/ post workout.<br />the container says two scoops is a normal serving, and you can use up to digit scoops for a more intense “pre workout” burst of energy. i can tell you now if you plan on using digit scoops for pre workout you’re going to have to drink it in about digit.digit gallons of water. the flavor is so strong, it needs to be diluted quite a bit to be tolerable. yesterday i tried digit scoops in a digitdigit oz glass of water (who wants to hit them gym with a stomach full of water?) and it almost made me sick. i’d compare it to trying to drink digit packs of koolaid mix with out diluting it. 🤢<br /><br />added: i just bought my second can of grape flavor. the first can had so much flavor i could hardly tolerate it, this second one has almost no flavor at all. makes me wonder what other ingredients are inconsistent! will not be purchasing again.',\n",
              " 'i have very mixed feelings about this product. i love using it as an afternoon pick-me-up/ post workout.<br />the container says two scoops is a normal serving, and you can use up to digit scoops for a more intense “pre workout” burst of energy. i can tell you now if you plan on using digit scoops for pre workout you’re going to have to drink it in about digit.digit gallons of water. the flavor is so strong, it needs to be diluted quite a bit to be tolerable. yesterday i tried digit scoops in a digitdigit oz glass of water (who wants to hit them gym with a stomach full of water?) and it almost made me sick. i’d compare it to trying to drink digit packs of koolaid mix with out diluting it. 🤢<br /><br />added: i just bought my second can of grape flavor. the first can had so much flavor i could hardly tolerate it, this second one has almost no flavor at all. makes me wonder what other ingredients are inconsistent! will not be purchasing again.',\n",
              " 'the container and the capsules came melted! the capsules are stuck together and stuck to the cover of the jar. so disappointed!',\n",
              " 'first time with pea protein, not a fan.',\n",
              " 'first time with pea protein, not a fan.',\n",
              " 'first time with pea protein, not a fan.',\n",
              " 'gave me an awful itchy rash. i read others saying the same thing but i thought i would give it a try for the price. it’s not worth it.',\n",
              " 'received the wrong item',\n",
              " 'will not buy from this seller again. received old chocolate that is white and dried out. would like a refund. havent heard back from seller yet. if i dont i will contact x brand directly.<br />update : seller responded to say that they freeze their chocolate to keep it fresh. how can they not see it ruins the chocolate...',\n",
              " 'this product was easy to use but quite underwhelming.  i usually prefer the wild rose cleanse which works well for me.  it was out of stock at the time of purchase.  perhaps, i had higher expectations.  i wouldn’t recommend this cleanse.  not worth your hard earned money.',\n",
              " 'i was looking forward to using this product to help my dry feet.  because it stated it was fragrance free, paraben free and phthalate free i assumed it would have more natural ingredients.  however,  the first three components are:  water, petrolatum and mineral oil.  generally, mineral oil and petrolatum are not healthy for skin.  petrolatum suffocates the skin and may be carcinogenic.  it only makes the skin look more moist but does not add moisture.  mineral oil also suffocates the skin and clogs pores.  because of this, this product is not for me.  when i looked at it earlier before ordering i did not see the ingredients or i would not have gotten it.  i think many people will find value in this but being informed of what you are getting and the side effects are important.',\n",
              " 'i was looking forward to using this product to help my dry feet.  because it stated it was fragrance free, paraben free and phthalate free i assumed it would have more natural ingredients.  however,  the first three components are:  water, petrolatum and mineral oil.  generally, mineral oil and petrolatum are not healthy for skin.  petrolatum suffocates the skin and may be carcinogenic.  it only makes the skin look more moist but does not add moisture.  mineral oil also suffocates the skin and clogs pores.  because of this, this product is not for me.  when i looked at it earlier before ordering i did not see the ingredients or i would not have gotten it.  i think many people will find value in this but being informed of what you are getting and the side effects are important.',\n",
              " 'i do not like products made in china',\n",
              " 'i get a lot of stress taking care of my mother who has dementia and didnt help me at all',\n",
              " 'arrived damaged',\n",
              " 'these came half empty, all the oil from the bottles was soaked into the packaging and each bottle was greasy and sticky. hopefully i can get a new one..',\n",
              " 'these came half empty, all the oil from the bottles was soaked into the packaging and each bottle was greasy and sticky. hopefully i can get a new one..',\n",
              " 'doesn’t help with constipation unless u want watery stools. also very gritty and tastes awful',\n",
              " 'doesn’t help with constipation unless u want watery stools. also very gritty and tastes awful',\n",
              " 'doesn’t help with constipation unless u want watery stools. also very gritty and tastes awful',\n",
              " 'i ordered this oil back in november and still have not received.',\n",
              " 'i ordered the natures bounty fish oil digitdigitdigitdigit mg digitdigitdigit softgels.  i received digitdigit softgels.  i returned the product and asked for the digitdigitdigit softgels.  i received digitdigit softgels.  i paid for digitdigitdigit softgels.  so i gave up and asked for a refund and will order from another seller.  the product is good but the delivery was bad.',\n",
              " 'i ordered the natures bounty fish oil digitdigitdigitdigit mg digitdigitdigit softgels.  i received digitdigit softgels.  i returned the product and asked for the digitdigitdigit softgels.  i received digitdigit softgels.  i paid for digitdigitdigit softgels.  so i gave up and asked for a refund and will order from another seller.  the product is good but the delivery was bad.',\n",
              " 'i ordered the natures bounty fish oil digitdigitdigitdigit mg digitdigitdigit softgels.  i received digitdigit softgels.  i returned the product and asked for the digitdigitdigit softgels.  i received digitdigit softgels.  i paid for digitdigitdigit softgels.  so i gave up and asked for a refund and will order from another seller.  the product is good but the delivery was bad.',\n",
              " 'the flavor of this is horrible.  i tried it my bullet coffee and struggled to drink half of it.  th convenience of a powder is very good, but the taste......nope!  i won’t purchase again.  i didnt buy it a x brand, but i still wanted to post a review.',\n",
              " 'the flavor of this is horrible.  i tried it my bullet coffee and struggled to drink half of it.  th convenience of a powder is very good, but the taste......nope!  i won’t purchase again.  i didnt buy it a x brand, but i still wanted to post a review.',\n",
              " 'my sleep schedule was super messed up after a whole month of traveling in different times zones. because of that i was getting headaches etc i ordered this to manage my schedule and happy to say that within a week my sleep schedule was regulated. i do not like the flavor and the pill is pretty big making it difficult to swallow  which is what i totally hate but if thats not your issue then these do the job',\n",
              " 'my sleep schedule was super messed up after a whole month of traveling in different times zones. because of that i was getting headaches etc i ordered this to manage my schedule and happy to say that within a week my sleep schedule was regulated. i do not like the flavor and the pill is pretty big making it difficult to swallow  which is what i totally hate but if thats not your issue then these do the job',\n",
              " 'my sleep schedule was super messed up after a whole month of traveling in different times zones. because of that i was getting headaches etc i ordered this to manage my schedule and happy to say that within a week my sleep schedule was regulated. i do not like the flavor and the pill is pretty big making it difficult to swallow  which is what i totally hate but if thats not your issue then these do the job',\n",
              " 'my sleep schedule was super messed up after a whole month of traveling in different times zones. because of that i was getting headaches etc i ordered this to manage my schedule and happy to say that within a week my sleep schedule was regulated. i do not like the flavor and the pill is pretty big making it difficult to swallow  which is what i totally hate but if thats not your issue then these do the job',\n",
              " 'bottle was open in package & leaked a substantial amount of oil.',\n",
              " 'great products with great ingredients in it. however the taste is terrible. i wish they had another flavor to choose from because i gag every time i use it.',\n",
              " 'great products with great ingredients in it. however the taste is terrible. i wish they had another flavor to choose from because i gag every time i use it.',\n",
              " 'very sweet flavor. you could smell these across the room! the texture is kind of weird too. theyre better than choking down a regular prenatal though.',\n",
              " 'very sweet flavor. you could smell these across the room! the texture is kind of weird too. theyre better than choking down a regular prenatal though.',\n",
              " 'very sweet flavor. you could smell these across the room! the texture is kind of weird too. theyre better than choking down a regular prenatal though.',\n",
              " 'very sweet flavor. you could smell these across the room! the texture is kind of weird too. theyre better than choking down a regular prenatal though.',\n",
              " 'i bought this one and the watermelon one. this flavour is absolutely disgusting. its like liquid palstic; the most fake fruit flavour ever. buy any other flavour',\n",
              " 'if you are already taking large doses of niacin then you will like this product just fine. this product seems to be of good quality and the price is good too. however, if you have not taken digitdigitdigitmg or more of niacin before, beware of the niacin flush effect this will most likely have on you.<br /><br />i took two capsules (digitdigitdigitdigitmg) and my experience was pretty bad. my skin turned beet red and felt like it was on fire, i hurt all over, and felt like throwing up several times. this lasted for almost digit hours (most all of it in bed) and was one of the worst things ive had to go through in a long time.  if its your first time taking niacin, only take one pill and do some research online about the effects of niacin flush and how to minimize them before you buy this product. i hope this information helps!',\n",
              " 'i gave it digit stars cause the price for the amount is good, but the tp itself is hard, crumbles after fist wipe, overall not good for a household of digit girls.',\n",
              " 'i always cycle through different preworkout products to try new things. i saw this preworkout for $digitdigit containing digitdigitdigit mg of caffeine and thought what the heck. aside from the fact that it doesnt give you much energy, it comes with a pretty bad crash. this is extremely inconvenient for me because i workout first thing in the morning and cant afford to be drowsy the entire day at work. i appreciate that x brand created/partnered with solimo to create affordable products in every category, but they need to take this listing down and reformulate.<br /><br />id advise anyone to just spend the extra $digit-digit and buy cdigit for mp assault energy. those are the best bang for you buck preworkout products on the market.',\n",
              " 'if youre like me, you were probably under the impression that these were like the brand water wipes....they are not.<br />read the ingredients....there are way too many ingredients to be like water wipes that are safe for newborns straight home from the hospital.<br /><br />the ingredients in these are very comparable to the kirklands wipes you can get at costco. there is nothing wrong with them, they are pretty gently and perfectly safe. my babysitter actually prefers the kirklands wipes so i buy those for her.<br /><br />huggies natural wipes actually have way less ingredients (in fact mostly the same that are found in these, minus a bunch) and are also made from digitdigit% purified water. we use the huggies naturals at home (from about digit weeks+).<br /><br />texture wise, these are probably between huggies natural and kirklands. a little more durable than the huggies natural (those tear pretty easily) but not quite as thick as kirklands.<br /><br />all in all, these are descent wipes, but i had to deduct stars for what i felt like was false advertisement.<br />were going to have to purchase a case of actual water wipes for when our baby is born and we bring her home from the hospital.',\n",
              " 'if youre like me, you were probably under the impression that these were like the brand water wipes....they are not.<br />read the ingredients....there are way too many ingredients to be like water wipes that are safe for newborns straight home from the hospital.<br /><br />the ingredients in these are very comparable to the kirklands wipes you can get at costco. there is nothing wrong with them, they are pretty gently and perfectly safe. my babysitter actually prefers the kirklands wipes so i buy those for her.<br /><br />huggies natural wipes actually have way less ingredients (in fact mostly the same that are found in these, minus a bunch) and are also made from digitdigit% purified water. we use the huggies naturals at home (from about digit weeks+).<br /><br />texture wise, these are probably between huggies natural and kirklands. a little more durable than the huggies natural (those tear pretty easily) but not quite as thick as kirklands.<br /><br />all in all, these are descent wipes, but i had to deduct stars for what i felt like was false advertisement.<br />were going to have to purchase a case of actual water wipes for when our baby is born and we bring her home from the hospital.',\n",
              " 'not natural, calcium from rocks, not from food source',\n",
              " 'when i received this bottle of probiotics, the dry ice was all melted & the bag bottle was steaming hot. i contacted the seller but they could fix the problem. they said sometimes the ice melts and the probiotics get warm, but just use.well, guess what? i paid for refrigeratorated probiotics & i was supposed to receive them cold. definitely not using this and will not buy this again',\n",
              " 'i’ve tried one other preworkout before this one so i had high expectations. i didn’t feel any difference after taking this. i didn’t feel anything, really. plus, i’m pretty sure the creatine made me sick. but a friend says this product works great for them.',\n",
              " 'these taste like sugar. the consistency is very soft (not difficult to chew), but also very grainy. you can actually see and feel the sugar. too much sugar for a vitamin. will not repurchase.',\n",
              " 'the tablets are so sweet that they almost make my teeth hurt. no way i will try another one.<br /><br />no refunds allowed on this x brand product.<br /><br />deceptive labeling: no artificial flavors, which is easily perceived to mean no artificial ingredients. sneaky and dishonest language.',\n",
              " 'the tablets are so sweet that they almost make my teeth hurt. no way i will try another one.<br /><br />no refunds allowed on this x brand product.<br /><br />deceptive labeling: no artificial flavors, which is easily perceived to mean no artificial ingredients. sneaky and dishonest language.',\n",
              " 'what would be a reason to put alcohol and talc in a vitamin?????',\n",
              " 'both my husband and myself use coconut oil daily. this one seemed like a good enough buy, which is important for things one uses so often. it was grittier than some, blander than most and a little too watered down to absorb into your skin like it should. i’m afraid that the extra water is becoming altogether too common in this particular market. it also makes it nearly useless for pulling, unfortunately.<br />we’ve actually gone back to buying traders’. the quality is consistent and it’s handy.',\n",
              " 'i love garden of life but this is soooooo gross! it’s taste terrible, ingredients are basically powdered milk and powdered butter... not sure about it’s health value but i rather eat real “healthy” fats than have a cardboard shake.',\n",
              " 'never received the product and the link to report to the company is not working',\n",
              " 'never received the product and the link to report to the company is not working',\n",
              " 'useless for me. don’t feel energized after taking it',\n",
              " 'it doesn’t work right away.',\n",
              " 'i have a neutral review. i started off taking them, i loved the taste a lot and in about the digitth week of my pregnancy they started to make me very nauseous. the consistency of the gummy makes me want to throw up. i cant stand eating them anymore. i have a unopened bottle and half a bottle left.',\n",
              " 'all the tablets arrived stuck together. it was one big gooey mess. i had to dump the bottle because it couldn’t be separated to get the correct dosage. i’ve purchased other gummy meds and never had this problem. sorry but i wouldn’t buy again.',\n",
              " 'i ordered the chocolate and it has got to be the nastiest meal replacement i have ever drank in my life. it literally tastes like liquid cardboard. i normally drink digitdigitshake but i just cant afford to do that so i tried this and i think im going back to digitdigit shake or possibly trying another flavor but this stuff is totally gross.',\n",
              " 'the product was sealed on the outside, but the seal under the lip was broken upon arrival, which allowed powered to even get on he outside of the container. very annoying and did not consume for obvious safety reasons.',\n",
              " 'first off, i love this product. i love it so much that i choke down the grape flavor.  it is a great bcaa, a great pre-workout, and makes me sweat like no other (some people like that kind of thing.) but the grape flavor it so so so bad! the best way to describe it, is that it tastes like hair dye smells. buy this product for sure, but avoid the grape flavor at all costs.',\n",
              " 'first off, i love this product. i love it so much that i choke down the grape flavor.  it is a great bcaa, a great pre-workout, and makes me sweat like no other (some people like that kind of thing.) but the grape flavor it so so so bad! the best way to describe it, is that it tastes like hair dye smells. buy this product for sure, but avoid the grape flavor at all costs.',\n",
              " 'the after taste is gross, but they did their job until  they got hard and i had to buy a new pack of the pill version',\n",
              " 'this time-release capsule contains three layers: l-theanine & nighttime herbal blend calms you, quick release melatonin helps you fall asleep faster, and time-release melatonin to help you stay asleep longer. the pills contain digitdigit mg of melatonin which is a lot—typically i take digit mg if using melatonin.  and yet, i didn’t really become sleepy although maybe it helped quiet my mind a bit.  and sadly, i still awoke digit-digit times during the night.<br /><br />i find wearing blue-blocking glasses an hour before bed plus  switching out our lightbulbs in the living room and bedroom with these: https://www.x brand.com/gp/product/bdigitdigitkzbdigitdigitldigit/ref=ppx_yo_dt_b_search_asin_title?ie=utfdigit&psc=digit helps my body produce melatonin.  and keeping a regular bedtime helps, too.  for the price, ill stick with  these instead: https://www.x brand.com/bluebonnet-nutrition-earthsweet-chewables-melatonin/dp/bdigitdigitceehdigitaa/ref=sr_digit_digit?crid=digitvdigitdigitdigitcbdigitjsddigitdigit&keywords=bluebonnet+melatonin+digitmg&qid=digitdigitdigitdigitdigitdigitdigitdigitdigitdigit&s=gateway&sprefix=bluebonnet+mel%digitcaps%digitcdigitdigitdigit&sr=digit-digit',\n",
              " 'was broken and can’t get a replacement or a refund',\n",
              " 'very misleading your dription said digit bottles i only got one',\n",
              " 'this product does taste pretty bad, but i can get past that.  for me it caused instant stomach ache even if i took it with food.  i will switch back to source of life and send this back',\n",
              " 'this product does taste pretty bad, but i can get past that.  for me it caused instant stomach ache even if i took it with food.  i will switch back to source of life and send this back',\n",
              " 'item was never received, never refunded or replaced',\n",
              " 'gave our daughter a terrible diaper rash.',\n",
              " 'when i use the first one, i got a bad stomachache.<br />do not buy it.',\n",
              " 'when i use the first one, i got a bad stomachache.<br />do not buy it.',\n",
              " 'twice i ordered natures bounty fish oil digitdigitdigitdigit mg and received digitdigitdigitdigit mg bottles.  even after i returned the digitst incorrect order, x brand sent the same incorrect order to me.  i will have to buy the product elsewhere.',\n",
              " 'these are labeled long, but they are not. digit is not long. the adhesive reached from front for about two inches, then stopped. i wanted to return, but they didn’t allow that option. i’m stuck with these, but at least i got my money back.',\n",
              " 'i bought this after reading several reviews from people saying it works as good if not better than benefiber. i started taking benefiber daily about a month ago and it worked phenomenally. once i finished the first jar/packaged, i hopped back on x brand to buy more, and saw this instead. i used the same amount daily (digit tbsp) and lost all regularity i enjoy with benefiber, so i upped my daily serving to digit tbsp, and still absolutely nothing. i have no idea what im ingesting, but its certainly not a substitute for benefiber.',\n",
              " 'omg. so much gas! idk if its a bad batch or what but i had to stop taking these due to horrible gas! so embarrassing! returned.',\n",
              " 'it tastes fine if you don’t mind artificial sweeteners and i had been using this daily with my ayurvedic diet for a few days until i developed an itchy red rash on my face and ears that lasted a over a week. once the rash disappeared, i tried it once again just to make sure it was the monkfruit and i immediately got a hot sensation and facial hives. i do not have any other food allergies so this was a crazy thing to experience, however i tend to have skin sensitivities often from chemicals in face creams and makeup. i am not knocking this product/brand specifically because it was only my reaction to it but i recommend that you use it with caution if you have any skin sensitivities or allergies.',\n",
              " 'i didn’t really like these prenatal vitamins.  they were way to soft.  i wish they were firmer.  however, they did the job!',\n",
              " 'not content at all',\n",
              " 'my newborn got a really bad rash in his first week....fine as a wipe when he was a little older. smells funky.',\n",
              " 'the capsule has tape on top of it which makes it weird to swallow.',\n",
              " 'delivered opened and the candy inside was in the shipping box',\n",
              " 'you definitely use more.',\n",
              " 'one of the ingredients is palm oil!  bad for the heart and catostrophic to the environment.',\n",
              " 'this product probably would have worked even if you had to take digit giant horse-pill size pills to get the full dosage which already cuts the cost effectiveness of this creatine supplement.  but i took it for about a week and i started getting this bad vivid dreams every night!  i went online and confirmed that a lot of users of creatine had the same side effect, though there is no scientific study on it as of yet.  i decided to stop taking it altogether and just stuck to my whey protein mix drinks by itself.',\n",
              " 'this product probably would have worked even if you had to take digit giant horse-pill size pills to get the full dosage which already cuts the cost effectiveness of this creatine supplement.  but i took it for about a week and i started getting this bad vivid dreams every night!  i went online and confirmed that a lot of users of creatine had the same side effect, though there is no scientific study on it as of yet.  i decided to stop taking it altogether and just stuck to my whey protein mix drinks by itself.',\n",
              " 'this product probably would have worked even if you had to take digit giant horse-pill size pills to get the full dosage which already cuts the cost effectiveness of this creatine supplement.  but i took it for about a week and i started getting this bad vivid dreams every night!  i went online and confirmed that a lot of users of creatine had the same side effect, though there is no scientific study on it as of yet.  i decided to stop taking it altogether and just stuck to my whey protein mix drinks by itself.',\n",
              " 'this product probably would have worked even if you had to take digit giant horse-pill size pills to get the full dosage which already cuts the cost effectiveness of this creatine supplement.  but i took it for about a week and i started getting this bad vivid dreams every night!  i went online and confirmed that a lot of users of creatine had the same side effect, though there is no scientific study on it as of yet.  i decided to stop taking it altogether and just stuck to my whey protein mix drinks by itself.',\n",
              " 'this usually comes in a glass bottle, but now it’s in a plastic container that smells awful and tastes even worse. will never buy again.',\n",
              " 'this usually comes in a glass bottle, but now it’s in a plastic container that smells awful and tastes even worse. will never buy again.',\n",
              " 'i guess my kids are the exception. they hate these flavors. they also dont like the texture, like a stale jelly bean you have to chew forever, is how they described it. back to gummy flinstone vitamins for us.',\n",
              " 'i guess my kids are the exception. they hate these flavors. they also dont like the texture, like a stale jelly bean you have to chew forever, is how they described it. back to gummy flinstone vitamins for us.',\n",
              " 'i guess my kids are the exception. they hate these flavors. they also dont like the texture, like a stale jelly bean you have to chew forever, is how they described it. back to gummy flinstone vitamins for us.',\n",
              " 'i guess my kids are the exception. they hate these flavors. they also dont like the texture, like a stale jelly bean you have to chew forever, is how they described it. back to gummy flinstone vitamins for us.',\n",
              " 'i have looked high and low for these bottles but i have not found them. would you please track the shipping from your end and get back to me?',\n",
              " 'delicious!!! but for the first time after so many orders i received them uneatable twice. they were melted. please fix this x brand',\n",
              " 'the flavor of this product is tolerable but the texture is absolutely horrible. as soon as you mix it with water it starts to gelatinize. even trying to drink it very quickly right after mixing you can feel the texture changing.',\n",
              " 'the flavor of this product is tolerable but the texture is absolutely horrible. as soon as you mix it with water it starts to gelatinize. even trying to drink it very quickly right after mixing you can feel the texture changing.',\n",
              " 'these bars taste great. however, i will never eat another one. i just ate one that had such large pieces of almond shell that it broke a crown. the expense of this is beyond belief and i am disgusted. so, buyer beware. if you value your dental health, reconsider buying these.',\n",
              " 'the bucket is huge, i had to use my previous container and fill that one up instead.  flavor is horrible, in order to get digitk calories you need to use digit scoops which are bigger than most. i found it better to break it down into two shakes of digit scoops each but flavor is making me wish i could get my money back.',\n",
              " 'the bucket is huge, i had to use my previous container and fill that one up instead.  flavor is horrible, in order to get digitk calories you need to use digit scoops which are bigger than most. i found it better to break it down into two shakes of digit scoops each but flavor is making me wish i could get my money back.',\n",
              " '“ natural lemon flavor” = vicious heartburn. stay away.',\n",
              " '“ natural lemon flavor” = vicious heartburn. stay away.',\n",
              " 'do not buy! these “gel caps” are just plastic sleeves on top of huge solid pills. there’s nothing fast acting about them. plus they are easily digitdigit% larger than the same strength of other brands.',\n",
              " 'do not buy! these “gel caps” are just plastic sleeves on top of huge solid pills. there’s nothing fast acting about them. plus they are easily digitdigit% larger than the same strength of other brands.',\n",
              " 'do not waste your money they are awful. plus who ever designed the package was very hard to open. all in all don`t waste your money.',\n",
              " 'i do not like the smell of this (citrus), it smells like rotten fruit.',\n",
              " 'i do not like the smell of this (citrus), it smells like rotten fruit.',\n",
              " 'they work pretty will but they look like have panties for a woman! 😒',\n",
              " 'the red gummies have a horrid tuna taste! the yellow and orange were the only ones i could handle but the consistency wasnt appealing. i ignored the few reviews that talked about how nasty the taste was because there seemed to be more hood than bad reviews. i purchased these because they were affordable but if you cant even finish the bottle than its just wasted money!',\n",
              " 'the red gummies have a horrid tuna taste! the yellow and orange were the only ones i could handle but the consistency wasnt appealing. i ignored the few reviews that talked about how nasty the taste was because there seemed to be more hood than bad reviews. i purchased these because they were affordable but if you cant even finish the bottle than its just wasted money!',\n",
              " 'this product perhaps aint so bad to get results, but its taste is just awful compared to other brands that could give you results as well, the other terrible thing about is that it is terrible for mixing, it gets all lumpy and with sticky grains, this does not happen with other brands',\n",
              " 'this product perhaps aint so bad to get results, but its taste is just awful compared to other brands that could give you results as well, the other terrible thing about is that it is terrible for mixing, it gets all lumpy and with sticky grains, this does not happen with other brands',\n",
              " 'this product perhaps aint so bad to get results, but its taste is just awful compared to other brands that could give you results as well, the other terrible thing about is that it is terrible for mixing, it gets all lumpy and with sticky grains, this does not happen with other brands',\n",
              " 'this product perhaps aint so bad to get results, but its taste is just awful compared to other brands that could give you results as well, the other terrible thing about is that it is terrible for mixing, it gets all lumpy and with sticky grains, this does not happen with other brands',\n",
              " 'this stuff is.. ok. ive been having a protein shake every morning for a week now and the taste is pretty good. i mix digit scoops with almond milk, a frozen banana, and a tbsp. of pb fit. ive also tried almond milk and frozen strawberries which is also yum. it keeps me pretty full until lunch time and has a pleasant taste. the only real negative i have is that for the past digit days this stuff has been giving me some wicked gas... i mean wicked. like i cant let one slide at work or i will clear the office. bad.',\n",
              " 'received digit bottle, the cap from the digit bottle broke after first use. the digitnd bottle came with broken cap. the taste of honey is not great, very sweet and doesn’t have a lot of flavor.',\n",
              " 'received digit bottle, the cap from the digit bottle broke after first use. the digitnd bottle came with broken cap. the taste of honey is not great, very sweet and doesn’t have a lot of flavor.',\n",
              " 'received digit bottle, the cap from the digit bottle broke after first use. the digitnd bottle came with broken cap. the taste of honey is not great, very sweet and doesn’t have a lot of flavor.',\n",
              " 'ordered x brand prime digit day shipping on june digitdigitth. just informed me my package won’t be arriving till tuesday june digitdigitth só already off to a bad start with this product and seller. i will revise my post when my product finally decides to arrive. x brand.com services, inc figured you would at least ship my item in a timely fashion. i guess professional business is too much to ask for these days. seller : x brand.com services, inc',\n",
              " 'the shipping envelope, outside the product box and other product shipped in the same delivery envelope were fine, but the vitamins look as if someone set fire to the top. so weird.',\n",
              " 'order this product thinking the live culture probiotic would be better to take, but i didn’t get to try it because the dealer sent it with a small baggie of what must have been ice at one time, but was warm water by the time i got it over a week later. the package was hot when i got it out of the mail box, because it was over digitdigit degrees outside that day. i didn’t feel the live culture was live any more and tried to return it.  all i got was a message that this product was not returnable. when i called x brand for help. they tried to contact them too, but no response back to x brand either.  x brand trying to contact them again for me. so now it’s still not resolved. i give them digit stars!! this review made me rate product, but i didn’t get to try it. so just gave digit star. but that’s not really fare to the product. the dealer is the one that was so bad.',\n",
              " 'order this product thinking the live culture probiotic would be better to take, but i didn’t get to try it because the dealer sent it with a small baggie of what must have been ice at one time, but was warm water by the time i got it over a week later. the package was hot when i got it out of the mail box, because it was over digitdigit degrees outside that day. i didn’t feel the live culture was live any more and tried to return it.  all i got was a message that this product was not returnable. when i called x brand for help. they tried to contact them too, but no response back to x brand either.  x brand trying to contact them again for me. so now it’s still not resolved. i give them digit stars!! this review made me rate product, but i didn’t get to try it. so just gave digit star. but that’s not really fare to the product. the dealer is the one that was so bad.',\n",
              " 'the bottle exploded open with a loud bang. i fear bacterial contamination and cant use the vitamins. waste of money. used to like them but wont buy them again.',\n",
              " 'first time using a gummy vitamin. kept forgetting to take them. will go back to pills/capsules to take with my other meds.',\n",
              " 'not good no dha not good for wat i need it for nordic my asss who cares its week',\n",
              " 'i love this oil and usually buy it locally from a natural grocery store. however, this batch turned rancid quickly despite being stored in a dry cool place. had to throw out one completely unused bottle and half of an opened bottle. will not buy from this seller again.',\n",
              " 'non-coated so difficult to swallow.',\n",
              " 'very hard to chew. i prefer the members mark from sams club. much softer.',\n",
              " 'very hard to chew. i prefer the members mark from sams club. much softer.',\n",
              " 'the taste of it is not good.',\n",
              " 'i should have known i wasnt going to like these.  every solimo food product ive tried has been ridiculously sweet.  these are no exception. theyre so sweet that they hurt.  its like eating sweet candy turned up from digitdigit to digitdigitdigit.  when you put them in your mouth, they initially taste like nail polish.  my daughter tried one and thought the same thing independently.  they also get stuck in your teeth.  im not going to take the rest of these.',\n",
              " 'i should have known i wasnt going to like these.  every solimo food product ive tried has been ridiculously sweet.  these are no exception. theyre so sweet that they hurt.  its like eating sweet candy turned up from digitdigit to digitdigitdigit.  when you put them in your mouth, they initially taste like nail polish.  my daughter tried one and thought the same thing independently.  they also get stuck in your teeth.  im not going to take the rest of these.',\n",
              " 'i can only say that this did not work for me',\n",
              " 'did not receive product but charged.',\n",
              " 'pill is a bit large. made me sick feeling once now i just take with food. going to switch to a soft gel pill next time. i do like that these have folate and not folic acid! i have mthfr.',\n",
              " 'pill is a bit large. made me sick feeling once now i just take with food. going to switch to a soft gel pill next time. i do like that these have folate and not folic acid! i have mthfr.',\n",
              " 'delivered to the wrong address. neighbor was nice enough to bring it over to me but she inadvertently opened the box.',\n",
              " 'delivered to the wrong address. neighbor was nice enough to bring it over to me but she inadvertently opened the box.',\n",
              " 'i bought two bottles. lost all money. hype hoopla hope-waste of money.',\n",
              " 'this is very good stuff. gave digit star due to them sending the wrong product twice in a row. it was a completely different product with a sticker on the side that mislabeled it.',\n",
              " 'maybe it’s just the batch i got, but these taste so fishy to me. deal breaker because who wants to eat fishy flavored fruit snacks? gross.',\n",
              " 'they arent very sticky so sometimes they dont really stay in place',\n",
              " 'they arent very sticky so sometimes they dont really stay in place',\n",
              " 'this item was never shipped out and x brand eventually issued a refund. never heard from the company and the tracking number still says it was never received by usps.',\n",
              " 'i wanted to try this out just to see how it would fit for me, but i do have add so this really did nothing for me. probably somebody who doesnt have attention disorders would benefit from this. but since my mind is so hyperactive i really dont think that it helped in my case.',\n",
              " 'comes in uni-dose bubble pack  - can not get them out!  usually  can  peel back an edge to release pill, but not these.  had to use the point of a paring knife to cut each of the pills out of the packaging.  terrible design.',\n",
              " 'received this product in digit/digit/digitdigit and it is expired.',\n",
              " 'made me break out in hives and start itching. unfortunately i had to stop taking these because i was getting an allergic reaction to something in them.',\n",
              " 'item was never received, refunded or replaced.',\n",
              " 'oh my goodness, i dont write reviews. this stuff was so terrible i felt compelled to write a review on how terribly gross it is. the aftertaste...the initial taste. oh it is bad.',\n",
              " 'oh my goodness, i dont write reviews. this stuff was so terrible i felt compelled to write a review on how terribly gross it is. the aftertaste...the initial taste. oh it is bad.',\n",
              " 'this review is for how i received them today. i’ve ordered these gummies before and they e always came with an ice pack to avoid melting... this time there was no ice pack and they’re completely melted. submitted request to return for money back!!',\n",
              " 'this review is for how i received them today. i’ve ordered these gummies before and they e always came with an ice pack to avoid melting... this time there was no ice pack and they’re completely melted. submitted request to return for money back!!',\n",
              " 'scroll down to the bottom of the comment for the short of it.  also, parental advisory advised.<br /><br />i dont think i can imagine many things that taste worse than this stuff.  its downright awful.<br />i see a lot of comments on how it is tasteless, and if by tasteless they mean tastes like rotten raw ground up rancid fish and eggs in your mouth, then theyd be right.  i almost feel like theyre all lying to trick people into drinking it.<br /><br />i dont know if i got a bad batch, or what.  but this stuff tastes awful.  if youve ever smelled your underwear after a wet dream, that is just about what it tastes like.<br /><br />just buy the pills, unless you enjoy the taste of man juice: these other guys are either lying, already numbed to the taste, or just trolling; maybe all three',\n",
              " 'scroll down to the bottom of the comment for the short of it.  also, parental advisory advised.<br /><br />i dont think i can imagine many things that taste worse than this stuff.  its downright awful.<br />i see a lot of comments on how it is tasteless, and if by tasteless they mean tastes like rotten raw ground up rancid fish and eggs in your mouth, then theyd be right.  i almost feel like theyre all lying to trick people into drinking it.<br /><br />i dont know if i got a bad batch, or what.  but this stuff tastes awful.  if youve ever smelled your underwear after a wet dream, that is just about what it tastes like.<br /><br />just buy the pills, unless you enjoy the taste of man juice: these other guys are either lying, already numbed to the taste, or just trolling; maybe all three',\n",
              " 'scroll down to the bottom of the comment for the short of it.  also, parental advisory advised.<br /><br />i dont think i can imagine many things that taste worse than this stuff.  its downright awful.<br />i see a lot of comments on how it is tasteless, and if by tasteless they mean tastes like rotten raw ground up rancid fish and eggs in your mouth, then theyd be right.  i almost feel like theyre all lying to trick people into drinking it.<br /><br />i dont know if i got a bad batch, or what.  but this stuff tastes awful.  if youve ever smelled your underwear after a wet dream, that is just about what it tastes like.<br /><br />just buy the pills, unless you enjoy the taste of man juice: these other guys are either lying, already numbed to the taste, or just trolling; maybe all three',\n",
              " 'scroll down to the bottom of the comment for the short of it.  also, parental advisory advised.<br /><br />i dont think i can imagine many things that taste worse than this stuff.  its downright awful.<br />i see a lot of comments on how it is tasteless, and if by tasteless they mean tastes like rotten raw ground up rancid fish and eggs in your mouth, then theyd be right.  i almost feel like theyre all lying to trick people into drinking it.<br /><br />i dont know if i got a bad batch, or what.  but this stuff tastes awful.  if youve ever smelled your underwear after a wet dream, that is just about what it tastes like.<br /><br />just buy the pills, unless you enjoy the taste of man juice: these other guys are either lying, already numbed to the taste, or just trolling; maybe all three',\n",
              " 'not happy lid was broken and powder all inside of package',\n",
              " 'im on a low carb diet and this product meets my nutritional requirements.  the powder mixes easily and appears to be made from top-quality ingredients.  while the flavor isnt bad, ive certainly had much better.<br /><br />while i like the product, given its price as of this writing, coupled with the average flavor, at best, i think a digit star rating is appropriate.  i wouldnt talk you out of trying it, but its average flavor and average value translates into a digit star average rating.',\n",
              " 'im on a low carb diet and this product meets my nutritional requirements.  the powder mixes easily and appears to be made from top-quality ingredients.  while the flavor isnt bad, ive certainly had much better.<br /><br />while i like the product, given its price as of this writing, coupled with the average flavor, at best, i think a digit star rating is appropriate.  i wouldnt talk you out of trying it, but its average flavor and average value translates into a digit star average rating.',\n",
              " 'the product as described did nothing to help my iron levels, it was like i hadnt been taking the vitimins.',\n",
              " 'these paper towels don’t absorb at all, all they do is smear water all over the counter. thought i could save some money and go with x brand brand but nope, i end up using three times as much. stick with bounty. you get what you pay for and these are cheap.',\n",
              " 'after i ate this grape seed, i just throw up, i saw it was my own problem, but i give it to my friends after she ate it, she was throwing up too. so i think its maybe the products problem.',\n",
              " 'i didnt like it',\n",
              " 'all of the research shows that getting adequate sleep is critical for muscle recovery.<br /><br />i have taken different sleep aids over the years with varying results.  i found this did help me fall asleep better and i felt well rested when i woke up.<br /><br />i did not experience the depressive side effects that others have noted.  i assume this is a individual response to the supplement - all sleep aids can have that effect on some people.<br /><br />while i didn’t have any issue swallowing the digit capsules - they are large.<br /><br />i can’t say that i noticed any extreme muscle building / enhanced strength effect while taking it.<br /><br />while it helped me fall and stay asleep i’m not sure if it really helps build lean muscle.  it didn’t hurt but i didn’t notice any significant difference.<br /><br />⭐️as with all drew’s reviews, if i discover something new about this product - good or bad - i will update my review.  i believe in creating detailed, complete reviews because, like you, i depend on them when i am shopping.  if you found my review helpful - please click ⬇️ below!⭐️',\n",
              " 'all of the research shows that getting adequate sleep is critical for muscle recovery.<br /><br />i have taken different sleep aids over the years with varying results.  i found this did help me fall asleep better and i felt well rested when i woke up.<br /><br />i did not experience the depressive side effects that others have noted.  i assume this is a individual response to the supplement - all sleep aids can have that effect on some people.<br /><br />while i didn’t have any issue swallowing the digit capsules - they are large.<br /><br />i can’t say that i noticed any extreme muscle building / enhanced strength effect while taking it.<br /><br />while it helped me fall and stay asleep i’m not sure if it really helps build lean muscle.  it didn’t hurt but i didn’t notice any significant difference.<br /><br />⭐️as with all drew’s reviews, if i discover something new about this product - good or bad - i will update my review.  i believe in creating detailed, complete reviews because, like you, i depend on them when i am shopping.  if you found my review helpful - please click ⬇️ below!⭐️',\n",
              " 'at first i loved them.. about digit weeks in i dreaded the thought of having to take them. these prenatal pills simply disgust me and i can’t imagine finishing the entire bottle. i think it’s the consistency that drives me crazy. they stick to my teeth and hide above my gums, they just linger. these pills live at my boyfriends and the walmart version stay at my place. when i go over his house some nights and forget to take my pill, i sometimes skip it because they’re just that bad! yuck!',\n",
              " 'at first i loved them.. about digit weeks in i dreaded the thought of having to take them. these prenatal pills simply disgust me and i can’t imagine finishing the entire bottle. i think it’s the consistency that drives me crazy. they stick to my teeth and hide above my gums, they just linger. these pills live at my boyfriends and the walmart version stay at my place. when i go over his house some nights and forget to take my pill, i sometimes skip it because they’re just that bad! yuck!',\n",
              " 'at first i loved them.. about digit weeks in i dreaded the thought of having to take them. these prenatal pills simply disgust me and i can’t imagine finishing the entire bottle. i think it’s the consistency that drives me crazy. they stick to my teeth and hide above my gums, they just linger. these pills live at my boyfriends and the walmart version stay at my place. when i go over his house some nights and forget to take my pill, i sometimes skip it because they’re just that bad! yuck!',\n",
              " 'the dropper is not attached so as you try to dispense the oil, it just pours out. this makes the item useless to diffuse. i want a refund. my fear is i have digit other bottles due for delivery from the same manufacturer and i hope this is an isolated incident since it appears this can not be returned. i feel i am due a refund.',\n",
              " 'i used to love this but its disgusting now. incredibly chalky and doesnt taste like chocolate at all. ill be finding another shake.',\n",
              " 'unfortunately after digit attemps by x brand to deliver this product. it was delivered to the wrong address the digit times due to a problem in their mapping system. i had to ask for a refund in the end.',\n",
              " 'sent me a bottle that expires in less than a year',\n",
              " 'i bought this because i have heard good things about optimum nutrition. upon taking this preworkout, i have not noticed any changes during my workout. i have used other pws in the past and could feel more energy but not with this one. i am an avid coffee drinker (digit or digit cups a day) so my caffeine and stimulant tolerance could be higher. i did reach out to the company as they did a panel test from a sample batch. they confirmed there were no issues and sent me a complimentary container which was really nice of them. because of their great customer service and great flavor (green apple) i have given digit stars. if you do not normally intake caffeine or are new to pws, then this pw could easily be the step you need to continue your workout goals.',\n",
              " 'i bought this because i have heard good things about optimum nutrition. upon taking this preworkout, i have not noticed any changes during my workout. i have used other pws in the past and could feel more energy but not with this one. i am an avid coffee drinker (digit or digit cups a day) so my caffeine and stimulant tolerance could be higher. i did reach out to the company as they did a panel test from a sample batch. they confirmed there were no issues and sent me a complimentary container which was really nice of them. because of their great customer service and great flavor (green apple) i have given digit stars. if you do not normally intake caffeine or are new to pws, then this pw could easily be the step you need to continue your workout goals.',\n",
              " 'i’ve researched it on the now foods site and independent pages and it appears to be high quality. but it does leave an after taste, and surprisingly very little sweet taste, if any at all. i took a tiny taste of the powder straight out of the jar and it was really bad.<br /><br />i’ll be honest, i just do not understand the reviews that say it tastes good and tastes like sugar. this stuff is not sweet at all, and leaves a chemical after taste. did i get a bad jar? all i know is i won’t buy it again. i just bought organic sweet leaf stevia. the two extra ingredients in that brand that people think are bad are not bad at all. research those ingredients to see if you agree.<br /><br /> also, what most people don’t know is much of now products are made in china. i’m not saying that makes this bad, because now has internal testers and third party testers to confirm purity and quality. but i think that should be known so people understand everything about the product when making buying decisions..',\n",
              " 'i’ve researched it on the now foods site and independent pages and it appears to be high quality. but it does leave an after taste, and surprisingly very little sweet taste, if any at all. i took a tiny taste of the powder straight out of the jar and it was really bad.<br /><br />i’ll be honest, i just do not understand the reviews that say it tastes good and tastes like sugar. this stuff is not sweet at all, and leaves a chemical after taste. did i get a bad jar? all i know is i won’t buy it again. i just bought organic sweet leaf stevia. the two extra ingredients in that brand that people think are bad are not bad at all. research those ingredients to see if you agree.<br /><br /> also, what most people don’t know is much of now products are made in china. i’m not saying that makes this bad, because now has internal testers and third party testers to confirm purity and quality. but i think that should be known so people understand everything about the product when making buying decisions..',\n",
              " 'i am very surprised by the non-packaging of the product especially as it is a liquid that needs intensive packaging!  i got the oil leaked',\n",
              " 'i cant leave a review because i have not received the item.',\n",
              " 'this what i received, not what i ordered',\n",
              " 'i have bought these for months and loved them but this batch is just horrible. i tried another one in the batch i ordered thinking it was just one. nope! this batch is just bad! i dont think i can return them because i threw out the boxes when i put them in the fridge to chill them. any way i can get my money back?',\n",
              " 'i buy this prenatal from walmart, but thought this was a good deal for a digit pack. once i received them (both bottles were packaged and sealed correctly), all of the gummies were a brownish color. the taste was also very off. the expiration date was still good, so i am not too sure why they were discolored and had such a bad flavor. went back to buying them from walmart.',\n",
              " 'i buy this prenatal from walmart, but thought this was a good deal for a digit pack. once i received them (both bottles were packaged and sealed correctly), all of the gummies were a brownish color. the taste was also very off. the expiration date was still good, so i am not too sure why they were discolored and had such a bad flavor. went back to buying them from walmart.',\n",
              " 'i buy this prenatal from walmart, but thought this was a good deal for a digit pack. once i received them (both bottles were packaged and sealed correctly), all of the gummies were a brownish color. the taste was also very off. the expiration date was still good, so i am not too sure why they were discolored and had such a bad flavor. went back to buying them from walmart.',\n",
              " 'i buy this prenatal from walmart, but thought this was a good deal for a digit pack. once i received them (both bottles were packaged and sealed correctly), all of the gummies were a brownish color. the taste was also very off. the expiration date was still good, so i am not too sure why they were discolored and had such a bad flavor. went back to buying them from walmart.',\n",
              " 'the taste is absolutely horrible.',\n",
              " 'this is pricey for the size but it lasts long when you use it for getting rid of nail fungus.  i just pour digit- drops in the cap then dip a very small paintbrush (the brush hair part is only about the size of a long grain of rice.  i only use this brush for my nails) and apply it to my nails.  the first week or so it stings the skin mild to medium when it gets on the skin.  if you wipe the skin with water this really helps take away the sting on the skin.  another thing that  helps is put lotion around the nail before you apply the oil.  the lotion reduces/removes the sting.  either way the stinging goes away after a week.  it is not that bad and it lasts about half an hour if you dont wipe the skin.  i have only tried it for a short time with oregano oil and peppermint oil (which has menthol) and it does look like it is healing the nails some.  i think i will also get some rosemary oil for some camphor and other antimicrobial properties.  i also like these oils because i regularly eat these herbs so i feel that they are safe for me.  many years back i mixed a lot of essential oils and my nails were almost healed and then i didnt keep up the regular application of oils.  this time i am not stopping until the nails are clear.',\n",
              " 'used to love these and exclusely buy for years.  they changed, now swell and fall apart, just lost a customer, nice work,',\n",
              " 'not good',\n",
              " 'im sure its a great product, but it just didnt work for me. ive been on allegrad digitdigit hour for years to control my allergies and severe asthma,and gave this a try for digit days.by day digit, i couldnt stop sneezing,and i was so stuffed up,had to mouth breathe.soory guys.',\n",
              " 'im sure its a great product, but it just didnt work for me. ive been on allegrad digitdigit hour for years to control my allergies and severe asthma,and gave this a try for digit days.by day digit, i couldnt stop sneezing,and i was so stuffed up,had to mouth breathe.soory guys.',\n",
              " 'dont work for me',\n",
              " 'didnt realize these are sugar free. my children have had diarrhea for last week and i just realized today that its from the artificial sweeteners in these gummies. we typically give them a fiber gummy morning and evening and they do well with that. not so with these. not at all.',\n",
              " 'i switched from a different brand of probiotics because i like this brand.  not only have they not worked for me, i am so bloated and havent been able to use the restroom in more than a week.  tossing out the rest immediately.',\n",
              " 'product label is misleading.  it shows digit.digitdigit per ounce, it is digit pounds, digit pounds equals digitdigit ounces, digitdigit*digit.digitdigit=digitdigit.digitdigit not digitdigit.  no deal...',\n",
              " 'they sent me a used broken diffuser',\n",
              " 'awful toilet paper; not even close to kirkland or charmin. i seriously dont understand what makes people write- one of the best.. under the review. i always have high expectations from x brand brand which this did not meet unfortunately.',\n",
              " 'this particular flavor does not contain sucralose but it does contain acesulfame potassium which is a dangerous artificial sweetener. acesulfame potassium is digitdigitdigit times sweeter than sugar...<br /><br />the center for science in the public interest (cspi) openly queried the quality of the science used to approve this sweetener for widespread public use. additionally, critics of acesulfame k raise specific concerns about its potential to cause cancer and affect the early development of babies during pregnancy.<br /><br />personally - this drink gave me a mild allergic reaction after only consuming two servings!<br />long term it is just too risky for me to use...<br /><br />stay informed people - companies like optimum nutrition will sell you whatever they can get away with to make a quick buck.',\n",
              " 'this particular flavor does not contain sucralose but it does contain acesulfame potassium which is a dangerous artificial sweetener. acesulfame potassium is digitdigitdigit times sweeter than sugar...<br /><br />the center for science in the public interest (cspi) openly queried the quality of the science used to approve this sweetener for widespread public use. additionally, critics of acesulfame k raise specific concerns about its potential to cause cancer and affect the early development of babies during pregnancy.<br /><br />personally - this drink gave me a mild allergic reaction after only consuming two servings!<br />long term it is just too risky for me to use...<br /><br />stay informed people - companies like optimum nutrition will sell you whatever they can get away with to make a quick buck.',\n",
              " 'it came broken',\n",
              " 'i can not comment of if this product works because i just got it. but i’m unhappy this product came in and it seems some of the capsules have opened in the bottle. i understand this is supposed to smell fishy but because the capsules opened the smell is extremely strong and you can taste it when you swallow them...gross!!!',\n",
              " 'both bottles were broken. not enough packaging.',\n",
              " 'i wish this would’ve worked out for me, but i threw up within digitdigit minutes of taking it every time (and i didn’t experience vomiting until taking this prenatal). the smell and aftertaste was horrible in my opinion.',\n",
              " 'i wish this would’ve worked out for me, but i threw up within digitdigit minutes of taking it every time (and i didn’t experience vomiting until taking this prenatal). the smell and aftertaste was horrible in my opinion.',\n",
              " 'not bad of a product, serving size scoop is obnoxious though.',\n",
              " 'this does not work as well as the name brand. we only used it for about a week and went back to name brand. wasted money.',\n",
              " 'first time buying this product and after reading many bad reviews about the product contains contaminants, i will never buy it again.  the taste of stevia is horrible. i wish i never bought this product.',\n",
              " 'first time buying this product and after reading many bad reviews about the product contains contaminants, i will never buy it again.  the taste of stevia is horrible. i wish i never bought this product.',\n",
              " 'these are very sour and stick to your teeth more than other gummy vitamins our there.',\n",
              " 'these are very sour and stick to your teeth more than other gummy vitamins our there.',\n",
              " 'these are very sour and stick to your teeth more than other gummy vitamins our there.',\n",
              " 'my nails seemed to chip more and my face and body started to break out. no hair growth either. it was the complete opposite of what it should do. i wanted to stick with it but my face is broke out so bad',\n",
              " 'my nails seemed to chip more and my face and body started to break out. no hair growth either. it was the complete opposite of what it should do. i wanted to stick with it but my face is broke out so bad',\n",
              " 'upon opening the bottle, a strong chemical smell is immediately present. while swallowing the pill, the smell turns into a taste... i hadnt tried a probiotic of this strength before, so i gave it two weeks to see if this diminished. it has not. during this time, i have also documented that i feel notably lightheaded & short of breath within hours after consuming one, with no changes in exercise or diet besides this pill. i can now say these are side effects, likely due to the chemicals in the plastic bottle or in preservation of the capsules. bpa can cause changes in estrogen levels and create asthmatic symptoms. ive never left a product review before, but i felt very compelled to let others know to beware. im a little scared & very disappointed in what may have been a good product, but well never know :(',\n",
              " 'upon opening the bottle, a strong chemical smell is immediately present. while swallowing the pill, the smell turns into a taste... i hadnt tried a probiotic of this strength before, so i gave it two weeks to see if this diminished. it has not. during this time, i have also documented that i feel notably lightheaded & short of breath within hours after consuming one, with no changes in exercise or diet besides this pill. i can now say these are side effects, likely due to the chemicals in the plastic bottle or in preservation of the capsules. bpa can cause changes in estrogen levels and create asthmatic symptoms. ive never left a product review before, but i felt very compelled to let others know to beware. im a little scared & very disappointed in what may have been a good product, but well never know :(',\n",
              " 'glycerin in too much causes health problems like headachs and dizziness, just saying',\n",
              " 'these are digitdigitdigit% disgusting. if youve ever eaten sweet n low straight from the packet, youll know just how they taste.',\n",
              " 'i bought this digit days ago and it never arrived. i had a two day delivery for it, but gave it the benefit of a doubt even though it said it was already delivered and in my mailbox. just brought it my mail for today and its still not here.',\n",
              " 'i didn’t like this vitamin. it smells fishy and it bothered my stomach but great combination of vitamins.',\n",
              " 'the seal to my bottle of almond oil was broken when i received it, probably due to the fact that the bottle was not secured in the box and rolled around  during transit.  oil  leaked out into the box.  have not used the product yet, bought it for making body butter. product probably will be fine, just disappointed in packaging.',\n",
              " 'i took these for almost digit months (digit three times a day) and never saw any results. they also messed with my bm cycle and pretty much clogged me up. once i stopped taking them my bm’s returned to normal.',\n",
              " 'i took these for almost digit months (digit three times a day) and never saw any results. they also messed with my bm cycle and pretty much clogged me up. once i stopped taking them my bm’s returned to normal.',\n",
              " 'i didn’t recive the product, the package was demanded and inside there was just the protein, thank you',\n",
              " 'i’ve had some of these oils before and they smelled great but these were definitely stale',\n",
              " 'item was delivered to the wrong address.....',\n",
              " 'doesnt work!',\n",
              " 'way too sweet. if your diabetic or trying to watch your sugar i’d avoid these. i threw mines away.',\n",
              " 'never got it ... i didn’t know but it ships from china',\n",
              " 'i didn’t receive',\n",
              " 'tasted great, but caused horrible stomach cramps and diarrhea.',\n",
              " 'ordered allergy medication and received baby cookie cutters.',\n",
              " 'ordered allergy medication and received baby cookie cutters.',\n",
              " 'i guess vega is going after a different breed of consumer. im not impressed with this new formulation. in the past, i loved vega based on the fact that it was clean and natural. i liked the taste too. i rarely do subscriptions for my x brand purchases, but for the original formula, i did. i only stopped because i had an abundance and needed to catch up.<br /><br />i first saw this new formulation in the health food store and thought wow, vega discontinued their original. what a shame. yes, i read the ingredients. no, i wasnt impressed. gone is the coconut oil powder, turmeric, ginger, ginseng and my favorite yerbe mate. actually this whole line appears to have changed its ingredients. that was strike digit.<br /><br />i decided to try it out today. i put a scoop in my shaker cup to mix it. same cup, same style of shaking. it foamed up. not mixed up - foamed up. that was first disappointing, then purely a turn off, because for me, that represents the others i stopped using because of their fake ingredients. strike digit.<br /><br />finally, i tasted it.  acia berry was my favorite flavor before, so i give stawberry/lemonade a try because, well, i like strawberry lemonade in general. um, thats not strawberry lemonade i tasted! it had a very chemically taste to it. again, this reminded me of the other stuff i stopped drinking because they had too many fake ingredients. to me, this new formulation is mainstream and just like the others now. sorry vega, sorry whitewave foods, strike digit for me.<br /><br />did i get a buzz. sure. it has enough caffeine to give me the pre workout buzz. so will a cup of coffee. but is it worth me buying another, for the same reason i remained a loyal customer all these past years. no. ill try to finish the container, unless i find a suitable replacement. but i wont buy another; or ill go back to what id stopped using before. im simply not impressed enough to pay for essentially a glorified cup of coffee. thanks for the memories though, vega.',\n",
              " 'when i received the product half of it was melted and the rest was all stuck together. i still take him and try ripping them apart. they taste good to. if they weren’t melted they probably would’ve been great.it’s not their fault though just something that happened',\n",
              " 'seems like a good product overall, but they sent me a bottle that expires less than digit months from it being delivered. that was kind of disappointing as i havent finished them yet and they are going to expire...',\n",
              " 'very stale, could not eat.',\n",
              " 'unfortunately when the product arrived it had not been sealed properly. it is the beginning of summer in south carolina and b/c the product was not sealed correctly it leaked out in the packaging. the label was soaked as well as a loss of about an inch of coconut oil. very messy. when i tried the link provided by x brand for product support, it did not work. i placed an order for a replacement, hopefully there will not be a problem. i have been looking forward to trying a garden of life product. it does concern me though that a product that is going to be consumed was not sealed all the way.',\n",
              " 'just awful',\n",
              " 'i love this product most of the time but this was a really bad batch. quality control people!',\n",
              " 'i had a pretty severe allergic reaction, swollen face and hands and a rash over my body. i would start taking these with caution.',\n",
              " 'beware if you have grain allergies as this product contains rice flour.',\n",
              " 'i am still waiting...not sure what the hold up is but its been over a week and no product yet. i was charged for it though. if the product ever comes i will update my opinion but at this point if i could do zero stars i would.',\n",
              " 'like a lot of reviews before, i had about digitdigit broken capsules! ill start purchasing these at a local store so its easier to return if it happens again. very disappointed for the price these are!',\n",
              " 'i’ve seen a lot of good reviews on testazone and it may be a decent product but i became very skeptical of the company after numerous attempts to contact them with questions. they don’t answer phone calls, return voice messages or respond to e-mails.<br /><br />additionally, as one of the other reviews noted, i received an older bottle of testazone upon ordering.<br /><br />after weeks of trying i contacted x brand. the rep there tried calling the company herself and hit the same dead ends as did i. i’m not going to say that testazone is a bad product but i’m highly suspicious of the company that markets such a product but won’t respond to consumers questions or concerns.',\n",
              " 'i totally love the chocolate chip flavor, but this peanut butter is not good at all.',\n",
              " 'i totally love the chocolate chip flavor, but this peanut butter is not good at all.',\n",
              " 'these have an odd taste and the are the size of a horse pill. i am switching back to the other vitamins i have been using for the last digit years...',\n",
              " 'these have an odd taste and the are the size of a horse pill. i am switching back to the other vitamins i have been using for the last digit years...',\n",
              " 'as protein powders go, this has got to be the most bland version i have tasted. probably in their quest to have the least number of ingredients, along with a claim of digit sugar and fully organic, they completely compromised on taste.',\n",
              " 'please help i never received',\n",
              " 'made me feel really nauseas during work outs.',\n",
              " 'i usually buy casien or another organic vegan and alternate, but i decided to save a few bucks. im not happy. if i was just doing a mix and chug, maybe i wouldnt care but i use it in fruit shakes and oatmeal instead of milk. the flavor tastes forced, if that makes sense, and it mixes more like glue or drywall mud. no matter how well mixed, it seems to have that pasty glue texture to it, which makes every drink or spoon-full leaving you with a feeling like your lips might get stuck closed. other than that the content seems to be okay, without any noticeable blood sugar spikes or feeling a hollow empty hunger an hour after like with whey.',\n",
              " 'i usually buy casien or another organic vegan and alternate, but i decided to save a few bucks. im not happy. if i was just doing a mix and chug, maybe i wouldnt care but i use it in fruit shakes and oatmeal instead of milk. the flavor tastes forced, if that makes sense, and it mixes more like glue or drywall mud. no matter how well mixed, it seems to have that pasty glue texture to it, which makes every drink or spoon-full leaving you with a feeling like your lips might get stuck closed. other than that the content seems to be okay, without any noticeable blood sugar spikes or feeling a hollow empty hunger an hour after like with whey.',\n",
              " 'i usually buy casien or another organic vegan and alternate, but i decided to save a few bucks. im not happy. if i was just doing a mix and chug, maybe i wouldnt care but i use it in fruit shakes and oatmeal instead of milk. the flavor tastes forced, if that makes sense, and it mixes more like glue or drywall mud. no matter how well mixed, it seems to have that pasty glue texture to it, which makes every drink or spoon-full leaving you with a feeling like your lips might get stuck closed. other than that the content seems to be okay, without any noticeable blood sugar spikes or feeling a hollow empty hunger an hour after like with whey.',\n",
              " 'i gave it digit stars because i used to swear by this toilet paper. i’d been using it for digit years, but within the last year started getting a terrible rash in the areas you use tp on. it didn’t click that it might be the toilet paper until i went on vacation & was using a different brand & the rash went away. when i got home i switched brands & no longer have that terrible rash. it was definitely the toilet paper. i don’t know if they changed their ingredients for it or what, but i can sadly say i’m no longer able to use it. maybe i just have terribly sensitive skin? not sure, but i don’t recommend using it. digit star because of the rash. digit stars because it used to be the best!!!',\n",
              " 'i didnt listen to the reviews that say it is too sweet, like stevia sweet. i should have. it is so overwhelmingly sweetened, i mix it with an unsweetened very bitter peanut cocoa protein powder and that is really the only way i personally can drink it. there is not a strong berry taste.',\n",
              " 'i didnt listen to the reviews that say it is too sweet, like stevia sweet. i should have. it is so overwhelmingly sweetened, i mix it with an unsweetened very bitter peanut cocoa protein powder and that is really the only way i personally can drink it. there is not a strong berry taste.',\n",
              " 'not a fan on this flavor',\n",
              " 'did not notice any difference before and after',\n",
              " 'i was told it was delivered to my lockbox in our mailroom. it was not! i was looking forward to my daughter and i trying this supplement. however i paid for something i never got. sucks! i dont know what the mailman did with it. been down to post office and now they said to file a claim. went to do just that and they say there was no insurance on this so i can not file a claim.',\n",
              " 'normally im a big fan of nordic naturals products, however, i will not be reordering the curcumin gummies. i dont like the taste (doesnt taste like mango to me) or the grainy texture. i appreciate that they are non-gmo and have no added sugar. unfortunately, i cant say how effective they are because i cant stick with them long enough due to the taste.',\n",
              " 'normally im a big fan of nordic naturals products, however, i will not be reordering the curcumin gummies. i dont like the taste (doesnt taste like mango to me) or the grainy texture. i appreciate that they are non-gmo and have no added sugar. unfortunately, i cant say how effective they are because i cant stick with them long enough due to the taste.',\n",
              " 'normally im a big fan of nordic naturals products, however, i will not be reordering the curcumin gummies. i dont like the taste (doesnt taste like mango to me) or the grainy texture. i appreciate that they are non-gmo and have no added sugar. unfortunately, i cant say how effective they are because i cant stick with them long enough due to the taste.',\n",
              " 'i don‘t like the taste at all，it’s cheap though. no favor and it‘s bitter.',\n",
              " 'unfortunately, i cant rate this item because i never received the package.  it reads that it was delivered to the mailroom.  however the building closes at five.  they claimed they delivered at six.',\n",
              " 'why must they make multivitamins so huge? do they have to be so big to get all the vitamins in? they need to put the size on the bottle! gave them away',\n",
              " 'i am sick and tired of my items not arriving and the status showing delivered. i met my mailman on the front stairs. he handed me two envelopes at a few minutes to five. the status of my order says delivered at digit:digitdigit. 😡😡😡😡😡<br /><br />x brand needs an option for “item not received lying carrier!”',\n",
              " 'i am sick and tired of my items not arriving and the status showing delivered. i met my mailman on the front stairs. he handed me two envelopes at a few minutes to five. the status of my order says delivered at digit:digitdigit. 😡😡😡😡😡<br /><br />x brand needs an option for “item not received lying carrier!”',\n",
              " 'the flavor was not what i was expecting, didn’t taste citrusy, just bitter.',\n",
              " 'absolutely destroyed my stomach. horrible stomach cramps about digitdigit minutes after taking.',\n",
              " 'did nothing!',\n",
              " 'a little too sweet for my taste but the biggest problem was expecting a coffee flavor.  i am eighty years of age and for decades have ground my own beans and used a french press to brew my coffee.  i have savored beans from every part of the world in my digitdigit years....but never tasted what ever this flavor might be described....but to my taste buds, it does not taste of coffee unless i blend it with cool water and pour the contents of my french press over the mixture.',\n",
              " 'a little too sweet for my taste but the biggest problem was expecting a coffee flavor.  i am eighty years of age and for decades have ground my own beans and used a french press to brew my coffee.  i have savored beans from every part of the world in my digitdigit years....but never tasted what ever this flavor might be described....but to my taste buds, it does not taste of coffee unless i blend it with cool water and pour the contents of my french press over the mixture.',\n",
              " 'awful. no matter how long i blend it or what i blend it with, it tastes like i am drinking artificially, chocolate flavored sand. don’t waste your money.',\n",
              " 'yuk.',\n",
              " 'i usually buy the popular competitors brand (calm). garden of life is more expensive per ounce. its also loaded with stevia sweetener. the taste is excessively sweet. you cant even purchase food supplements without added sweeteners, just like the vast majority of manufactured food items. the powder doesnt dissolve well like the other brand - ends up lining the glass with undissolved particles.',\n",
              " 'ups shipped... box looked like it went thru a war when i got it.',\n",
              " 'these smell awful. i’m not sure if that is normal, and i don’t know if they are effective, but it’s hard to take them.',\n",
              " 'i just do not like these. im giving it digit stars because, im sure it gets the job done, she my reasons for not liking them is a personal preference. i read some of the other reviees saying these didnt have a gummy texture, but more so melt in your mouth kind of thing going on. this is absolutely true! i thought i wouldnt mind it, but as it turns out....i find it god-awful. i think ill stick with gummy vitamins that actually are gummy vitamins. the taste is quite alright, though. i just hate the way it melts.',\n",
              " 'i just do not like these. im giving it digit stars because, im sure it gets the job done, she my reasons for not liking them is a personal preference. i read some of the other reviees saying these didnt have a gummy texture, but more so melt in your mouth kind of thing going on. this is absolutely true! i thought i wouldnt mind it, but as it turns out....i find it god-awful. i think ill stick with gummy vitamins that actually are gummy vitamins. the taste is quite alright, though. i just hate the way it melts.',\n",
              " 'i just do not like these. im giving it digit stars because, im sure it gets the job done, she my reasons for not liking them is a personal preference. i read some of the other reviees saying these didnt have a gummy texture, but more so melt in your mouth kind of thing going on. this is absolutely true! i thought i wouldnt mind it, but as it turns out....i find it god-awful. i think ill stick with gummy vitamins that actually are gummy vitamins. the taste is quite alright, though. i just hate the way it melts.',\n",
              " 'i’m one of those people that doesn’t think this vitamin is so great.  i only took two capsules per day for a few days and had some horrible reactions.  my face broke out in acne (i’m digitdigit...not acne prone anymore), all over my body my skin was itchy, sensitive, and  felt chapped.  my calves cramped up, and i’ve had insomnia!  overall, i’ve felt pretty terrible.  i couldn’t figure out what the heck was going on, until i linked it back to these vitamins.  stopped taking them, and everything went away.',\n",
              " 'they gotta work on flavors they all taste like medicine',\n",
              " 'it never came...',\n",
              " 'having always used this product and being perfectly satisfied, i was completely disappointed with my latest order. i ordered a pack of digit bottles - all the softgels were stuck together. the mass of softgels was too big to get out of the bottle, so with difficulty, i was able to separate and use the digitst bottle. when trying to separate those in the digitnd bottle, one of the softgels popped, and thats the end of that bottle. it is too late to return, so a rather expensive loss for me. will never get this brand again!',\n",
              " 'having always used this product and being perfectly satisfied, i was completely disappointed with my latest order. i ordered a pack of digit bottles - all the softgels were stuck together. the mass of softgels was too big to get out of the bottle, so with difficulty, i was able to separate and use the digitst bottle. when trying to separate those in the digitnd bottle, one of the softgels popped, and thats the end of that bottle. it is too late to return, so a rather expensive loss for me. will never get this brand again!',\n",
              " 'order was damaged and never got to m e.g. but i also did not get a credit',\n",
              " 'order was damaged and never got to m e.g. but i also did not get a credit',\n",
              " 'my children are very picky about the taste and texture of vitamins. i have purchased these for the last year in store, because it’s the only one my kids will take without a fight. i have recently started purchasing them on x brand, and did not have any problems until my last shipment.<br /><br />not only did they take longer than expected to arrive, but they arrived melted and leaking all over the inside of the x brand box. they are completely unusable as the quality seal broke, they are no longer portioned, and the probiotic is likely no longer effective.<br /><br />digit containers is about a months supply for my household. i am now out $digitdigit. there is no ups store near me that i can drop this at. this is one subscribe and save i’m likely going to have to drop, because i can’t afford disappointments like this every month.',\n",
              " 'my children are very picky about the taste and texture of vitamins. i have purchased these for the last year in store, because it’s the only one my kids will take without a fight. i have recently started purchasing them on x brand, and did not have any problems until my last shipment.<br /><br />not only did they take longer than expected to arrive, but they arrived melted and leaking all over the inside of the x brand box. they are completely unusable as the quality seal broke, they are no longer portioned, and the probiotic is likely no longer effective.<br /><br />digit containers is about a months supply for my household. i am now out $digitdigit. there is no ups store near me that i can drop this at. this is one subscribe and save i’m likely going to have to drop, because i can’t afford disappointments like this every month.',\n",
              " 'my children are very picky about the taste and texture of vitamins. i have purchased these for the last year in store, because it’s the only one my kids will take without a fight. i have recently started purchasing them on x brand, and did not have any problems until my last shipment.<br /><br />not only did they take longer than expected to arrive, but they arrived melted and leaking all over the inside of the x brand box. they are completely unusable as the quality seal broke, they are no longer portioned, and the probiotic is likely no longer effective.<br /><br />digit containers is about a months supply for my household. i am now out $digitdigit. there is no ups store near me that i can drop this at. this is one subscribe and save i’m likely going to have to drop, because i can’t afford disappointments like this every month.',\n",
              " 'almost daily, i get deliveries from x brand and digitdigit.digitdigit% of the are delivered inside my screen porch as requested.  this driver stopped well-short if that goal.  they didn’t make it to the top of the stairs or open the front screen porch door to put the package out of the sun/rain/heat and view from the road.  this driver only made to the first landing of my front steps. this exposed the package to extreme heat, rain and visibility and access to anyone.  the worst part is that this supplement is not supposed to be exposed to extreme heat!<br /><br />this is a failure to communicate between x brand/the product seller and the x brand driver.  these should probably be cool packed and definitely should not be delivered in warm climates by “a” lazy driver.  all of my regular drivers are awesome.  this is definitely an isolated incident for me.  i have high praise for all other drivers who trod up my steps, onto my screen porch and place my package at the foot of my front door, out of the heat, rain and view of anyone.',\n",
              " 'this product did not work for me.  i love vega products. i usually use the plant based one pea protein. with this one it has bcaas, not sure if it caused my elevated blood pressure and heart palpitations. it might work for you but for me i had a reaction from it! not sure if the sodium content would of caused but i dont want this to happen again. so be careful and read the ingredients!',\n",
              " 'its just ok... this powder although is filling does not have the best taste but its not bad. we only liked it when using fresh fruits we froze the night before. in addition the powder is very gritty and does not dissolve well.',\n",
              " 'its just ok... this powder although is filling does not have the best taste but its not bad. we only liked it when using fresh fruits we froze the night before. in addition the powder is very gritty and does not dissolve well.',\n",
              " 'flavor sucks bad ..need a lot of water to take away the bad taste',\n",
              " 'flavor sucks bad ..need a lot of water to take away the bad taste',\n",
              " 'the taste is not good at all.',\n",
              " 'the taste is not good at all.',\n",
              " 'i was really excited about the ingredients ... but it tastes awful and the texture is really chalky and gritty.',\n",
              " 'i was really excited about the ingredients ... but it tastes awful and the texture is really chalky and gritty.',\n",
              " 'i was really excited about the ingredients ... but it tastes awful and the texture is really chalky and gritty.',\n",
              " 'i want to avoid products in plastic packaging due to  warnings about endocrine disrupting chemicals (edcs).  havent opened the bottle yet, as i still have a little left in the old bottle.  after reading here about possible rancidity or contamination, i am reluctant to partake.  read about edcs in sicker, fatter, poorer, a book available here on x brand.',\n",
              " 'i have doubled the amount of the serving and do not feel that fat satisfied feeling that keeps my stomach full for a while like it does with good ol cheap organic coconut oil (not expensive mct liquid). the mixability was terrible as well and it left an unpleasant taste/odor to my hot drink. bought for business trip to make bpc easier than hauling around a small blender but wont buy again. blender hauling it is...',\n",
              " 'these pills are quite large and not the easiest to swallow.',\n",
              " 'this brand of prenatal vitamin smells and taste like fish. i understand that it has dha in it, but i simply could not take it without gagging. do yourself a favor and have your ob write you a script for a prenatal.',\n",
              " 'this brand of prenatal vitamin smells and taste like fish. i understand that it has dha in it, but i simply could not take it without gagging. do yourself a favor and have your ob write you a script for a prenatal.',\n",
              " 'i thought that maybe since all the reviews were a couple years old, that the formula had changed back. i was way wrong. i dont have issues taking large pills. however, i have to pep talk myself to take this one. it smells horrible, leaves a terrible taste in my throat. its unfortunate since it has everything im looking for in a prenatal at a decent price.',\n",
              " 'i thought that maybe since all the reviews were a couple years old, that the formula had changed back. i was way wrong. i dont have issues taking large pills. however, i have to pep talk myself to take this one. it smells horrible, leaves a terrible taste in my throat. its unfortunate since it has everything im looking for in a prenatal at a decent price.',\n",
              " 'i thought that maybe since all the reviews were a couple years old, that the formula had changed back. i was way wrong. i dont have issues taking large pills. however, i have to pep talk myself to take this one. it smells horrible, leaves a terrible taste in my throat. its unfortunate since it has everything im looking for in a prenatal at a decent price.',\n",
              " 'do not order!!!! i ordered from now foods empty gel caps #digit but what they send me was digit boxes or digitdigitdigit count q-tips.  you can not return the wrong item,  you can not contact the seller.  you try to click the return button on x brand and it tell you it is a none returnable item.  you look at the  mailing label and it say x brand fulfillment services.  i paid over $digitdigit for $digit worth of q-tips. total crap',\n",
              " 'do not order!!!! i ordered from now foods empty gel caps #digit but what they send me was digit boxes or digitdigitdigit count q-tips.  you can not return the wrong item,  you can not contact the seller.  you try to click the return button on x brand and it tell you it is a none returnable item.  you look at the  mailing label and it say x brand fulfillment services.  i paid over $digitdigit for $digit worth of q-tips. total crap',\n",
              " 'the tops of both bottles were completely crushed. i tried to return but it said not returnable now i have two bottles of agave syrup with no lids. dont ever buy from this seller',\n",
              " 'this was my second jar of the hair skin and nails.  the first jar gave me almost instant results . . .nails and hair<br />growing.<br />the jar i purchased from x brand did absolutely nothing.',\n",
              " 'they arrived all wet and sticking together and melted inside plastic container... we got ripped off',\n",
              " 'ive been taking this vitamin ddigit for a month and have not seeing or felt any important changes. really dont know if its working.',\n",
              " 'being a big fan of natures bountys products i was very hopeful about this one. it had a pretty decent taste over all and you got  about a average ammount for the money. however unfortunately i didnt notice any real benifit from them. didnt seem like really gave me much energy. i tried until i ran out thinking maybe i need to take regularly for it to get in the system. but no change.<br /><br />i recommend the centrum energy over these.<br />natures bounty should reevaluate these and try and improve the formula.',\n",
              " 'sexual enhancement.',\n",
              " 'its very bad smell',\n",
              " 'didnt recieve order.',\n",
              " 'not digitdigitdigit% its cut with fish oil an smell an taste like bad fish<br />and when you pinch the bottle to get the oil out it sprays sideways',\n",
              " 'not digitdigitdigit% its cut with fish oil an smell an taste like bad fish<br />and when you pinch the bottle to get the oil out it sprays sideways',\n",
              " 'not digitdigitdigit% its cut with fish oil an smell an taste like bad fish<br />and when you pinch the bottle to get the oil out it sprays sideways',\n",
              " 'shipped the wrong product!?!<br />i ordered the peaceful sleep but got clear the air?',\n",
              " 'beware this shipment was mailed in an oversized styrofoam box which was totally unnecessary, environmentally “unfriendly” and a wasted expense for two bottles of (auto-shipped) gummy vitamins.<br /><br />i do not have a styrofoam recycle center nearby and for environment reasons, will not discard this styrofoam packaging into my regular trash, therefore, i have returned empty packaging to x brand (at my expense) requesting they not forward future shipments in styrofoam packaging.  if my request is ignored i will cancel my auto ship order.<br /><br />furthermore - the shipping box indicates perishable contents, the vitamin packaging does not indicate such!!!',\n",
              " 'horrible taste!!',\n",
              " 'i ordered gelatin capsules and i got something called magic shark juul wrap? i understand how they mistook the digit items and this isn’t available for returns so i can’t even fix it',\n",
              " 'love this protein powder, however since x brand shipped it to me through a prime order i was not allowed to leave a seller feedback on how it arrived. it arrived damaged and tossed around due to the way it was packaged. the box was open and it smashed the protein bars i bought with it at the same time.',\n",
              " 'i didnt know that my body wouldnt like erythritol when i purchased this.  it was what many people are raving about.  it makes my tongue go numb, and leaves an aftertaste in my mouth.  i can handle it better when mixed with monk fruit.',\n",
              " 'i didnt know that my body wouldnt like erythritol when i purchased this.  it was what many people are raving about.  it makes my tongue go numb, and leaves an aftertaste in my mouth.  i can handle it better when mixed with monk fruit.',\n",
              " 'i bought this product because im highly allergic to dairy and what i could tell, it contains no lactose ingredients.  however, i was not please with the consistence of the drink it produced, and hated the taste.  also, although im not allergic to eggs, it caused my body to react the same way it reacts to dairy products.  not for me.',\n",
              " 'i bought this product because im highly allergic to dairy and what i could tell, it contains no lactose ingredients.  however, i was not please with the consistence of the drink it produced, and hated the taste.  also, although im not allergic to eggs, it caused my body to react the same way it reacts to dairy products.  not for me.',\n",
              " 'it mixes nicely, but the salted caramel tastes burnt and terribly chemical. i have previously tried the vanilla and the coconut-almond. vanilla was the worst with the stevia taste but easily remedied by mixing with black tea or matcha powder. coconut-almond was really delicious. usually i find that a slight savory or salty flavor covers stevia well (like oatmeal cookie or cake batter in diet ice cream), but this salted caramel seems to emphasize the bitter, chemical taste.<br />the formulation also seems to have changed multiple times in the last year, so i always check the most recent nutrition facts on the vega website when comparing products.',\n",
              " 'they did not work for me, had a bad allergic reaction',\n",
              " 'they did not work for me, had a bad allergic reaction',\n",
              " 'they did not work for me, had a bad allergic reaction',\n",
              " 'ordered twice a month apart.  both orders were x brand sold and shipped and both contained stuck together gummy globs.  stock needs to be removed.  disappointed.<br />digit star based on contents as received.',\n",
              " 'used to love this stuff but the last few i ordered are horrible. they dont blend as well as they used to leaving little bits of gooey substances floating in my smoothie. i would return them but x brand says my date of return has expired so im stuck with them i guess!',\n",
              " 'used to love this stuff but the last few i ordered are horrible. they dont blend as well as they used to leaving little bits of gooey substances floating in my smoothie. i would return them but x brand says my date of return has expired so im stuck with them i guess!',\n",
              " 'these bags have some sort of toxic scent on them. i bought them at whole foods and they smell like some fake lemon-scented poison.',\n",
              " 'these bags have some sort of toxic scent on them. i bought them at whole foods and they smell like some fake lemon-scented poison.',\n",
              " 'you need to regrind the crystals to a finer size or use confectioners erythritol or your baked goods will be crunchy due to the undissolved crystals. my batch of chocolate chip cookies were not very good because of this. also, erythritol imparts a cooling effect on the palate which makes for an unusual and artificial taste sensation. so far as erythritol being kinder to the gut, speaking only for myself, ive noticed the exact opposite effect.<br />it seems that the more i use of this, the more i like using sucralose for baking. it has a more natural flavor, dissolves well, hold up well to heat and its far cheaper to buy. i get mine at aldis.',\n",
              " 'package arrived with an expiration date of digit/digitdigitdigitdigit or less digit months to expiration.  i package i purchased some time ago expires digitdigit/digitdigit.  return.',\n",
              " 'i didnt want to take too many stars away because i love the brand. product is nothing but oil and had spilt all over the box it was sent in. there was no attempt to pack it and protect it. in order to receive a replacement i have to send it back to them!!!! really????? i wont be purchasing from them in the future',\n",
              " 'this product is fine, and i am rating it relative to other flavors. the chocolate or plain vanilla are better imo. the chai does not taste bad, it is just a very overwhelming flavor so i find it hard to blend with other things and have the combination taste good.',\n",
              " 'this product is fine, and i am rating it relative to other flavors. the chocolate or plain vanilla are better imo. the chai does not taste bad, it is just a very overwhelming flavor so i find it hard to blend with other things and have the combination taste good.',\n",
              " 'it was broken very dissapointed',\n",
              " 'product had opened and exploded everywhere inside package and was leaking out of the package digit different times.  i tried to ask for a refund after the second time and x brand  said it was not eligible  to return or replace.  it also leaked all over other mail in my mailbox and destroyed some things.  the product looked more like cottage cheese than oil and seemed as though it had gone bad in the first place. when i tried to contact the company the link did not work  all i want is a refund at this point',\n",
              " 'product had opened and exploded everywhere inside package and was leaking out of the package digit different times.  i tried to ask for a refund after the second time and x brand  said it was not eligible  to return or replace.  it also leaked all over other mail in my mailbox and destroyed some things.  the product looked more like cottage cheese than oil and seemed as though it had gone bad in the first place. when i tried to contact the company the link did not work  all i want is a refund at this point',\n",
              " 'product had opened and exploded everywhere inside package and was leaking out of the package digit different times.  i tried to ask for a refund after the second time and x brand  said it was not eligible  to return or replace.  it also leaked all over other mail in my mailbox and destroyed some things.  the product looked more like cottage cheese than oil and seemed as though it had gone bad in the first place. when i tried to contact the company the link did not work  all i want is a refund at this point',\n",
              " 'these do not work at all i was more hungry then i was before even taking the pills.smh rip off.',\n",
              " 'these do not work at all i was more hungry then i was before even taking the pills.smh rip off.',\n",
              " 'it was not a pack of three.  it was one (digit).',\n",
              " 'these bags work very well for everyday storage.  i would not use them for the freezing anything.  they need to be thick to prevent freezer burn.',\n",
              " 'for me, this is a middle of the road wipe. it’s no where near kirkland brand, which we feel is superior to all others. we do like them better than pampers or store brands, which are useless for number #digit. so for urine, they’re ok but i wish we hadn’t run out of kirkland wipes.',\n",
              " 'delivery is really bad lately!!!!! guess you are now letting just any tom, dick or harry deliver items and they dont care how long it takes for your package to arrive.  package could be in usps mail box, on dirt in driveway, without plastic wrap, or if they are especially smart and read our deliver instructions they may actually get it in the tub provided for deliveries.',\n",
              " 'i hate the cap.  it just keeps turning and turning. not user friendly at all.  i have a shoulder injury and just cant get it together.  please provide a choice of caps.  i smashed one of these caps with a hammer and ended up with a broken cap and bottle.  if i am lucky, only the twist cap as on listerine, cracks.<br />this gives me diarrhea sometimes, at digit (not digit) a day.  i muscle tested it on myself and only digitdigit% is absorbed.  the rest is wasted in the orange poop.  maybe it is the sugar in this.  the onsale windmill brand gel capsule  muscle tested digitdigit% absorbed in me.  no diarrhea, still orange poop.<br />my kind organics, part of parent company atrium is now gobbled up by nestle.  almost every single time  big brother takes over a company, the magic fizzles.<br />i read a book by a chef who designed his own line of live foods. he teamed up and was acquired by beach body, who told him it was cheaper to use sucralose (fake) instead of stevia because it costs less and the dumb consumers dont know any better.  then later, they made him change his health recipes and bars again.  at end of story, when his wife told him he was no longer the person she knew.  go figure. muscle test everything you can!',\n",
              " 'i hate the cap.  it just keeps turning and turning. not user friendly at all.  i have a shoulder injury and just cant get it together.  please provide a choice of caps.  i smashed one of these caps with a hammer and ended up with a broken cap and bottle.  if i am lucky, only the twist cap as on listerine, cracks.<br />this gives me diarrhea sometimes, at digit (not digit) a day.  i muscle tested it on myself and only digitdigit% is absorbed.  the rest is wasted in the orange poop.  maybe it is the sugar in this.  the onsale windmill brand gel capsule  muscle tested digitdigit% absorbed in me.  no diarrhea, still orange poop.<br />my kind organics, part of parent company atrium is now gobbled up by nestle.  almost every single time  big brother takes over a company, the magic fizzles.<br />i read a book by a chef who designed his own line of live foods. he teamed up and was acquired by beach body, who told him it was cheaper to use sucralose (fake) instead of stevia because it costs less and the dumb consumers dont know any better.  then later, they made him change his health recipes and bars again.  at end of story, when his wife told him he was no longer the person she knew.  go figure. muscle test everything you can!',\n",
              " 'ive tried this product before and didnt have any issues. i dont know if the ingredients were changed but it caused terrible constipation and even when i increased fiber in my diet i was still constipated! had to order a refund after being fed up with being constipated and of course i stopped using the product. this was the vanilla flavor.',\n",
              " 'ive tried this product before and didnt have any issues. i dont know if the ingredients were changed but it caused terrible constipation and even when i increased fiber in my diet i was still constipated! had to order a refund after being fed up with being constipated and of course i stopped using the product. this was the vanilla flavor.',\n",
              " 'did not work for me. i had a sense of filling full when taking and i kept wanting to gag so i stopped taking.',\n",
              " 'doesn’t work',\n",
              " 'if you have trouble swallowing pills i don’t recommend these. they are huge. i cut one in half and still had trouble with it.',\n",
              " 'does not work as advertised, very disappointed.',\n",
              " 'not sure is these help my milk supply but i do know they smell/ taste like rotten fish.',\n",
              " 'not sure is these help my milk supply but i do know they smell/ taste like rotten fish.',\n",
              " 'i know this has been stated before in other reviews but it bears repeating ... these pills are just too darn big!  plus you have to take two (digit) to get the digitdigitdigitdigit mg’s stayed on the bottle so double zing here.  i generally like the now brand of supplements, but when the manufacturer makes these extra large tablets (read “hard pill”) that are scary to try and swallow, what’s the point?  who doesn’t hate that horrible feeling of getting a large tablet stuck halfway down and then having to wait for it to semi dissolve.  yuck, and sometimes painful.',\n",
              " 'i know this has been stated before in other reviews but it bears repeating ... these pills are just too darn big!  plus you have to take two (digit) to get the digitdigitdigitdigit mg’s stayed on the bottle so double zing here.  i generally like the now brand of supplements, but when the manufacturer makes these extra large tablets (read “hard pill”) that are scary to try and swallow, what’s the point?  who doesn’t hate that horrible feeling of getting a large tablet stuck halfway down and then having to wait for it to semi dissolve.  yuck, and sometimes painful.',\n",
              " 'i know this has been stated before in other reviews but it bears repeating ... these pills are just too darn big!  plus you have to take two (digit) to get the digitdigitdigitdigit mg’s stayed on the bottle so double zing here.  i generally like the now brand of supplements, but when the manufacturer makes these extra large tablets (read “hard pill”) that are scary to try and swallow, what’s the point?  who doesn’t hate that horrible feeling of getting a large tablet stuck halfway down and then having to wait for it to semi dissolve.  yuck, and sometimes painful.',\n",
              " 'there was no tamper proof seal and it looked like half of it was gone. i threw it away.<br />i normally love this stuff but ill stick to buying it at a real store.',\n",
              " 'there was no tamper proof seal and it looked like half of it was gone. i threw it away.<br />i normally love this stuff but ill stick to buying it at a real store.',\n",
              " 'i bought a digitdigit pack of digitdigit oz tetra paks and all of them were bad like they had just started to go bad and unfortunately couldnt drink any. x brand immediately replaced the digitdigit pack. same manufacturing date for the second case that was sent - first couple were fine. third one i had it was same as the original case i had ordered. smelled gassy. unfortunate.',\n",
              " 'this works just as well as any other melatonin product for me. i thought the cherry flavor might be nice, was expecting something similar to ludens cough drops, but this is very chemically/artificial tasting. these are slightly more expensive than the solimo unflavored so i think ill switch back to them.',\n",
              " 'this works just as well as any other melatonin product for me. i thought the cherry flavor might be nice, was expecting something similar to ludens cough drops, but this is very chemically/artificial tasting. these are slightly more expensive than the solimo unflavored so i think ill switch back to them.',\n",
              " 'this works just as well as any other melatonin product for me. i thought the cherry flavor might be nice, was expecting something similar to ludens cough drops, but this is very chemically/artificial tasting. these are slightly more expensive than the solimo unflavored so i think ill switch back to them.',\n",
              " 'dry and the peanut flavor tastes artificial...',\n",
              " 'the vitamins did give me energy, but it also gave me headaches and an upset stomach. returned for a refund.',\n",
              " 'its hard to form a habit of regularly taking a vitamin if the experience is somewhat unpleasant. they dont have an old drug store smell, and they dont irritate my stomach. but, they are difficult to swallow, and thats going to keep me from taking them regularly. so, no matter how high the quality or how great the price -- i regret that i probably wont continue taking them.',\n",
              " 'received bad product<br />product did not look fresh at all.  we have attached a photo of how we received product.',\n",
              " 'the taste of these are fine, but itd be a stretch to call these gummies- the insides are very mushy and feels a little gross when its something you have to take daily.',\n",
              " 'the taste of these are fine, but itd be a stretch to call these gummies- the insides are very mushy and feels a little gross when its something you have to take daily.',\n",
              " 'the taste of these are fine, but itd be a stretch to call these gummies- the insides are very mushy and feels a little gross when its something you have to take daily.',\n",
              " 'ill try a different flavor next time.',\n",
              " 'part of my daily vitamin regiment, i ran out of vitamins before my trip to the gold coast. speedy delivery, all my vitamins arrived days before i departed.',\n",
              " 'well, the product is just fine.  however, the title of the product and packaging make it look like youre getting digitdigitdigit digit gram capsules.  that is not what you get, it takes digit capsules to equal a gram and you get digitdigitdigit capsules.  so, if you buy this thinking youre getting digitdigitdigit net grams, youre not, you only get digitdigitdigit total grams.  that makes it twice as expensive as i thought it was.  im going back to bulk glutamine because its much more economical.',\n",
              " 'tasted like the oil had oxidized and turned rancid or stale.  some of the box were good, but some were not.  will not order again.',\n",
              " 'tasted like the oil had oxidized and turned rancid or stale.  some of the box were good, but some were not.  will not order again.',\n",
              " 'tasted like the oil had oxidized and turned rancid or stale.  some of the box were good, but some were not.  will not order again.',\n",
              " 'i have used several brands but this one gave me a terrible rash on my hands.',\n",
              " 'these towels are unfortunately very hard crispy and super thin it takes almost half a roll to absorb a average spill',\n",
              " 'these towels are unfortunately very hard crispy and super thin it takes almost half a roll to absorb a average spill',\n",
              " 'you have to take digit tablets to get digitdigitdigitdigit mg of lysine where it should be all-in-one tablet, it is very misleading on the label.',\n",
              " 'ordered these vitamins, but they came in a damaged package.<br />i wrote to the seller about the problem, but he never answered me.<br />very sorry!',\n",
              " 'i’ve been using these for about three weeks now & haven’t lost any weight so i’m wondering if they are really effective at all.  not for me so far.  kind of disappointed.',\n",
              " 'i’ve been using these for about three weeks now & haven’t lost any weight so i’m wondering if they are really effective at all.  not for me so far.  kind of disappointed.',\n",
              " 'i am digitdigit years old and issues. tyed for two weeks no change. they excepted return easily.',\n",
              " 'the item arrives with almost expired date.there is a two version a dollar different sold by centrum and exp date was not stated on each of them. was given as a gift and could not use it. as well, when the lid opened, size of foil part was lifted up. now cant use for sure for a safety reasons. company would not help.',\n",
              " 'not a huge fan of these, they seem to be a bit smaller than the name brand ones and rip a bit easier if you stuff it too much, which unfortunately-happens when others dont want to take the garbage out',\n",
              " 'shortly after using these wipes my daughter got a really bad rash inside and out. she’s never had a rash this bad before. when i change her diaper she screams in pain when the wipes are touching her. though i thought these were safe for sensitive skin, and i do think they smell very nice, i don’t think we can use these anymore. i’m curious if anyone else had a similar problem.',\n",
              " 'buyer beware my vitamins arrived today in horrific condition.  (see pics). additionally, i received these on digit/digitdigit/digitdigit and the package states an expiration of june digitdigitdigitdigit.',\n",
              " 'never use this seller',\n",
              " 'made me feel so sick. then i learned that this product is cyanocobalamin, which turns to cyanide in your body.',\n",
              " 'not worth the cost, cheaply build, quality not at par with name brand paper towels.',\n",
              " 'works well but contains grain alcohol. makes u wonder whats doing the relaxing.',\n",
              " 'the product seems okay, but the poor packaging aloud the bottle cap to break. product leaked out.',\n",
              " 'the product seems okay, but the poor packaging aloud the bottle cap to break. product leaked out.',\n",
              " 'these tasted great and were so reasonably priced but they hurt my stomach and caused digestive issues. i’ll try something else.',\n",
              " 'delivery envelope was torn.  there was nothing inside.  i have photos.',\n",
              " 'this was not as good as the other brand i used before. the way the bottle sprays was not very good.',\n",
              " 'didnt realize these had no iron in them!! i started craving ice again out of no where and just realized why. throwing them out.',\n",
              " 'i know this for a fact.',\n",
              " 'i didnt receive it yet.',\n",
              " 'sent potassium instead of magnesium.  non-returnable/refundable.  dont order',\n",
              " 'i did not get what i ordered. i paid for a more expensive product, and was sent the cheaper brand. why?',\n",
              " 'i did not get what i ordered. i paid for a more expensive product, and was sent the cheaper brand. why?',\n",
              " 'my order was for the cheery vanilla digit mg gummies,i was informed when i ordered that packaging may very<br />i however received a different product,which was berry digitmg gummies  (digit not digitmg ) and i cant return it.<br />feeling very upset',\n",
              " 'these are really thin and not nearly as durable as the huggies wipes.  i’ll use them up but won’t order any more.',\n",
              " 'both bottles of oil smelled rancid and or had a terrible odor to them.  i wont be buying again',\n",
              " 'have never received a product without a label before. checked with some friends, and they were unanimous saying that this never happened with them either.',\n",
              " 'this stuff leaves a terrible after taste.  will not purchase again.',\n",
              " 'this stuff leaves a terrible after taste.  will not purchase again.',\n",
              " 'i like the flavor, but it doesnt help when im having acid reflux attack. tums or rolaids work better. i wish this worked as i like the flavor.',\n",
              " 'i like the flavor, but it doesnt help when im having acid reflux attack. tums or rolaids work better. i wish this worked as i like the flavor.',\n",
              " 'gave me upset stomach',\n",
              " 'alright flavor. a bit gritty',\n",
              " 'we never received the product. please res end',\n",
              " 'ive bought optimim nutrition for years and have enjoyed the flavors ive tried. but this. this flavor is disgusting. id return it if i could but i passed the return window. i will never buy double rich chocolate again, it tastes like bland grass. i even tried adding different flavors to it and nothing worked.',\n",
              " 'i ordered vanilla and got chocolate, very frustrating',\n",
              " 'i enjoyed these in the past, but the ones i just bought had mold on them. gross! ill be trying to get a refund.',\n",
              " 'the flavor isnt the best but otherwise good.  work well.',\n",
              " 'these taste and smell horrible!',\n",
              " 'these taste and smell horrible!',\n",
              " 'i havent been all that happy with this product for two reasons, it leaves me with a very queasy stomach and it doesnt help me sleep.  in fact, since taking it ive had some very vivid and peculiar dreams.  there is digitmg of melatonin which is pretty good for sleep. my wife takes digitdigitmg of melatonin to sleep as advised by her doctor for a comparison.  however, in the nights since ive been using it i feel queasy in the morning, almost like a hangover type nausea, and i remember my dreams, which is very new to me.  i never remember my dreams.  this formula is too trippy for me so i wont take it. btw im accustomed to taking supplements; i take a number of them as part of my weight training regimen, but this formula doesnt jibe with my chemistry.',\n",
              " 'so the container is massive for the small amount of power you get. it’s almost comical that a company would waste space and try to fool the costumer. the taste is bland and you need two scoops for the serving size. you’d have to buy this product more often than not as its not a digitdigit day supply.',\n",
              " 'safety seal was broken. guessing some were taken out or they were poisoned or something. ordered from service matters',\n",
              " 'safety seal was broken. guessing some were taken out or they were poisoned or something. ordered from service matters',\n",
              " 'safety seal was broken. guessing some were taken out or they were poisoned or something. ordered from service matters',\n",
              " 'safety seal was broken. guessing some were taken out or they were poisoned or something. ordered from service matters',\n",
              " 'i tried this with juice and water, it’s absolutely awful tasting. i couldn’t get past the first sip each time',\n",
              " 'my almond oil never has a smell but the one i received this time does. and it also doesnt seem to work as well. im not sure if i got a bad batch.',\n",
              " 'it’s to sticky, feel to heavy',\n",
              " 'it’s to sticky, feel to heavy',\n",
              " 'this item should have been shipped in a cardboard box. box was crushed from being in an envelope. while bags are still usable i have to find a box to store them in!',\n",
              " 'they were too sour for me and left a weird taste in my mouth.',\n",
              " 'they were too sour for me and left a weird taste in my mouth.',\n",
              " 'box of vitamins was open wheni received it..',\n",
              " 'this was just...meh. the flavor tasted like a watered down version of what it should have been. flavor is very important to me so i wasnt impressed. probably wont buy this again.',\n",
              " 'crackers were close to the best buy date and tasted a little stale.',\n",
              " 'dang it, man! no scoop provided. i weighed the suggested serving of digitdigitg and it comes out right at a digit/digit cup +/- digit.digit%.<br />the taste is too sweet. i will have to add more cocoa to cut the sweetness. hopefully it will mix in with no issues.<br />as for mixing the product....i had to break out my handheld boat motor.<br />update: digit.digit.digitdigit<br />i added a tablespoon of dutch cocoa to the product and it mixes well and improves the taste tremendously.',\n",
              " 'i use it to season pans only. i wouldnt take this junk it smells like bad fish.<br />use ultimate omega fron nordic naturals with a lemony taste and much better for you.<br />i use it for week and made me break out, doctor suggested omegadigit not flaxseed!',\n",
              " 'i use it to season pans only. i wouldnt take this junk it smells like bad fish.<br />use ultimate omega fron nordic naturals with a lemony taste and much better for you.<br />i use it for week and made me break out, doctor suggested omegadigit not flaxseed!',\n",
              " 'they were expired...',\n",
              " 'i bought this product based on the good reviews, but was super disappointed. doesn’t mix well (or at all, really) and the taste is so strong that it ruins my smoothies. it’s also incredibly thick so i can’t even just mix it with soy milk and chug it in the mornings. super bummed, looks like the search for the perfect protein is still on',\n",
              " 'this product made me so sick i was throwing up for an hour. i am not allergic to anything so it can’t be an allergic reaction. i take it in the morning with a meal and it tears my stomach up so bad. the first day i thought i had just eaten something bad. the second day i thought it was gas but today i was in the bathroom for over an hour. i feel terrible and i don’t take any other supplements so it definitely is this product. please don’t buy this because it’s going to really cause you problems.',\n",
              " 'this product made me so sick i was throwing up for an hour. i am not allergic to anything so it can’t be an allergic reaction. i take it in the morning with a meal and it tears my stomach up so bad. the first day i thought i had just eaten something bad. the second day i thought it was gas but today i was in the bathroom for over an hour. i feel terrible and i don’t take any other supplements so it definitely is this product. please don’t buy this because it’s going to really cause you problems.',\n",
              " 'this product made me so sick i was throwing up for an hour. i am not allergic to anything so it can’t be an allergic reaction. i take it in the morning with a meal and it tears my stomach up so bad. the first day i thought i had just eaten something bad. the second day i thought it was gas but today i was in the bathroom for over an hour. i feel terrible and i don’t take any other supplements so it definitely is this product. please don’t buy this because it’s going to really cause you problems.',\n",
              " 'taste isn’t bad at all, in my opinion. but these cause me some serious stomach pain. i won’t take them anymore.',\n",
              " 'taste isn’t bad at all, in my opinion. but these cause me some serious stomach pain. i won’t take them anymore.',\n",
              " 'item appears to be opened and returned seal was broken',\n",
              " 'the product was unfortunately never received.<br />it appears that there is a problem with the usps shipping . the tracking website shows it is delivered to my house, however i never received the delivery.<br />i contacted  both usps and the seller to resolve the problem . unfortunately usps doesn’t have a live costumer representative to help me over the phone , will try the local office later .<br />the seller did not offer further help after suggesting me contacting usps directly.  i am a frequent x brand buyer and used usps lots of times . this is the first time i ever had a problem with the purchase.<br />  in my opinion the seller should offer further help to solve to delivery problem , such as call the usps themselves , instead of leaving the problem to the customer (me). i paid for shipping fee and price of the chips to the buyer , not usps. they should be partially responsible for lost goods',\n",
              " 'i like that this has no scent and it does moisturize  without any skin irritation. however, it goes on greasy and takes forever to fully absorb. two hours later and my skin still feels sticky. theres also a residue left behind. i just dont like this as much as other brands.',\n",
              " 'i like that this has no scent and it does moisturize  without any skin irritation. however, it goes on greasy and takes forever to fully absorb. two hours later and my skin still feels sticky. theres also a residue left behind. i just dont like this as much as other brands.',\n",
              " 'i like that this has no scent and it does moisturize  without any skin irritation. however, it goes on greasy and takes forever to fully absorb. two hours later and my skin still feels sticky. theres also a residue left behind. i just dont like this as much as other brands.',\n",
              " 'the natures bounty clearcomplexion zinc plus manganese supplement seems like a good option for those looking for a zinc skin supplement. i got them for my wife hoping that it would help with her moderate rosacea, and while it hasnt made a hugely visible difference, she does say that its helped with the intensity of it. the challenge with her is that she really hates having to swallow pills and capsules of any kind and these are small enough and easier to swallow than most supplements, so she takes it regularly.<br /><br />one thing to note here is that there is quite a bit of zinc here. at digitdigitmg per serving (digit softgels), thats quite high (digitdigitmg is the tolerable upper intake level, but recommended dietary allowances are only digitdigitmg for men and digitmg for women). depending on your diet and what other supplements you take (most multivitamins have digitmg or less), you could get to that level pretty quickly. with these, you can reduce it to one softgel and still get plenty of zinc (and while that might leave you lacking a big of manganese, that mineral is generally much easier to get from healthy dietary sources like grains than zinc is). thats what my wife has done, and shes still received benefit from it.',\n",
              " 'i’ve taken various brands of fish oil for years including this one. formula or capsule coating must have changed recently because the last few bottles have not been “burpless”. if you’ve ever had that taste come up, you know how unpleasant that is. i’d suggest taking with the evening meal to avoid fish breath during the day when you’re out talking to people.',\n",
              " 'ive ordered this product through x brand before and it was great-- great flavor, great energy, awesome stuff. but i just got another canister of the blueberry mojito and its not what i had last time! the intended flavor is barely noticeable over what taste like soap, and its such a bad combo of whatever the heck they actually put in there that i cant drink it. im a little concerned about what actually just went into my body, if not whats on the label. i know it seems like a great price, but do yourself a favor and buy elsewhere. this just isnt a reliable source anymore, unfortunately. :(',\n",
              " 'ive ordered this product through x brand before and it was great-- great flavor, great energy, awesome stuff. but i just got another canister of the blueberry mojito and its not what i had last time! the intended flavor is barely noticeable over what taste like soap, and its such a bad combo of whatever the heck they actually put in there that i cant drink it. im a little concerned about what actually just went into my body, if not whats on the label. i know it seems like a great price, but do yourself a favor and buy elsewhere. this just isnt a reliable source anymore, unfortunately. :(',\n",
              " 'i’ve never taken melatonin before, but i’ve heard great things about olly so i figured why not? my personal experience: the flavor was gross, but not unexpected considering it’s a sleep aide. it also put me in a deep sleep where i was woken up but had no recollection of the short conversation i had. so if you have a life where you need to be awake and alert at any moment, beware.',\n",
              " 'my item has not arrived regardless of usps stating it was delivered digit days ago',\n",
              " 'definitely received the product with no top 🤦🏾\\u200d♀️...it didn’t leak out, thankfully, but fix the packaging. there is no way you didn’t know that there wasn’t a top when you sent it. we not but again.',\n",
              " 'definitely received the product with no top 🤦🏾\\u200d♀️...it didn’t leak out, thankfully, but fix the packaging. there is no way you didn’t know that there wasn’t a top when you sent it. we not but again.',\n",
              " 'i just received a replacement for the last shattered bottle and it was shattered too.  i have not had this issue when they were sent to me in a box - whos the dufus who puts a bottle in an envelope with a light coating of bubble wrap just attached to the envelope, no wrapping or protection around the bottle in the flimsy store shelf product box .  ill try this one more time but digit strikes and your out of my purchases!  ive also had many of the tablets broken in an unbroken bottle.',\n",
              " 'only one pack of baby wipes in the box of six was properly sealed.  three of the six packages of baby wipes leaked enough to soak through the packing box.  one had a hole large enough that i could put my finger all the way into the pack because it hadnt been properly sealed.  two others had baby wipe material caught in the end seals that were that actually wicked water into the packing box.  (two more had material caught in the end seals but were not wet).  luckily i opened the box shortly after it arrived and before it got the other items in the shipping box wet.',\n",
              " 'only one pack of baby wipes in the box of six was properly sealed.  three of the six packages of baby wipes leaked enough to soak through the packing box.  one had a hole large enough that i could put my finger all the way into the pack because it hadnt been properly sealed.  two others had baby wipe material caught in the end seals that were that actually wicked water into the packing box.  (two more had material caught in the end seals but were not wet).  luckily i opened the box shortly after it arrived and before it got the other items in the shipping box wet.',\n",
              " 'item was broken when i pulled the bottle out.',\n",
              " 'honestly didnt enjoy the flavor as much as i thought i would. its a bit over powering. still sometimes use for energy before the gym, or at work. i do feel some what of a boost of energy, which is hard for me to find in products. but maybe next time ill try a different flavor.',\n",
              " 'this gluten digest pill did not work for me. i took it before a meal where there could have been contamination (not intentional gluten eating) and i still had the same reaction i would if i didn’t take anything. i thought it was going to be a magic pill but it wasn’t for me, i guess everyone is different...',\n",
              " 'this gluten digest pill did not work for me. i took it before a meal where there could have been contamination (not intentional gluten eating) and i still had the same reaction i would if i didn’t take anything. i thought it was going to be a magic pill but it wasn’t for me, i guess everyone is different...',\n",
              " 'seems good but i purchased to help with tinnitus and it did nothing. took it religiously for two months everyday.',\n",
              " 'very disappointed that about digit/digit of the tablets were broken in the new bottle. the broken vitamins have rough edges and are very hard to swallow.  packaging for shipping needs to improve. i’ve never had this problem before.',\n",
              " 'very disappointed that about digit/digit of the tablets were broken in the new bottle. the broken vitamins have rough edges and are very hard to swallow.  packaging for shipping needs to improve. i’ve never had this problem before.',\n",
              " 'my two week old leaked through four of these diapers in a two days. we checked the diapers for user error when changing and couldn’t find any issues (we are second time parents i promise we know how to put on a diaper 😂). these may work for some babies, it depends on the fit. they are decently soft but for the price they aren’t very luxurious feeling. i feel like x brand should make a budget diaper priced like target up and up instead of trying to compete with pampers etc. thankfully x brand refunds you if you don’t like the diapers which is much appreciated.',\n",
              " 'i had heard a lot about the benefits of maca in terms of energy and balancing hormones oh, so i thought this would be helpful to add to my morning smoothies. i like that this also had the benefits of probiotics. unfortunately, i had a really hard time getting past the taste. it is very earthy and not something i could take on its own. i found it works best to try to hide it and something with a strong flavor, but even then the taste wasnt my favorite.',\n",
              " 'package is was breaking open upon arrival.  please replace.',\n",
              " 'dont waste your money on this.  has a slight hint of patchouli with more of a motor oil scent.  i bought this at a local grocery store in a short times notice.  i bought multiple bottles of the real deal patchouli in dubai when i was over in the uae, and  digit/digitdigitth of a drop of that stuff would ignite the whole room with the fragrance.  i agree with the other reviewers on the truly funky rank of this now brand.  kinda weird as i have used now sports supplements with excellent results.  if anyone knows a comparable patchouli with respect to what yadgar trading sells, do tell as that has been the most potent one that i have ever come across in my life.',\n",
              " 'not good.',\n",
              " 'i dont expect a miracle pill. i only have about digitdigit pounds to lose. however, i thought this would help control my appetite. it did not. i used it for two weeks, with absolutely no appetite suppressing at all. would have been great if it helped control my cravings. i wish i could send it back.',\n",
              " 'the soap leaked inside the bag.  i dont know how much i lost, but i cannot recycle the bag.',\n",
              " 'the jars are not sealed, the product feels like jello, its hard to get them on your fingers to take out of the jar, you have to dig, like a putty. its too dry, not used to a moisturizer with this consistency, it needs to feel like a lotion in my opinion. its like a hardened oil or lard or butter. i dont like it. i was excited because this is fragrance free, but the consistency makes not want to use it at all.',\n",
              " 'my granddaughter hated these.',\n",
              " 'as i’m learning more about fish oil, i learned that when it is punctured, the oil should not smell or taste fishy. truly fresh fish oil should not have a fishy smell or taste. it is recommended to test your fish oils before using. after i had learned of this, i tested mine out (this exact brand). the bottle had never been opened since i had bought a two package deal. i took one and punctured it. it had a very fishy smell. apparently, when there is a fishy smell, it means that oxidation has set in, making the oil rancid. this is good to know and i’m glad i learned of it. it’s also been recommended to get fish oil with vitamin e to help prevent rancidity as well as to refrigerate after opening.<br /><br />i learned this while reading “what would jesus eat” by don colbert. i seriously love this book so far. lots of factual information.',\n",
              " 'as i’m learning more about fish oil, i learned that when it is punctured, the oil should not smell or taste fishy. truly fresh fish oil should not have a fishy smell or taste. it is recommended to test your fish oils before using. after i had learned of this, i tested mine out (this exact brand). the bottle had never been opened since i had bought a two package deal. i took one and punctured it. it had a very fishy smell. apparently, when there is a fishy smell, it means that oxidation has set in, making the oil rancid. this is good to know and i’m glad i learned of it. it’s also been recommended to get fish oil with vitamin e to help prevent rancidity as well as to refrigerate after opening.<br /><br />i learned this while reading “what would jesus eat” by don colbert. i seriously love this book so far. lots of factual information.',\n",
              " 'out toddler rejected this vitamins. they are too chewy and stick between teeth. i wouldn’t eat them myself also for the same reasons.',\n",
              " 'bought this before but this time it leaked in box.  need to protect it better. i had other items',\n",
              " 'headline says it all.',\n",
              " 'i have to break them in twoand then chew them with water to get them down.  way too big.!',\n",
              " 'i ordered this product. was described as digit bottles, i only received one. seller advised to return. i had opened and was using. i would prefer the second bottle as advertised or digitdigit% refund. buyer beware . see description below.<br /><br /> delivered apr digitdigit, digitdigitdigitdigit<br /><br />kirkland signature aller-tec cetirizine hcl digitdigit mg/antihistamine tablets - digitdigitdigit tabletsper bottle, digit pack<br />sold by: buy better<br />return eligible through may digitdigit, digitdigitdigitdigit<br />$digitdigit.digitdigit<br /><br />buy it again',\n",
              " 'too heavy and sticky',\n",
              " 'too heavy and sticky',\n",
              " 'i too received this product warm.  i was assured it was fine, but i am not going to use it.  i first found this in a high end grocery store and it worked well.  the bottles i purchased on x brand have not worked well.  buyer beware.',\n",
              " 'i too received this product warm.  i was assured it was fine, but i am not going to use it.  i first found this in a high end grocery store and it worked well.  the bottles i purchased on x brand have not worked well.  buyer beware.',\n",
              " 'did nothing. only got a lot of positive reviews because you get one free',\n",
              " 'didnt work very well',\n",
              " 'tastes bad and doesnt mix well with digit oz of milk (which is the recommended serving',\n",
              " 'tastes bad and doesnt mix well with digit oz of milk (which is the recommended serving',\n",
              " 'this product came without a cap!  it was sealed with foil but i have no cap to use...',\n",
              " 'the tase to extremely over powering and had no effect on my energy. gave me a stomach ache. wont buy again',\n",
              " 'the tase to extremely over powering and had no effect on my energy. gave me a stomach ache. wont buy again',\n",
              " 'to sour',\n",
              " 'giving a low review because i havent seen results with this gummy like i have with other probiotics my toddler takes.',\n",
              " 'i bought digit bottles and one came with the top brocken i contacted the seller who was max wherhouse and informed them. they said send a picture of the damage. i told them that i had threw the bottle in the garbage can and i was not going to dig it out of the garbage. they emailed back and said too bad we can not help you. the digit dollars is not a big deal but i will remember this and will not buy anything again from max wherhouse. i  did not tell them i am in a wheelchair and could not get in the garbage can if i wanted to but i wanted to see what they would do',\n",
              " 'i bought digit bottles and one came with the top brocken i contacted the seller who was max wherhouse and informed them. they said send a picture of the damage. i told them that i had threw the bottle in the garbage can and i was not going to dig it out of the garbage. they emailed back and said too bad we can not help you. the digit dollars is not a big deal but i will remember this and will not buy anything again from max wherhouse. i  did not tell them i am in a wheelchair and could not get in the garbage can if i wanted to but i wanted to see what they would do',\n",
              " 'i bought digit bottles and one came with the top brocken i contacted the seller who was max wherhouse and informed them. they said send a picture of the damage. i told them that i had threw the bottle in the garbage can and i was not going to dig it out of the garbage. they emailed back and said too bad we can not help you. the digit dollars is not a big deal but i will remember this and will not buy anything again from max wherhouse. i  did not tell them i am in a wheelchair and could not get in the garbage can if i wanted to but i wanted to see what they would do',\n",
              " 'the product works fine as an antihistamine.  it is that it is much more expensive than at costco.  wont make that mistake again.',\n",
              " 'i bought this thinking it was comparable to honest diaper and it is not. i agree with everyone the diaper does fray easily. also, it’s very thin.<br /><br />my daughter had a sore from this diaper after two days of use. i changed to honest diapers for this reason. her skin is sensitive and none of the brands worked for her. we’ve tried seventh generation, babyganics, and pampers and they all reacted with her skin. it was hard when she was younger with the honest diaper since she had many blowouts but we stuck with it because it never irritated her skin.',\n",
              " 'i bought this thinking it was comparable to honest diaper and it is not. i agree with everyone the diaper does fray easily. also, it’s very thin.<br /><br />my daughter had a sore from this diaper after two days of use. i changed to honest diapers for this reason. her skin is sensitive and none of the brands worked for her. we’ve tried seventh generation, babyganics, and pampers and they all reacted with her skin. it was hard when she was younger with the honest diaper since she had many blowouts but we stuck with it because it never irritated her skin.',\n",
              " 'this product is not a good value. i was trying to find a similar product to optimum nutrition gold standard without the creatine. this product does not have creatine, but there is something in this product that causes indigestion or upset stomach. i did not work out as effectively when using this product and i also experienced a crash or loss of energy after an hour. this product is slightly more expensive than most supplements and i would not recommend.',\n",
              " 'this product is not a good value. i was trying to find a similar product to optimum nutrition gold standard without the creatine. this product does not have creatine, but there is something in this product that causes indigestion or upset stomach. i did not work out as effectively when using this product and i also experienced a crash or loss of energy after an hour. this product is slightly more expensive than most supplements and i would not recommend.',\n",
              " 'this product is not a good value. i was trying to find a similar product to optimum nutrition gold standard without the creatine. this product does not have creatine, but there is something in this product that causes indigestion or upset stomach. i did not work out as effectively when using this product and i also experienced a crash or loss of energy after an hour. this product is slightly more expensive than most supplements and i would not recommend.',\n",
              " 'this product is not a good value. i was trying to find a similar product to optimum nutrition gold standard without the creatine. this product does not have creatine, but there is something in this product that causes indigestion or upset stomach. i did not work out as effectively when using this product and i also experienced a crash or loss of energy after an hour. this product is slightly more expensive than most supplements and i would not recommend.',\n",
              " 'this taste terrible. oil mixed with some pseudo fruity flavor.',\n",
              " 'these don’t work as well as other vitamin e products i’ve used. my nails became very brittle and i had a lot of breakage when i started using these. maybe they aren’t high enough strength.',\n",
              " 'i opened these nature made soft gels and the inside of the bottle smells like straight ammonia. i called the number on the bottle to let them know and the person on the phone said that the smell was because one of the soft gels had broken open, okay...so is there ammonia inside the soft gel??? i was sent a return postage sticker from naturemade and x brand refunded my money. fyi...',\n",
              " 'tastes good, blends just ok, but unfortunately upset my stomach, probably too much caffeine.',\n",
              " 'i ordered digit oz liquid stevia. they sent me digit oz lemon essential oil. i need my refund, i dont even like lemon so im very upset! this has stressed me out, they dont do refunds cause its liquid but theyre the ones who messed up my order!',\n",
              " 'they just tasted terrible. i purchased one in a local place and they were good and not covered with sugar',\n",
              " 'pro-biotic itself is fine, but over the three times i have ordered it, the first came with the expected chewy gummy texture, the second came hard as rock and the third order (which i ordered to replace the inedible second order) was also nearly inedible due to hardness. is this a temperature storage issue, is this inconsistent manufacturing? i have not had this issue with the other gummy solimo vitamins ive ordered. vitamins should not have inconsistencies.',\n",
              " 'i was using another brand for several months when i decided to give this one a try.. not as effective. i will be going back to other brand.',\n",
              " 'i returned my item in april. despite opening a return in time, usps lost it and/or their dept received it past the return window; neither of which are in my control. now, i am not receiving a refund and i dont have the item in my possession. they just stole my money. no matter how many times i try to explain this to customer service, they push back. this is terrible customer service and should not be an acceptable solution.',\n",
              " 'likes: texture. the orange and lemon flavored chews are delicious! they taste like those orange slice candies!<br /><br />dislikes: the stawberry ones taste like straight up fish. i realize the product is made with fish, but the lemon and orange ones don’t have a fishy taste at all. the bottle is digit/digit strawberry, so it’s a big waste picking through them.<br /><br />this product would be digit stars if y’all got rid of the strawberry flavor. did no one do a taste panel to make sure these weren’t gross? as a pregnant woman, i almost puked when i tried the stawberry. do better, x brand!',\n",
              " 'likes: texture. the orange and lemon flavored chews are delicious! they taste like those orange slice candies!<br /><br />dislikes: the stawberry ones taste like straight up fish. i realize the product is made with fish, but the lemon and orange ones don’t have a fishy taste at all. the bottle is digit/digit strawberry, so it’s a big waste picking through them.<br /><br />this product would be digit stars if y’all got rid of the strawberry flavor. did no one do a taste panel to make sure these weren’t gross? as a pregnant woman, i almost puked when i tried the stawberry. do better, x brand!',\n",
              " 'likes: texture. the orange and lemon flavored chews are delicious! they taste like those orange slice candies!<br /><br />dislikes: the stawberry ones taste like straight up fish. i realize the product is made with fish, but the lemon and orange ones don’t have a fishy taste at all. the bottle is digit/digit strawberry, so it’s a big waste picking through them.<br /><br />this product would be digit stars if y’all got rid of the strawberry flavor. did no one do a taste panel to make sure these weren’t gross? as a pregnant woman, i almost puked when i tried the stawberry. do better, x brand!',\n",
              " 'this tastes exactly like what i remember my dads slim fast tasted like. same aftertaste and grit. not bad, but not natural tasting, imo. i liked that it was already made. but it wasnt my favorite taste.',\n",
              " 'this tastes exactly like what i remember my dads slim fast tasted like. same aftertaste and grit. not bad, but not natural tasting, imo. i liked that it was already made. but it wasnt my favorite taste.',\n",
              " 'this tastes exactly like what i remember my dads slim fast tasted like. same aftertaste and grit. not bad, but not natural tasting, imo. i liked that it was already made. but it wasnt my favorite taste.',\n",
              " 'before you buy, do a little google research!',\n",
              " 'had been using the walmart equate version for months with no problem. bought this because its a heck of a good price. problem is that it made me and the wife sick. nausea , the other end and dizziness. this is the only medication we share and the symptoms started the day after we started using it.',\n",
              " 'not what i thoght i ordered',\n",
              " 'their website would have you believe that only trace amounts of arsenic and lead are found in this protein powder. apparently, poison is natural in your plant based foods. unfortunately for vega, they came up testing for high levels of these heavy metals. thats enough to make me run the other way, but too bad i learned this after i purchased it and drank digit servings of it in two days.<br /><br />if that werent bad enough, the taste of the powder is just awful. i was going to choke it down anyway, until i learned about the literal poison inside. its messy, super fine powder that sticks to every crevice. it flies out of the tub when you open it. the scoop is actually more than the serving of digitdigit grams, so i had to weigh each serving which was near impossible considering the texture of it. please dont get this powder and save yourself the money.',\n",
              " 'their website would have you believe that only trace amounts of arsenic and lead are found in this protein powder. apparently, poison is natural in your plant based foods. unfortunately for vega, they came up testing for high levels of these heavy metals. thats enough to make me run the other way, but too bad i learned this after i purchased it and drank digit servings of it in two days.<br /><br />if that werent bad enough, the taste of the powder is just awful. i was going to choke it down anyway, until i learned about the literal poison inside. its messy, super fine powder that sticks to every crevice. it flies out of the tub when you open it. the scoop is actually more than the serving of digitdigit grams, so i had to weigh each serving which was near impossible considering the texture of it. please dont get this powder and save yourself the money.',\n",
              " 'their website would have you believe that only trace amounts of arsenic and lead are found in this protein powder. apparently, poison is natural in your plant based foods. unfortunately for vega, they came up testing for high levels of these heavy metals. thats enough to make me run the other way, but too bad i learned this after i purchased it and drank digit servings of it in two days.<br /><br />if that werent bad enough, the taste of the powder is just awful. i was going to choke it down anyway, until i learned about the literal poison inside. its messy, super fine powder that sticks to every crevice. it flies out of the tub when you open it. the scoop is actually more than the serving of digitdigit grams, so i had to weigh each serving which was near impossible considering the texture of it. please dont get this powder and save yourself the money.',\n",
              " 'their website would have you believe that only trace amounts of arsenic and lead are found in this protein powder. apparently, poison is natural in your plant based foods. unfortunately for vega, they came up testing for high levels of these heavy metals. thats enough to make me run the other way, but too bad i learned this after i purchased it and drank digit servings of it in two days.<br /><br />if that werent bad enough, the taste of the powder is just awful. i was going to choke it down anyway, until i learned about the literal poison inside. its messy, super fine powder that sticks to every crevice. it flies out of the tub when you open it. the scoop is actually more than the serving of digitdigit grams, so i had to weigh each serving which was near impossible considering the texture of it. please dont get this powder and save yourself the money.',\n",
              " 'their website would have you believe that only trace amounts of arsenic and lead are found in this protein powder. apparently, poison is natural in your plant based foods. unfortunately for vega, they came up testing for high levels of these heavy metals. thats enough to make me run the other way, but too bad i learned this after i purchased it and drank digit servings of it in two days.<br /><br />if that werent bad enough, the taste of the powder is just awful. i was going to choke it down anyway, until i learned about the literal poison inside. its messy, super fine powder that sticks to every crevice. it flies out of the tub when you open it. the scoop is actually more than the serving of digitdigit grams, so i had to weigh each serving which was near impossible considering the texture of it. please dont get this powder and save yourself the money.',\n",
              " 'their website would have you believe that only trace amounts of arsenic and lead are found in this protein powder. apparently, poison is natural in your plant based foods. unfortunately for vega, they came up testing for high levels of these heavy metals. thats enough to make me run the other way, but too bad i learned this after i purchased it and drank digit servings of it in two days.<br /><br />if that werent bad enough, the taste of the powder is just awful. i was going to choke it down anyway, until i learned about the literal poison inside. its messy, super fine powder that sticks to every crevice. it flies out of the tub when you open it. the scoop is actually more than the serving of digitdigit grams, so i had to weigh each serving which was near impossible considering the texture of it. please dont get this powder and save yourself the money.',\n",
              " 'no good',\n",
              " 'this product definitely helped my husband sleep, but he cannot comment yet on its intended usage as a muscle builder.  he is two weeks into using it, and will provide a longer detailed review after he has completed using the bottle',\n",
              " 'i can tell this product is not the same as the one i bought from walmart. both my boyfriend and i have the same feeling. it lasts way shorter. won’t buy it from here anymore',\n",
              " 'strawberry lime tastes like butt would not recommend',\n",
              " 'strawberry lime tastes like butt would not recommend',\n",
              " 'there is not written expiration date and and product looking not good',\n",
              " 'there is not written expiration date and and product looking not good',\n",
              " 'i took this at night. in the morning my stomach was doing back flips. it gave me diarrhea soon after and like a little bit throughout the day. i was scared to let out a small fart. i went to go pee and had a little diarrhea without even realizing i had to do that. good thing i decided not to pass gas outside the bathroom.<br />anyway. from my experience, i think it is good for a one time thing if you you are just having bowel movement issues.<br />i recommend taking only one at first to see how that does.',\n",
              " 'i bought this for my mom and she says it does not work as well as real claritin. however, you need to try it for yourself. if you do take claritin daily you could save alot of money by switching to a generic.',\n",
              " 'caused me a lot of cramping and bloating',\n",
              " 'these are all weird looking , inside the clear bottle, the gummys look like they were out in the heat, all stuck to each other.... i threw them away, such a waste of hard earned money! i dont recommend.',\n",
              " 'i don’t know if it’s working or not, but it definitely taste  good and i eat them like candy.',\n",
              " 'i don’t know if it’s working or not, but it definitely taste  good and i eat them like candy.',\n",
              " 'as of a few months ago, optimum nutrition must have updated their formula and the new formula tastes terrible. this used to be one of the best tasting protein powders, but the new formula is way worse. when i tried it, i immediately noticed something was off with the flavor, so i returned it assuming i just got a bad batch. but the replacement they sent me tasted exactly like the first one, so i can only assume that they changed their formula, probably to cut costs (not that they’ve passed those savings on to consumers though). it’s hard to describe the new flavor, but it’s kind of a sour, metallic taste. i’ve been buying this protein powder for nearly digit years, but i’m never buying this again.',\n",
              " 'as of a few months ago, optimum nutrition must have updated their formula and the new formula tastes terrible. this used to be one of the best tasting protein powders, but the new formula is way worse. when i tried it, i immediately noticed something was off with the flavor, so i returned it assuming i just got a bad batch. but the replacement they sent me tasted exactly like the first one, so i can only assume that they changed their formula, probably to cut costs (not that they’ve passed those savings on to consumers though). it’s hard to describe the new flavor, but it’s kind of a sour, metallic taste. i’ve been buying this protein powder for nearly digit years, but i’m never buying this again.',\n",
              " 'taste is so awful that it is undrinkable. full of artificial sweeteners. it left a chemical aftertaste for hours. do not buy.',\n",
              " 'taste is so awful that it is undrinkable. full of artificial sweeteners. it left a chemical aftertaste for hours. do not buy.',\n",
              " 'snake oil. ineffective.',\n",
              " 'i have been using this product since long... but i am upset this time the taste is not even close to chocolate and tastes bad. i feel this time the item i received is not original.',\n",
              " 'i have been using this product since long... but i am upset this time the taste is not even close to chocolate and tastes bad. i feel this time the item i received is not original.',\n",
              " 'i have been using this product since long... but i am upset this time the taste is not even close to chocolate and tastes bad. i feel this time the item i received is not original.',\n",
              " 'they sneakily changed the formula, this is not “pure” cod liver oil anymore, it has reduced natural vitamin a content and they replaced it with added poor quality cheap synthetic vitamin a. this form of added vitamin a is not good for health. avoid at all costs as the picture is misleading does not show this change<br /><br />now foods is getting greedy and reducing quality of their product this is too bad never buying from them again',\n",
              " 'they sneakily changed the formula, this is not “pure” cod liver oil anymore, it has reduced natural vitamin a content and they replaced it with added poor quality cheap synthetic vitamin a. this form of added vitamin a is not good for health. avoid at all costs as the picture is misleading does not show this change<br /><br />now foods is getting greedy and reducing quality of their product this is too bad never buying from them again',\n",
              " 'they sneakily changed the formula, this is not “pure” cod liver oil anymore, it has reduced natural vitamin a content and they replaced it with added poor quality cheap synthetic vitamin a. this form of added vitamin a is not good for health. avoid at all costs as the picture is misleading does not show this change<br /><br />now foods is getting greedy and reducing quality of their product this is too bad never buying from them again',\n",
              " 'powder settles at the bottom even mixed with hot coffee. absolutely will not blend. and it doesn’t taste like anything. maybe i got a bad batch but i won’t buy this brand again.',\n",
              " 'not the best flavor...honestly tastes like plastic',\n",
              " 'doesn’t taste good. doesn’t taste how other reviews described it to be. lacks chocolate taste but has the taste of artificial sweeteners. tried to return it but only got half of what i paid for back.',\n",
              " 'i decided to try this product since it had fairly good reviews and was a bit cheaper compared to the other one i was on and loved. my hair started to fall out again, my skin is horrible again, i get so sick to my stomach within digitdigitmin of taking this product & often vomit  them back up even with taking it before, during or after meals. maybe it just doesnt mix well with me but after great results with the first product i was highly  disappointed to get nothing but reverse results with this one.',\n",
              " 'i decided to try this product since it had fairly good reviews and was a bit cheaper compared to the other one i was on and loved. my hair started to fall out again, my skin is horrible again, i get so sick to my stomach within digitdigitmin of taking this product & often vomit  them back up even with taking it before, during or after meals. maybe it just doesnt mix well with me but after great results with the first product i was highly  disappointed to get nothing but reverse results with this one.',\n",
              " ...]"
            ]
          },
          "metadata": {
            "tags": []
          },
          "execution_count": 19
        }
      ]
    },
    {
      "cell_type": "code",
      "metadata": {
        "id": "5F7GaOSCX_2C"
      },
      "source": [
        "df_train[\"Review Text\"]=X"
      ],
      "execution_count": null,
      "outputs": []
    },
    {
      "cell_type": "code",
      "metadata": {
        "id": "bnrc_DbIcZBw",
        "outputId": "dc11590a-f54b-4995-a058-ebc9ce52673e",
        "colab": {
          "base_uri": "https://localhost:8080/",
          "height": 34
        }
      },
      "source": [
        "df_train.shape"
      ],
      "execution_count": null,
      "outputs": [
        {
          "output_type": "execute_result",
          "data": {
            "text/plain": [
              "(5959, 2)"
            ]
          },
          "metadata": {
            "tags": []
          },
          "execution_count": 22
        }
      ]
    },
    {
      "cell_type": "markdown",
      "metadata": {
        "id": "Een73448y1aa"
      },
      "source": [
        "##Resampling of Data"
      ]
    },
    {
      "cell_type": "markdown",
      "metadata": {
        "id": "K0px4zBw2XHW"
      },
      "source": [
        "Now once we have cleaned our data, we can handle the imbalanced class distribution problem by using **Random Over Sampler** or **Random Under Sampler**."
      ]
    },
    {
      "cell_type": "markdown",
      "metadata": {
        "id": "XSu4gArG3Ta7"
      },
      "source": [
        "Random Sampling can be of two types : \n",
        "\n",
        "*   Random Over Sampler - Randomly duplicate examples in the minority class.\n",
        "*   Random Under Sampler -  Randomly delete examples in the majority class.\n",
        "We use the Random Over Sampler technique as the minority class samples are very less if compared to the majority class samples. And , if we use Random Under Sampler then a major chunk of our dataset will be deleted which is not advisable.\n"
      ]
    },
    {
      "cell_type": "markdown",
      "metadata": {
        "id": "2Xay9rd81yZj"
      },
      "source": [
        "To use Random Over Sampler, we import **RandomOverSampler** from **imblearn** python library."
      ]
    },
    {
      "cell_type": "code",
      "metadata": {
        "id": "zH550hRX0xTd",
        "outputId": "36778eee-2632-403b-9e96-a4c8738a656a",
        "colab": {
          "base_uri": "https://localhost:8080/",
          "height": 105
        }
      },
      "source": [
        "from imblearn.over_sampling import RandomOverSampler"
      ],
      "execution_count": null,
      "outputs": [
        {
          "output_type": "stream",
          "text": [
            "/usr/local/lib/python3.6/dist-packages/sklearn/externals/six.py:31: FutureWarning: The module is deprecated in version 0.21 and will be removed in version 0.23 since we've dropped support for Python 2.7. Please rely on the official version of six (https://pypi.org/project/six/).\n",
            "  \"(https://pypi.org/project/six/).\", FutureWarning)\n",
            "/usr/local/lib/python3.6/dist-packages/sklearn/utils/deprecation.py:144: FutureWarning: The sklearn.neighbors.base module is  deprecated in version 0.22 and will be removed in version 0.24. The corresponding classes / functions should instead be imported from sklearn.neighbors. Anything that cannot be imported from sklearn.neighbors is now part of the private API.\n",
            "  warnings.warn(message, FutureWarning)\n"
          ],
          "name": "stderr"
        }
      ]
    },
    {
      "cell_type": "code",
      "metadata": {
        "id": "5ZKqW-Pm1vPX",
        "outputId": "10524aa8-0536-4031-fc9e-f44b1888bf5b",
        "colab": {
          "base_uri": "https://localhost:8080/",
          "height": 419
        }
      },
      "source": [
        "X=df_train.copy()\n",
        "X.drop(columns=\"topic\",inplace=True)\n",
        "X\n"
      ],
      "execution_count": null,
      "outputs": [
        {
          "output_type": "execute_result",
          "data": {
            "text/html": [
              "<div>\n",
              "<style scoped>\n",
              "    .dataframe tbody tr th:only-of-type {\n",
              "        vertical-align: middle;\n",
              "    }\n",
              "\n",
              "    .dataframe tbody tr th {\n",
              "        vertical-align: top;\n",
              "    }\n",
              "\n",
              "    .dataframe thead th {\n",
              "        text-align: right;\n",
              "    }\n",
              "</style>\n",
              "<table border=\"1\" class=\"dataframe\">\n",
              "  <thead>\n",
              "    <tr style=\"text-align: right;\">\n",
              "      <th></th>\n",
              "      <th>Review Text</th>\n",
              "    </tr>\n",
              "  </thead>\n",
              "  <tbody>\n",
              "    <tr>\n",
              "      <th>0</th>\n",
              "      <td>did nothing for me, didnt help lost even with ...</td>\n",
              "    </tr>\n",
              "    <tr>\n",
              "      <th>1</th>\n",
              "      <td>did nothing for me, didnt help lost even with ...</td>\n",
              "    </tr>\n",
              "    <tr>\n",
              "      <th>2</th>\n",
              "      <td>i have bought these bags and  immediately open...</td>\n",
              "    </tr>\n",
              "    <tr>\n",
              "      <th>3</th>\n",
              "      <td>gave me an allergic reaction on my face :(</td>\n",
              "    </tr>\n",
              "    <tr>\n",
              "      <th>4</th>\n",
              "      <td>these dont compare to the name brand wipes. fa...</td>\n",
              "    </tr>\n",
              "    <tr>\n",
              "      <th>...</th>\n",
              "      <td>...</td>\n",
              "    </tr>\n",
              "    <tr>\n",
              "      <th>5954</th>\n",
              "      <td>total damage . the vitamin is melted on one si...</td>\n",
              "    </tr>\n",
              "    <tr>\n",
              "      <th>5955</th>\n",
              "      <td>the pills smell awful and taste the same</td>\n",
              "    </tr>\n",
              "    <tr>\n",
              "      <th>5956</th>\n",
              "      <td>the pills smell awful and taste the same</td>\n",
              "    </tr>\n",
              "    <tr>\n",
              "      <th>5957</th>\n",
              "      <td>stuff taste horrible</td>\n",
              "    </tr>\n",
              "    <tr>\n",
              "      <th>5958</th>\n",
              "      <td>they taste horrible, but then again most prote...</td>\n",
              "    </tr>\n",
              "  </tbody>\n",
              "</table>\n",
              "<p>5959 rows × 1 columns</p>\n",
              "</div>"
            ],
            "text/plain": [
              "                                            Review Text\n",
              "0     did nothing for me, didnt help lost even with ...\n",
              "1     did nothing for me, didnt help lost even with ...\n",
              "2     i have bought these bags and  immediately open...\n",
              "3            gave me an allergic reaction on my face :(\n",
              "4     these dont compare to the name brand wipes. fa...\n",
              "...                                                 ...\n",
              "5954  total damage . the vitamin is melted on one si...\n",
              "5955           the pills smell awful and taste the same\n",
              "5956           the pills smell awful and taste the same\n",
              "5957                               stuff taste horrible\n",
              "5958  they taste horrible, but then again most prote...\n",
              "\n",
              "[5959 rows x 1 columns]"
            ]
          },
          "metadata": {
            "tags": []
          },
          "execution_count": 27
        }
      ]
    },
    {
      "cell_type": "code",
      "metadata": {
        "id": "kMdjpPq82BOG",
        "outputId": "ecb36eb3-35a4-41c5-8f64-65f4c3a226c1",
        "colab": {
          "base_uri": "https://localhost:8080/",
          "height": 419
        }
      },
      "source": [
        "Y=df_train.copy()\n",
        "Y.drop(columns=\"Review Text\",inplace=True)\n",
        "Y"
      ],
      "execution_count": null,
      "outputs": [
        {
          "output_type": "execute_result",
          "data": {
            "text/html": [
              "<div>\n",
              "<style scoped>\n",
              "    .dataframe tbody tr th:only-of-type {\n",
              "        vertical-align: middle;\n",
              "    }\n",
              "\n",
              "    .dataframe tbody tr th {\n",
              "        vertical-align: top;\n",
              "    }\n",
              "\n",
              "    .dataframe thead th {\n",
              "        text-align: right;\n",
              "    }\n",
              "</style>\n",
              "<table border=\"1\" class=\"dataframe\">\n",
              "  <thead>\n",
              "    <tr style=\"text-align: right;\">\n",
              "      <th></th>\n",
              "      <th>topic</th>\n",
              "    </tr>\n",
              "  </thead>\n",
              "  <tbody>\n",
              "    <tr>\n",
              "      <th>0</th>\n",
              "      <td>Shipment and delivery</td>\n",
              "    </tr>\n",
              "    <tr>\n",
              "      <th>1</th>\n",
              "      <td>Not Effective</td>\n",
              "    </tr>\n",
              "    <tr>\n",
              "      <th>2</th>\n",
              "      <td>Customer Service</td>\n",
              "    </tr>\n",
              "    <tr>\n",
              "      <th>3</th>\n",
              "      <td>Allergic</td>\n",
              "    </tr>\n",
              "    <tr>\n",
              "      <th>4</th>\n",
              "      <td>Texture</td>\n",
              "    </tr>\n",
              "    <tr>\n",
              "      <th>...</th>\n",
              "      <td>...</td>\n",
              "    </tr>\n",
              "    <tr>\n",
              "      <th>5954</th>\n",
              "      <td>Packaging</td>\n",
              "    </tr>\n",
              "    <tr>\n",
              "      <th>5955</th>\n",
              "      <td>Smells Bad</td>\n",
              "    </tr>\n",
              "    <tr>\n",
              "      <th>5956</th>\n",
              "      <td>Bad Taste/Flavor</td>\n",
              "    </tr>\n",
              "    <tr>\n",
              "      <th>5957</th>\n",
              "      <td>Bad Taste/Flavor</td>\n",
              "    </tr>\n",
              "    <tr>\n",
              "      <th>5958</th>\n",
              "      <td>Bad Taste/Flavor</td>\n",
              "    </tr>\n",
              "  </tbody>\n",
              "</table>\n",
              "<p>5959 rows × 1 columns</p>\n",
              "</div>"
            ],
            "text/plain": [
              "                      topic\n",
              "0     Shipment and delivery\n",
              "1             Not Effective\n",
              "2          Customer Service\n",
              "3                  Allergic\n",
              "4                   Texture\n",
              "...                     ...\n",
              "5954              Packaging\n",
              "5955             Smells Bad\n",
              "5956       Bad Taste/Flavor\n",
              "5957       Bad Taste/Flavor\n",
              "5958       Bad Taste/Flavor\n",
              "\n",
              "[5959 rows x 1 columns]"
            ]
          },
          "metadata": {
            "tags": []
          },
          "execution_count": 30
        }
      ]
    },
    {
      "cell_type": "markdown",
      "metadata": {
        "id": "1bncVyvPIGfY"
      },
      "source": [
        "Now to use Random Over Sampler , we create an object **ros** of **RandomOverSampler** class with parameter **random_state=42**. We use the **random_state** parameter in order to reproduce the same result every time we create the object. "
      ]
    },
    {
      "cell_type": "markdown",
      "metadata": {
        "id": "lwfcxZfkskvC"
      },
      "source": [
        "Then we use **fit_sample**() function using the object **ros** to get the balanced dataset(**X_res**,**Y_res**) by class.And we will pass **X** as input which contains data present in column **Review Text** and **Y** as output which contains data present in column **topic**."
      ]
    },
    {
      "cell_type": "code",
      "metadata": {
        "id": "upSdmIz01T_e",
        "outputId": "dd88821b-a7ea-4208-b7a0-7b4f4e011f90",
        "colab": {
          "base_uri": "https://localhost:8080/",
          "height": 105
        }
      },
      "source": [
        "ros=RandomOverSampler(random_state=42)\n",
        "X_res,Y_res=ros.fit_sample(X,Y)"
      ],
      "execution_count": null,
      "outputs": [
        {
          "output_type": "stream",
          "text": [
            "/usr/local/lib/python3.6/dist-packages/sklearn/utils/validation.py:760: DataConversionWarning: A column-vector y was passed when a 1d array was expected. Please change the shape of y to (n_samples, ), for example using ravel().\n",
            "  y = column_or_1d(y, warn=True)\n",
            "/usr/local/lib/python3.6/dist-packages/sklearn/utils/deprecation.py:87: FutureWarning: Function safe_indexing is deprecated; safe_indexing is deprecated in version 0.22 and will be removed in version 0.24.\n",
            "  warnings.warn(msg, category=FutureWarning)\n"
          ],
          "name": "stderr"
        }
      ]
    },
    {
      "cell_type": "markdown",
      "metadata": {
        "id": "Ov6kPPDR2mg7"
      },
      "source": [
        "By using the **shape** attribute we can see that the number of rows in **X_res** is greater than **X[ ]** as we have used Random Over Sampler which duplicates the samples corresponding to minority classes."
      ]
    },
    {
      "cell_type": "code",
      "metadata": {
        "id": "EbLHLdSxH2W2",
        "outputId": "d5b09781-66ea-4dce-e515-9d0ea243738c",
        "colab": {
          "base_uri": "https://localhost:8080/",
          "height": 34
        }
      },
      "source": [
        "X_res.shape"
      ],
      "execution_count": null,
      "outputs": [
        {
          "output_type": "execute_result",
          "data": {
            "text/plain": [
              "(25074, 1)"
            ]
          },
          "metadata": {
            "tags": []
          },
          "execution_count": 32
        }
      ]
    },
    {
      "cell_type": "code",
      "metadata": {
        "id": "0aHY31k8H6xJ",
        "outputId": "5bd36d84-8240-49cf-e2f3-d4f1b3fda395",
        "colab": {
          "base_uri": "https://localhost:8080/",
          "height": 34
        }
      },
      "source": [
        "Y_res.shape"
      ],
      "execution_count": null,
      "outputs": [
        {
          "output_type": "execute_result",
          "data": {
            "text/plain": [
              "(25074,)"
            ]
          },
          "metadata": {
            "tags": []
          },
          "execution_count": 33
        }
      ]
    },
    {
      "cell_type": "markdown",
      "metadata": {
        "id": "eONoB7lAU2Ui"
      },
      "source": [
        "We import the **collections** package to count the unique values present in **Y_res**, and now every class has 1194 instances each and we have solved the problem of **class imbalance** which would have caused the minority classes to be wrongly labelled, otherwise."
      ]
    },
    {
      "cell_type": "code",
      "metadata": {
        "id": "5ypa-vtbU13J",
        "outputId": "97ddf2d8-2a89-4d7c-db62-155fd3fc572b",
        "colab": {
          "base_uri": "https://localhost:8080/",
          "height": 374
        }
      },
      "source": [
        "import collections\n",
        "collections.Counter(Y_res)"
      ],
      "execution_count": null,
      "outputs": [
        {
          "output_type": "execute_result",
          "data": {
            "text/plain": [
              "Counter({'Allergic': 1194,\n",
              "         'Bad Taste/Flavor': 1194,\n",
              "         'Color and texture': 1194,\n",
              "         'Customer Issues': 1194,\n",
              "         'Customer Service': 1194,\n",
              "         \"Didn't Like\": 1194,\n",
              "         'Expiry': 1194,\n",
              "         'False Advertisement': 1194,\n",
              "         'Hard to Chew': 1194,\n",
              "         'Inferior to competitors': 1194,\n",
              "         'Ingredients': 1194,\n",
              "         'Not Effective': 1194,\n",
              "         'Packaging': 1194,\n",
              "         'Pricing': 1194,\n",
              "         'Quality/Contaminated': 1194,\n",
              "         'Shipment and delivery': 1194,\n",
              "         'Smells Bad': 1194,\n",
              "         'Texture': 1194,\n",
              "         'Too Sweet': 1194,\n",
              "         'Too big to swallow': 1194,\n",
              "         'Wrong Product received': 1194})"
            ]
          },
          "metadata": {
            "tags": []
          },
          "execution_count": 54
        }
      ]
    },
    {
      "cell_type": "markdown",
      "metadata": {
        "id": "nupQUUlHzB23"
      },
      "source": [
        "##Vectorization"
      ]
    },
    {
      "cell_type": "markdown",
      "metadata": {
        "id": "HEdCeUcXUsjV"
      },
      "source": [
        "Now that we have dealt with the imbalanced class distribution, before training the model, we use **TfidVectorizer** from **sklearn** python library to convert our text data to a vectorized format of numbers.\n"
      ]
    },
    {
      "cell_type": "markdown",
      "metadata": {
        "id": "gFzHRApEZLsb"
      },
      "source": [
        "Machine learning algorithms cannot work with raw text directly. That is why we use **TfidfVectorizer** to convert the text data into tf-idf weights. TF-IDF is an abbreviation for Term Frequency Inverse Document Frequency. This is a very common algorithm to transform the text into a meaningful representation of numbers which is used to fit a machine algorithm for prediction. A higher value of TF-IDF means the importance of that word is greater while making a prediction. \n"
      ]
    },
    {
      "cell_type": "code",
      "metadata": {
        "id": "Q-SAUySWnmUM"
      },
      "source": [
        "from sklearn.feature_extraction.text import TfidfVectorizer"
      ],
      "execution_count": null,
      "outputs": []
    },
    {
      "cell_type": "markdown",
      "metadata": {
        "id": "VLaBrxuLc3iT"
      },
      "source": [
        "Now we create a DataFrame using **Pandas.Dataframe()** with **X_res** as input.\n"
      ]
    },
    {
      "cell_type": "code",
      "metadata": {
        "id": "jJJpIRxwcXEY"
      },
      "source": [
        "df = pd.DataFrame(data=X_res, columns=[\"Review Text\"])"
      ],
      "execution_count": null,
      "outputs": []
    },
    {
      "cell_type": "markdown",
      "metadata": {
        "id": "1Ccj2pJwdKrh"
      },
      "source": [
        "To use **TfidfVectorizer** , we create an object **tfidf_vectorizer** of **TfidfVectorizer** class with parameter **use_idf** set to true as we need idf values for our model.To transform our text data, we use **fit_transform()** function of **TfidfVectorizer** class using the object we just created and passing the **Review Text** column in **df** DataFrame as input."
      ]
    },
    {
      "cell_type": "code",
      "metadata": {
        "id": "2OgIfulOcmDU"
      },
      "source": [
        "tfidf_vectorizer=TfidfVectorizer(use_idf=True)\n",
        "tfidf_vectorizer_vectors=tfidf_vectorizer.fit_transform(df[\"Review Text\"])"
      ],
      "execution_count": null,
      "outputs": []
    },
    {
      "cell_type": "markdown",
      "metadata": {
        "id": "NcnhNz23eBdS"
      },
      "source": [
        "Now **tfidf_vectorizer_vectors** is the vectorized format of our text data having the same number of rows as **X_res**. The 8323 columns correspond to each unique word present in our text."
      ]
    },
    {
      "cell_type": "code",
      "metadata": {
        "id": "2Pz0-ib6co6_",
        "outputId": "677c65dd-f503-4d60-b925-5d2a33d64e48",
        "colab": {
          "base_uri": "https://localhost:8080/",
          "height": 34
        }
      },
      "source": [
        "tfidf_vectorizer_vectors.shape"
      ],
      "execution_count": null,
      "outputs": [
        {
          "output_type": "execute_result",
          "data": {
            "text/plain": [
              "(25074, 8323)"
            ]
          },
          "metadata": {
            "tags": []
          },
          "execution_count": 58
        }
      ]
    },
    {
      "cell_type": "markdown",
      "metadata": {
        "id": "yHqKULCOzFPz"
      },
      "source": [
        "##Training the Model"
      ]
    },
    {
      "cell_type": "markdown",
      "metadata": {
        "id": "XZtu0Il1f5Gw"
      },
      "source": [
        "Once we have our data in our desired format, we use **train_test_split** from **sklearn** python library. The **train_test_split** function is for splitting a single dataset for two different purposes: training and testing. The training subset is for building our model. The testing subset is for using the model on previouslyunseen dataset to evaluate the performance of the model."
      ]
    },
    {
      "cell_type": "code",
      "metadata": {
        "id": "EnyZQUaufO6q"
      },
      "source": [
        "from sklearn.model_selection import train_test_split"
      ],
      "execution_count": null,
      "outputs": []
    },
    {
      "cell_type": "markdown",
      "metadata": {
        "id": "1fHko5U-hLpE"
      },
      "source": [
        "The input parameter for **train_test_split** function is the vectorized version of our text data i.e. **tfidf_vectorizer_vectors** and the output parameter is **Y_res**. The **test_size** parameter is used to decide in what proportion the training and test data is split. And **random_state** parameter is to ensure that the results can be reproduced while running the code again."
      ]
    },
    {
      "cell_type": "code",
      "metadata": {
        "id": "3ZnGouZEhGUc"
      },
      "source": [
        "X_train, X_test, y_train, y_test = train_test_split(tfidf_vectorizer_vectors,Y_res , test_size = 0.45, random_state = 42, shuffle = True)"
      ],
      "execution_count": null,
      "outputs": []
    },
    {
      "cell_type": "markdown",
      "metadata": {
        "id": "clYTqM7DiTJv"
      },
      "source": [
        "We use a gradient boost classifier for this classification problem. Gradient boosting is a machine learning technique for regression and classification problems, which produces a prediction model in the form of an ensemble of weak prediction models, typically decision trees. It builds the model in a stage-wise fashion like other boosting methods do, and it generalizes them by allowing optimization of an arbitrary differentiable loss function."
      ]
    },
    {
      "cell_type": "markdown",
      "metadata": {
        "id": "DTpdx7UzjUvZ"
      },
      "source": [
        "We import **ensemble** from **sklearn** python library for using **GradientBoostingClassifier**."
      ]
    },
    {
      "cell_type": "code",
      "metadata": {
        "id": "xAUXNZtzh7GQ"
      },
      "source": [
        "from sklearn import ensemble "
      ],
      "execution_count": null,
      "outputs": []
    },
    {
      "cell_type": "markdown",
      "metadata": {
        "id": "WQGBT4wSjjo1"
      },
      "source": [
        "While defining the **classifier**, we set the **n_estimators** parameter to 100 i.e. the total number of decision trees to be built with 0.5 as **learning_rate**. Also, the **max_Depth** parameter is set to 6 which is used to set the maximum depth allowed for a decision tree."
      ]
    },
    {
      "cell_type": "code",
      "metadata": {
        "id": "N-7ZavsfjJ6I"
      },
      "source": [
        "classifier = ensemble.GradientBoostingClassifier(\n",
        "    n_estimators = 100, #how many decision trees to build\n",
        "    learning_rate = 0.5, #learning rate\n",
        "    max_depth = 6\n",
        ")"
      ],
      "execution_count": null,
      "outputs": []
    },
    {
      "cell_type": "markdown",
      "metadata": {
        "id": "sLJadUKklT8p"
      },
      "source": [
        "To train the model, we just need to use the **fit()** function with **X_train** as input and **y_train** as output values"
      ]
    },
    {
      "cell_type": "code",
      "metadata": {
        "id": "4ceSEmH4lOgs",
        "outputId": "eab47da5-a10b-400c-ca99-60eb830bb1a0",
        "colab": {
          "base_uri": "https://localhost:8080/",
          "height": 187
        }
      },
      "source": [
        "classifier.fit(X_train, y_train)"
      ],
      "execution_count": null,
      "outputs": [
        {
          "output_type": "execute_result",
          "data": {
            "text/plain": [
              "GradientBoostingClassifier(ccp_alpha=0.0, criterion='friedman_mse', init=None,\n",
              "                           learning_rate=0.5, loss='deviance', max_depth=6,\n",
              "                           max_features=None, max_leaf_nodes=None,\n",
              "                           min_impurity_decrease=0.0, min_impurity_split=None,\n",
              "                           min_samples_leaf=1, min_samples_split=2,\n",
              "                           min_weight_fraction_leaf=0.0, n_estimators=100,\n",
              "                           n_iter_no_change=None, presort='deprecated',\n",
              "                           random_state=None, subsample=1.0, tol=0.0001,\n",
              "                           validation_fraction=0.1, verbose=0,\n",
              "                           warm_start=False)"
            ]
          },
          "metadata": {
            "tags": []
          },
          "execution_count": 63
        }
      ]
    },
    {
      "cell_type": "markdown",
      "metadata": {
        "id": "k0pHAyp5zOfD"
      },
      "source": [
        "##Checking the efficiency of the Model"
      ]
    },
    {
      "cell_type": "markdown",
      "metadata": {
        "id": "AxFibut6mvYM"
      },
      "source": [
        "To check the accuracy of the model, we import **classififcation_report** from **sklearn** python library. "
      ]
    },
    {
      "cell_type": "code",
      "metadata": {
        "id": "k2x2NQ0emuXr"
      },
      "source": [
        "from sklearn.metrics import classification_report"
      ],
      "execution_count": null,
      "outputs": []
    },
    {
      "cell_type": "markdown",
      "metadata": {
        "id": "keZgPLdKnLc0"
      },
      "source": [
        "To check the accuracy , we make predictions using **predict()** function using our **classifier** object and pass **X_test** as input. Then we compare the predictions made by the model with the given output values already present in **y_test**."
      ]
    },
    {
      "cell_type": "code",
      "metadata": {
        "id": "J-BL6gLIlpU7",
        "outputId": "5a70e90e-1e2f-4909-a85d-64e3017883a7",
        "colab": {
          "base_uri": "https://localhost:8080/",
          "height": 493
        }
      },
      "source": [
        "predictions = classifier.predict(X_test)\n",
        "print(classification_report(y_test, predictions))"
      ],
      "execution_count": null,
      "outputs": [
        {
          "output_type": "stream",
          "text": [
            "                         precision    recall  f1-score   support\n",
            "\n",
            "               Allergic       0.68      0.57      0.62       570\n",
            "       Bad Taste/Flavor       0.51      0.41      0.45       522\n",
            "      Color and texture       0.64      0.62      0.63       532\n",
            "        Customer Issues       0.99      1.00      1.00       568\n",
            "       Customer Service       0.80      0.63      0.71       556\n",
            "            Didn't Like       0.92      1.00      0.96       539\n",
            "                 Expiry       0.88      0.95      0.91       545\n",
            "    False Advertisement       0.97      0.89      0.93       561\n",
            "           Hard to Chew       0.99      1.00      1.00       528\n",
            "Inferior to competitors       0.95      0.94      0.94       568\n",
            "            Ingredients       0.71      0.65      0.68       496\n",
            "          Not Effective       0.48      0.75      0.58       547\n",
            "              Packaging       0.77      0.67      0.71       530\n",
            "                Pricing       0.88      0.93      0.91       536\n",
            "   Quality/Contaminated       0.43      0.37      0.40       531\n",
            "  Shipment and delivery       0.83      0.74      0.78       536\n",
            "             Smells Bad       0.82      0.87      0.85       533\n",
            "                Texture       0.57      0.50      0.54       532\n",
            "              Too Sweet       0.82      0.98      0.89       525\n",
            "     Too big to swallow       0.76      0.79      0.77       488\n",
            " Wrong Product received       0.84      1.00      0.91       541\n",
            "\n",
            "               accuracy                           0.78     11284\n",
            "              macro avg       0.77      0.77      0.77     11284\n",
            "           weighted avg       0.78      0.78      0.77     11284\n",
            "\n"
          ],
          "name": "stdout"
        }
      ]
    },
    {
      "cell_type": "markdown",
      "metadata": {
        "id": "woSXHLxGV9em"
      },
      "source": [
        "We can see by the classification report that our model has an **accuracy** of **78%**. **Recall** is the number of relevant documents retrieved by a search divided by the total number of existing relevant documents, while **precision** is the number of relevant documents retrieved by a search divided by the total number of documents retrieved by that search. And the F1 Score is the 2*((precision * recall)/(precision+recall))."
      ]
    },
    {
      "cell_type": "markdown",
      "metadata": {
        "id": "u7tzkyVzVahl"
      },
      "source": [
        "# Deployment"
      ]
    },
    {
      "cell_type": "markdown",
      "metadata": {
        "id": "HNpZujwSTof8"
      },
      "source": [
        "For deployment, the following details should be kept in mind:\n",
        "- On an Nvidia P4 16Gb GPU, it took roughly 30 mins to finish running 1 epoch of training.\n",
        "- The following libraries (python packages) are needed:\n",
        "  *   Pandas\n",
        "  *   Matplotlib\n",
        "  *   Re\n",
        "  *   Imblearn\n",
        "  *   Collections\n",
        "  *   Sklearn\n",
        "\n",
        "\n",
        "\n",
        "\n",
        "\n",
        "\n"
      ]
    }
  ]
}