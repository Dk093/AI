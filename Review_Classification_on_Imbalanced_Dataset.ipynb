{
  "nbformat": 4,
  "nbformat_minor": 0,
  "metadata": {
    "colab": {
      "name": "Review Classification on Imbalanced Dataset",
      "provenance": [],
      "collapsed_sections": [
        "nzJD6TTyyPOP",
        "TfZJbLS_yc9s",
        "3YrzxWjeyqo_",
        "Een73448y1aa",
        "nupQUUlHzB23",
        "yHqKULCOzFPz",
        "k0pHAyp5zOfD",
        "u7tzkyVzVahl"
      ],
      "include_colab_link": true
    },
    "kernelspec": {
      "name": "python3",
      "display_name": "Python 3"
    }
  },
  "cells": [
    {
      "cell_type": "markdown",
      "metadata": {
        "id": "view-in-github",
        "colab_type": "text"
      },
      "source": [
        "<a href=\"https://colab.research.google.com/github/Dk093/AI/blob/main/Review_Classification_on_Imbalanced_Dataset.ipynb\" target=\"_parent\"><img src=\"https://colab.research.google.com/assets/colab-badge.svg\" alt=\"Open In Colab\"/></a>"
      ]
    },
    {
      "cell_type": "markdown",
      "metadata": {
        "id": "8h2fbN8e8upo"
      },
      "source": [
        "**Dealing with Class Imbalance in Text Classififcation**"
      ]
    },
    {
      "cell_type": "markdown",
      "metadata": {
        "id": "Uzu67N8nRoq4"
      },
      "source": [
        "E-commerce has revolutionized retail experience through multiple insights that it provides customers and retailers. Customer reviews are\n",
        "considered as feedback by retailers about their products and services. This feedback allows them to understand the industry better and enhance\n",
        "the efficiency and quality of their product. A thorough analysis of a review can provide insights to retailers and E-commerce platforms about\n",
        "improvements that are required for better customer satisfaction. If an analysis of such million reviews is handled by the E-commerce team manually\n",
        "then it is a very time-consuming task that impacts the business of retailers as they get delayed feedback.\n"
      ]
    },
    {
      "cell_type": "markdown",
      "metadata": {
        "id": "MLn1ffnfjumX"
      },
      "source": [
        ""
      ]
    },
    {
      "cell_type": "markdown",
      "metadata": {
        "id": "TSJZ8-I9z9Dj"
      },
      "source": [
        "This Machine Learning exercise aims to create a simplified Machine Learning approach to analyze the feedback & identify the key problems that are\n",
        "highlighted in the given dataset containing reviews on an E-commerce platform."
      ]
    },
    {
      "cell_type": "markdown",
      "metadata": {
        "id": "nzJD6TTyyPOP"
      },
      "source": [
        "##Data Capture"
      ]
    },
    {
      "cell_type": "markdown",
      "metadata": {
        "id": "zRZE88VbTXe0"
      },
      "source": [
        "To begin our analysis, let us look at the data first by importing python library **pandas** to load the data.\n"
      ]
    },
    {
      "cell_type": "code",
      "metadata": {
        "id": "YVf2iYPbZ7eM"
      },
      "source": [
        "import pandas as pd\n"
      ],
      "execution_count": 1,
      "outputs": []
    },
    {
      "cell_type": "markdown",
      "metadata": {
        "id": "pPuP4-1ARnQ3"
      },
      "source": [
        "We load the dataset into DataFrame which is a two-dimensional data structure in Pandas library i.e. data is aligned in a tabular fashion in rows and columns.\n",
        "Once the training data is loaded in dataframe df_train, we use the **head()** function which returns the first n rows or by default the first five rows of the dataframe."
      ]
    },
    {
      "cell_type": "code",
      "metadata": {
        "id": "O-Fg6r9rh40B"
      },
      "source": [
        "df_train=pd.read_csv(\"train.csv\")\n",
        "df_test=pd.read_csv(\"test.csv\")"
      ],
      "execution_count": 2,
      "outputs": []
    },
    {
      "cell_type": "markdown",
      "metadata": {
        "id": "Rv44YpPw0WYZ"
      },
      "source": [
        "We can see that the dataset has three feature columns namely **Review Text**, **Review Title**, and **topic** in which **Review Text** holds the body of a particular review and **topic** holds the type of class of a particular review. "
      ]
    },
    {
      "cell_type": "code",
      "metadata": {
        "id": "8o5pWjUliAEd",
        "outputId": "c04a8ce7-3ce5-47d0-9aef-6ae7e9bc0f7a",
        "colab": {
          "base_uri": "https://localhost:8080/",
          "height": 204
        }
      },
      "source": [
        "df_train.head()"
      ],
      "execution_count": 3,
      "outputs": [
        {
          "output_type": "execute_result",
          "data": {
            "text/html": [
              "<div>\n",
              "<style scoped>\n",
              "    .dataframe tbody tr th:only-of-type {\n",
              "        vertical-align: middle;\n",
              "    }\n",
              "\n",
              "    .dataframe tbody tr th {\n",
              "        vertical-align: top;\n",
              "    }\n",
              "\n",
              "    .dataframe thead th {\n",
              "        text-align: right;\n",
              "    }\n",
              "</style>\n",
              "<table border=\"1\" class=\"dataframe\">\n",
              "  <thead>\n",
              "    <tr style=\"text-align: right;\">\n",
              "      <th></th>\n",
              "      <th>Review Text</th>\n",
              "      <th>Review Title</th>\n",
              "      <th>topic</th>\n",
              "    </tr>\n",
              "  </thead>\n",
              "  <tbody>\n",
              "    <tr>\n",
              "      <th>0</th>\n",
              "      <td>Did nothing for me, didn't help lost even with...</td>\n",
              "      <td>Useless</td>\n",
              "      <td>Shipment and delivery</td>\n",
              "    </tr>\n",
              "    <tr>\n",
              "      <th>1</th>\n",
              "      <td>Did nothing for me, didn't help lost even with...</td>\n",
              "      <td>Useless</td>\n",
              "      <td>Not Effective</td>\n",
              "    </tr>\n",
              "    <tr>\n",
              "      <th>2</th>\n",
              "      <td>I have bought these bags and  immediately open...</td>\n",
              "      <td>TRASH!!! Do not buy these bags it’s a waist of...</td>\n",
              "      <td>Customer Service</td>\n",
              "    </tr>\n",
              "    <tr>\n",
              "      <th>3</th>\n",
              "      <td>Gave me an allergic reaction on my face :(</td>\n",
              "      <td>Do not recommend</td>\n",
              "      <td>Allergic</td>\n",
              "    </tr>\n",
              "    <tr>\n",
              "      <th>4</th>\n",
              "      <td>These don't compare to the name brand wipes. F...</td>\n",
              "      <td>Can't tackle big messes</td>\n",
              "      <td>Texture</td>\n",
              "    </tr>\n",
              "  </tbody>\n",
              "</table>\n",
              "</div>"
            ],
            "text/plain": [
              "                                         Review Text  ...                  topic\n",
              "0  Did nothing for me, didn't help lost even with...  ...  Shipment and delivery\n",
              "1  Did nothing for me, didn't help lost even with...  ...          Not Effective\n",
              "2  I have bought these bags and  immediately open...  ...       Customer Service\n",
              "3         Gave me an allergic reaction on my face :(  ...               Allergic\n",
              "4  These don't compare to the name brand wipes. F...  ...                Texture\n",
              "\n",
              "[5 rows x 3 columns]"
            ]
          },
          "metadata": {
            "tags": []
          },
          "execution_count": 3
        }
      ]
    },
    {
      "cell_type": "markdown",
      "metadata": {
        "id": "OOTaDl8_cOE8"
      },
      "source": [
        "Among the three columns, **Review Text** and **Review Title** are Independent Features and **topic** is a dependent feature. The value of the Dependent feature is dependent on Independent features. So Independent features are considered as input while Dependent features are considered as the output in a machine learning problem setup.\n",
        "We aim to predict the respective class(**topic**) of a review by using **Review Text** and **Review Title** as the inputs."
      ]
    },
    {
      "cell_type": "markdown",
      "metadata": {
        "id": "8MnpYhFzfPPp"
      },
      "source": [
        "The **shape** attribute of a DataFrame is used to get a tuple representing the dimensionality of the DataFrame. We can see that our training DataFrame **df_train** has 5959 rows and 3 columns while our testing DataFrame **df_test** has 2553 rows and 2 columns as the testing dataset never contain the output values that is why column **topic** is not present in **df_test**.\n",
        "\n"
      ]
    },
    {
      "cell_type": "code",
      "metadata": {
        "id": "sZ6E0PWsd2Qm",
        "outputId": "888a0552-3d16-4507-cd85-3a0affd825aa",
        "colab": {
          "base_uri": "https://localhost:8080/",
          "height": 34
        }
      },
      "source": [
        "df_train.shape"
      ],
      "execution_count": 4,
      "outputs": [
        {
          "output_type": "execute_result",
          "data": {
            "text/plain": [
              "(5959, 3)"
            ]
          },
          "metadata": {
            "tags": []
          },
          "execution_count": 4
        }
      ]
    },
    {
      "cell_type": "code",
      "metadata": {
        "id": "zNTzBSGhiP2N",
        "outputId": "d92ff3eb-88d5-40a1-ee7c-ec3dc79124a8",
        "colab": {
          "base_uri": "https://localhost:8080/",
          "height": 34
        }
      },
      "source": [
        "df_test.shape"
      ],
      "execution_count": 5,
      "outputs": [
        {
          "output_type": "execute_result",
          "data": {
            "text/plain": [
              "(2553, 2)"
            ]
          },
          "metadata": {
            "tags": []
          },
          "execution_count": 5
        }
      ]
    },
    {
      "cell_type": "code",
      "metadata": {
        "id": "zRa6kd-Xi_51",
        "outputId": "6e62899f-feec-4f55-ea15-5b5f7cb343d8",
        "colab": {
          "base_uri": "https://localhost:8080/",
          "height": 204
        }
      },
      "source": [
        "df_test.head()"
      ],
      "execution_count": 6,
      "outputs": [
        {
          "output_type": "execute_result",
          "data": {
            "text/html": [
              "<div>\n",
              "<style scoped>\n",
              "    .dataframe tbody tr th:only-of-type {\n",
              "        vertical-align: middle;\n",
              "    }\n",
              "\n",
              "    .dataframe tbody tr th {\n",
              "        vertical-align: top;\n",
              "    }\n",
              "\n",
              "    .dataframe thead th {\n",
              "        text-align: right;\n",
              "    }\n",
              "</style>\n",
              "<table border=\"1\" class=\"dataframe\">\n",
              "  <thead>\n",
              "    <tr style=\"text-align: right;\">\n",
              "      <th></th>\n",
              "      <th>Review Text</th>\n",
              "      <th>Review Title</th>\n",
              "    </tr>\n",
              "  </thead>\n",
              "  <tbody>\n",
              "    <tr>\n",
              "      <th>0</th>\n",
              "      <td>I use chia seed in my protein shakes. These ta...</td>\n",
              "      <td>Bad tast</td>\n",
              "    </tr>\n",
              "    <tr>\n",
              "      <th>1</th>\n",
              "      <td>I use chia seed in my protein shakes. These ta...</td>\n",
              "      <td>Bad tast</td>\n",
              "    </tr>\n",
              "    <tr>\n",
              "      <th>2</th>\n",
              "      <td>Don’t waste your money.</td>\n",
              "      <td>No change. No results.</td>\n",
              "    </tr>\n",
              "    <tr>\n",
              "      <th>3</th>\n",
              "      <td>I use the book 'Fortify Your Life' by Tieraona...</td>\n",
              "      <td>Good Vegan Choice, Poor Non Vegan Choice</td>\n",
              "    </tr>\n",
              "    <tr>\n",
              "      <th>4</th>\n",
              "      <td>I use the book 'Fortify Your Life' by Tieraona...</td>\n",
              "      <td>Good Vegan Choice, Poor Non Vegan Choice</td>\n",
              "    </tr>\n",
              "  </tbody>\n",
              "</table>\n",
              "</div>"
            ],
            "text/plain": [
              "                                         Review Text                              Review Title\n",
              "0  I use chia seed in my protein shakes. These ta...                                  Bad tast\n",
              "1  I use chia seed in my protein shakes. These ta...                                  Bad tast\n",
              "2                            Don’t waste your money.                    No change. No results.\n",
              "3  I use the book 'Fortify Your Life' by Tieraona...  Good Vegan Choice, Poor Non Vegan Choice\n",
              "4  I use the book 'Fortify Your Life' by Tieraona...  Good Vegan Choice, Poor Non Vegan Choice"
            ]
          },
          "metadata": {
            "tags": []
          },
          "execution_count": 6
        }
      ]
    },
    {
      "cell_type": "markdown",
      "metadata": {
        "id": "zihzrM-sxiuj"
      },
      "source": [
        "We drop the column **Review Title** as it does not have much effect on the output. The whole body of a review is captured under **Review Text**. We use the **drop()** function of Pandas to drop this column from our training and testing dataframe.\n"
      ]
    },
    {
      "cell_type": "code",
      "metadata": {
        "id": "WjrkOO2NxYWN"
      },
      "source": [
        "df_train.drop('Review Title',\n",
        "  axis='columns', inplace=True)"
      ],
      "execution_count": 7,
      "outputs": []
    },
    {
      "cell_type": "code",
      "metadata": {
        "id": "jloEvRmlzQEb"
      },
      "source": [
        "df_test.drop('Review Title',\n",
        "  axis='columns', inplace=True)"
      ],
      "execution_count": 8,
      "outputs": []
    },
    {
      "cell_type": "code",
      "metadata": {
        "id": "kBM4VoIAzUIw",
        "outputId": "1106f205-77e7-414e-a0b1-170f2206f295",
        "colab": {
          "base_uri": "https://localhost:8080/",
          "height": 204
        }
      },
      "source": [
        "df_train.head()"
      ],
      "execution_count": 9,
      "outputs": [
        {
          "output_type": "execute_result",
          "data": {
            "text/html": [
              "<div>\n",
              "<style scoped>\n",
              "    .dataframe tbody tr th:only-of-type {\n",
              "        vertical-align: middle;\n",
              "    }\n",
              "\n",
              "    .dataframe tbody tr th {\n",
              "        vertical-align: top;\n",
              "    }\n",
              "\n",
              "    .dataframe thead th {\n",
              "        text-align: right;\n",
              "    }\n",
              "</style>\n",
              "<table border=\"1\" class=\"dataframe\">\n",
              "  <thead>\n",
              "    <tr style=\"text-align: right;\">\n",
              "      <th></th>\n",
              "      <th>Review Text</th>\n",
              "      <th>topic</th>\n",
              "    </tr>\n",
              "  </thead>\n",
              "  <tbody>\n",
              "    <tr>\n",
              "      <th>0</th>\n",
              "      <td>Did nothing for me, didn't help lost even with...</td>\n",
              "      <td>Shipment and delivery</td>\n",
              "    </tr>\n",
              "    <tr>\n",
              "      <th>1</th>\n",
              "      <td>Did nothing for me, didn't help lost even with...</td>\n",
              "      <td>Not Effective</td>\n",
              "    </tr>\n",
              "    <tr>\n",
              "      <th>2</th>\n",
              "      <td>I have bought these bags and  immediately open...</td>\n",
              "      <td>Customer Service</td>\n",
              "    </tr>\n",
              "    <tr>\n",
              "      <th>3</th>\n",
              "      <td>Gave me an allergic reaction on my face :(</td>\n",
              "      <td>Allergic</td>\n",
              "    </tr>\n",
              "    <tr>\n",
              "      <th>4</th>\n",
              "      <td>These don't compare to the name brand wipes. F...</td>\n",
              "      <td>Texture</td>\n",
              "    </tr>\n",
              "  </tbody>\n",
              "</table>\n",
              "</div>"
            ],
            "text/plain": [
              "                                         Review Text                  topic\n",
              "0  Did nothing for me, didn't help lost even with...  Shipment and delivery\n",
              "1  Did nothing for me, didn't help lost even with...          Not Effective\n",
              "2  I have bought these bags and  immediately open...       Customer Service\n",
              "3         Gave me an allergic reaction on my face :(               Allergic\n",
              "4  These don't compare to the name brand wipes. F...                Texture"
            ]
          },
          "metadata": {
            "tags": []
          },
          "execution_count": 9
        }
      ]
    },
    {
      "cell_type": "markdown",
      "metadata": {
        "id": "TfZJbLS_yc9s"
      },
      "source": [
        "##Exploratory Data Analysis"
      ]
    },
    {
      "cell_type": "markdown",
      "metadata": {
        "id": "hz7b5ok6j4Dn"
      },
      "source": [
        "To see how all the training samples are segregated into different classes we use **value_counts()** function. Pandas **value_counts()** function returns object containing counts of unique values. The resulting object is in descending order so that the first element is the most frequently-occurring element. Excludes NA values by default.\n",
        "Like , after executing **df_train[\"topic\"].value_counts()**, we get the number of samples corresponding to different classes with **Bad Taste/Flavor** being the most frequently-occuring class while **Hard to Chew** being the least frequently-occuring class."
      ]
    },
    {
      "cell_type": "code",
      "metadata": {
        "id": "JrvCzBdwlfsE",
        "outputId": "e36b064e-d112-49ad-c762-d64118627c49",
        "colab": {
          "base_uri": "https://localhost:8080/",
          "height": 391
        }
      },
      "source": [
        "df_train[\"topic\"].value_counts()"
      ],
      "execution_count": 10,
      "outputs": [
        {
          "output_type": "execute_result",
          "data": {
            "text/plain": [
              "Bad Taste/Flavor           1194\n",
              "Quality/Contaminated        715\n",
              "Not Effective               611\n",
              "Allergic                    567\n",
              "Packaging                   467\n",
              "Texture                     410\n",
              "Shipment and delivery       390\n",
              "Customer Service            239\n",
              "Color and texture           234\n",
              "Too big to swallow          228\n",
              "Ingredients                 216\n",
              "Expiry                      136\n",
              "Smells Bad                  123\n",
              "Pricing                     107\n",
              "Wrong Product received       99\n",
              "Too Sweet                    97\n",
              "Inferior to competitors      44\n",
              "False Advertisement          37\n",
              "Didn't Like                  31\n",
              "Customer Issues               8\n",
              "Hard to Chew                  6\n",
              "Name: topic, dtype: int64"
            ]
          },
          "metadata": {
            "tags": []
          },
          "execution_count": 10
        }
      ]
    },
    {
      "cell_type": "markdown",
      "metadata": {
        "id": "IqaHAxDknLHK"
      },
      "source": [
        "We import **matplotlib.pyplot** python library for visualization of our data. "
      ]
    },
    {
      "cell_type": "code",
      "metadata": {
        "id": "6bYcEDtDlZW7"
      },
      "source": [
        "import matplotlib.pyplot as plt"
      ],
      "execution_count": 11,
      "outputs": []
    },
    {
      "cell_type": "code",
      "metadata": {
        "id": "c2H2cahppFJI",
        "outputId": "1cd396ec-2089-4e40-9a85-40cc14e3a5e5",
        "colab": {
          "base_uri": "https://localhost:8080/",
          "height": 405
        }
      },
      "source": [
        "fig = plt.figure(figsize=(8,6))\n",
        "df_train.groupby('topic').count().plot.bar(ylim=0)\n",
        "plt.show()"
      ],
      "execution_count": 12,
      "outputs": [
        {
          "output_type": "display_data",
          "data": {
            "text/plain": [
              "<Figure size 576x432 with 0 Axes>"
            ]
          },
          "metadata": {
            "tags": []
          }
        },
        {
          "output_type": "display_data",
          "data": {
            "image/png": "[encoded data removed]",
            "text/plain": [
              "<Figure size 432x288 with 1 Axes>"
            ]
          },
          "metadata": {
            "tags": [],
            "needs_background": "light"
          }
        }
      ]
    },
    {
      "cell_type": "markdown",
      "metadata": {
        "id": "HEJ4LlzSpmFv"
      },
      "source": [
        "We can see from the output of **value_counts()** and from the image above that our dataset has imbalanced class distribution. This is a scenario where the number of observations belonging to one class is significantly lower than those belonging to the other classes. If the class imbalance is not dealt with, then there is a risk that all the minority classes can be misclassified, and still, the accuracy of the model will be high. For example, in a classification problem with only 2 classes, with the majority class being 95 in the count and the minority class being only 5, the classification model can predict every sample to be classified as majority class and still get an accuracy of 95%. That is why the class imbalance problem has to be rectified before training the model but first we clean our data using **Regular Expression** as there are a number of unwanted characters in text data. Regular Expression can be used to check if a string contains the specified search pattern."
      ]
    },
    {
      "cell_type": "markdown",
      "metadata": {
        "id": "3YrzxWjeyqo_"
      },
      "source": [
        "##Data Cleaning"
      ]
    },
    {
      "cell_type": "markdown",
      "metadata": {
        "id": "Rt8g-7UxtMW9"
      },
      "source": [
        "We define a function **clean_str()** which takes a single string as input and then use **re.sub()** function to remove all the unnecessary characters like random digits, spaces,\\n,\\r, etc from the string and return a clean string with all the characters in lower case.\n",
        "\n"
      ]
    },
    {
      "cell_type": "code",
      "metadata": {
        "id": "vxVYvTKdQprP"
      },
      "source": [
        "import re\n"
      ],
      "execution_count": 13,
      "outputs": []
    },
    {
      "cell_type": "code",
      "metadata": {
        "id": "LpLv0AdzTNUi"
      },
      "source": [
        "def clean_str(string):\n",
        "  string=re.sub(r\"\\n\",\"\",string)\n",
        "  string=re.sub(r\"\\r\",\"\",string)\n",
        "  string=re.sub(r\"[0-9]\",\"digit\",string)\n",
        "  string=re.sub(r\"\\'\",\"\",string)\n",
        "  string=re.sub(r\"\\\"\",\"\",string)\n",
        "  return string.strip().lower()\n",
        "X=[]\n",
        "for i in range(df_train.shape[0]):\n",
        "  X.append(clean_str(df_train.iloc[i][0]))\n",
        "\n",
        "\n"
      ],
      "execution_count": 14,
      "outputs": []
    },
    {
      "cell_type": "markdown",
      "metadata": {
        "id": "eoM_TWm_vObT"
      },
      "source": [
        "Then, to get the data cleaned in our independent features, we loop through the rows of **df_train** and save the cleaned strings to a separate list **X[ ]**."
      ]
    },
    {
      "cell_type": "code",
      "metadata": {
        "id": "5F7GaOSCX_2C"
      },
      "source": [
        "df_train[\"Review Text\"]=X"
      ],
      "execution_count": 15,
      "outputs": []
    },
    {
      "cell_type": "code",
      "metadata": {
        "id": "bnrc_DbIcZBw",
        "outputId": "325500d4-dd46-466f-83ad-5d2940c28d33",
        "colab": {
          "base_uri": "https://localhost:8080/",
          "height": 34
        }
      },
      "source": [
        "df_train.shape"
      ],
      "execution_count": 16,
      "outputs": [
        {
          "output_type": "execute_result",
          "data": {
            "text/plain": [
              "(5959, 2)"
            ]
          },
          "metadata": {
            "tags": []
          },
          "execution_count": 16
        }
      ]
    },
    {
      "cell_type": "markdown",
      "metadata": {
        "id": "Een73448y1aa"
      },
      "source": [
        "##Resampling of Data"
      ]
    },
    {
      "cell_type": "markdown",
      "metadata": {
        "id": "K0px4zBw2XHW"
      },
      "source": [
        "Now once we have cleaned our data, we can handle the imbalanced class distribution problem by using **Random Over Sampler** or **Random Under Sampler**."
      ]
    },
    {
      "cell_type": "markdown",
      "metadata": {
        "id": "XSu4gArG3Ta7"
      },
      "source": [
        "Random Sampling can be of two types : \n",
        "\n",
        "*   Random Over Sampler - Randomly duplicate examples in the minority class.\n",
        "*   Random Under Sampler -  Randomly delete examples in the majority class.\n",
        "We use the Random Over Sampler technique as the minority class samples are very less if compared to the majority class samples. And , if we use Random Under Sampler then a major chunk of our dataset will be deleted which is not advisable.\n"
      ]
    },
    {
      "cell_type": "markdown",
      "metadata": {
        "id": "2Xay9rd81yZj"
      },
      "source": [
        "To use Random Over Sampler, we import **RandomOverSampler** from **imblearn** python library."
      ]
    },
    {
      "cell_type": "code",
      "metadata": {
        "id": "zH550hRX0xTd",
        "outputId": "42e5df9a-3247-4725-bd5a-e5edce147d73",
        "colab": {
          "base_uri": "https://localhost:8080/",
          "height": 0
        }
      },
      "source": [
        "from imblearn.over_sampling import RandomOverSampler"
      ],
      "execution_count": 17,
      "outputs": [
        {
          "output_type": "stream",
          "text": [
            "/usr/local/lib/python3.6/dist-packages/sklearn/externals/six.py:31: FutureWarning: The module is deprecated in version 0.21 and will be removed in version 0.23 since we've dropped support for Python 2.7. Please rely on the official version of six (https://pypi.org/project/six/).\n",
            "  \"(https://pypi.org/project/six/).\", FutureWarning)\n",
            "/usr/local/lib/python3.6/dist-packages/sklearn/utils/deprecation.py:144: FutureWarning: The sklearn.neighbors.base module is  deprecated in version 0.22 and will be removed in version 0.24. The corresponding classes / functions should instead be imported from sklearn.neighbors. Anything that cannot be imported from sklearn.neighbors is now part of the private API.\n",
            "  warnings.warn(message, FutureWarning)\n"
          ],
          "name": "stderr"
        }
      ]
    },
    {
      "cell_type": "code",
      "metadata": {
        "id": "5ZKqW-Pm1vPX",
        "outputId": "5d144bee-727d-4524-a576-4c74f2fce4e4",
        "colab": {
          "base_uri": "https://localhost:8080/",
          "height": 0
        }
      },
      "source": [
        "X=df_train.copy()\n",
        "X.drop(columns=\"topic\",inplace=True)\n",
        "X\n"
      ],
      "execution_count": 18,
      "outputs": [
        {
          "output_type": "execute_result",
          "data": {
            "text/html": [
              "<div>\n",
              "<style scoped>\n",
              "    .dataframe tbody tr th:only-of-type {\n",
              "        vertical-align: middle;\n",
              "    }\n",
              "\n",
              "    .dataframe tbody tr th {\n",
              "        vertical-align: top;\n",
              "    }\n",
              "\n",
              "    .dataframe thead th {\n",
              "        text-align: right;\n",
              "    }\n",
              "</style>\n",
              "<table border=\"1\" class=\"dataframe\">\n",
              "  <thead>\n",
              "    <tr style=\"text-align: right;\">\n",
              "      <th></th>\n",
              "      <th>Review Text</th>\n",
              "    </tr>\n",
              "  </thead>\n",
              "  <tbody>\n",
              "    <tr>\n",
              "      <th>0</th>\n",
              "      <td>did nothing for me, didnt help lost even with ...</td>\n",
              "    </tr>\n",
              "    <tr>\n",
              "      <th>1</th>\n",
              "      <td>did nothing for me, didnt help lost even with ...</td>\n",
              "    </tr>\n",
              "    <tr>\n",
              "      <th>2</th>\n",
              "      <td>i have bought these bags and  immediately open...</td>\n",
              "    </tr>\n",
              "    <tr>\n",
              "      <th>3</th>\n",
              "      <td>gave me an allergic reaction on my face :(</td>\n",
              "    </tr>\n",
              "    <tr>\n",
              "      <th>4</th>\n",
              "      <td>these dont compare to the name brand wipes. fa...</td>\n",
              "    </tr>\n",
              "    <tr>\n",
              "      <th>...</th>\n",
              "      <td>...</td>\n",
              "    </tr>\n",
              "    <tr>\n",
              "      <th>5954</th>\n",
              "      <td>total damage . the vitamin is melted on one si...</td>\n",
              "    </tr>\n",
              "    <tr>\n",
              "      <th>5955</th>\n",
              "      <td>the pills smell awful and taste the same</td>\n",
              "    </tr>\n",
              "    <tr>\n",
              "      <th>5956</th>\n",
              "      <td>the pills smell awful and taste the same</td>\n",
              "    </tr>\n",
              "    <tr>\n",
              "      <th>5957</th>\n",
              "      <td>stuff taste horrible</td>\n",
              "    </tr>\n",
              "    <tr>\n",
              "      <th>5958</th>\n",
              "      <td>they taste horrible, but then again most prote...</td>\n",
              "    </tr>\n",
              "  </tbody>\n",
              "</table>\n",
              "<p>5959 rows × 1 columns</p>\n",
              "</div>"
            ],
            "text/plain": [
              "                                            Review Text\n",
              "0     did nothing for me, didnt help lost even with ...\n",
              "1     did nothing for me, didnt help lost even with ...\n",
              "2     i have bought these bags and  immediately open...\n",
              "3            gave me an allergic reaction on my face :(\n",
              "4     these dont compare to the name brand wipes. fa...\n",
              "...                                                 ...\n",
              "5954  total damage . the vitamin is melted on one si...\n",
              "5955           the pills smell awful and taste the same\n",
              "5956           the pills smell awful and taste the same\n",
              "5957                               stuff taste horrible\n",
              "5958  they taste horrible, but then again most prote...\n",
              "\n",
              "[5959 rows x 1 columns]"
            ]
          },
          "metadata": {
            "tags": []
          },
          "execution_count": 18
        }
      ]
    },
    {
      "cell_type": "code",
      "metadata": {
        "id": "kMdjpPq82BOG",
        "outputId": "cddc3ca3-0fca-4c3a-ff66-80b55412aed9",
        "colab": {
          "base_uri": "https://localhost:8080/",
          "height": 0
        }
      },
      "source": [
        "Y=df_train.copy()\n",
        "Y.drop(columns=\"Review Text\",inplace=True)\n",
        "Y"
      ],
      "execution_count": 19,
      "outputs": [
        {
          "output_type": "execute_result",
          "data": {
            "text/html": [
              "<div>\n",
              "<style scoped>\n",
              "    .dataframe tbody tr th:only-of-type {\n",
              "        vertical-align: middle;\n",
              "    }\n",
              "\n",
              "    .dataframe tbody tr th {\n",
              "        vertical-align: top;\n",
              "    }\n",
              "\n",
              "    .dataframe thead th {\n",
              "        text-align: right;\n",
              "    }\n",
              "</style>\n",
              "<table border=\"1\" class=\"dataframe\">\n",
              "  <thead>\n",
              "    <tr style=\"text-align: right;\">\n",
              "      <th></th>\n",
              "      <th>topic</th>\n",
              "    </tr>\n",
              "  </thead>\n",
              "  <tbody>\n",
              "    <tr>\n",
              "      <th>0</th>\n",
              "      <td>Shipment and delivery</td>\n",
              "    </tr>\n",
              "    <tr>\n",
              "      <th>1</th>\n",
              "      <td>Not Effective</td>\n",
              "    </tr>\n",
              "    <tr>\n",
              "      <th>2</th>\n",
              "      <td>Customer Service</td>\n",
              "    </tr>\n",
              "    <tr>\n",
              "      <th>3</th>\n",
              "      <td>Allergic</td>\n",
              "    </tr>\n",
              "    <tr>\n",
              "      <th>4</th>\n",
              "      <td>Texture</td>\n",
              "    </tr>\n",
              "    <tr>\n",
              "      <th>...</th>\n",
              "      <td>...</td>\n",
              "    </tr>\n",
              "    <tr>\n",
              "      <th>5954</th>\n",
              "      <td>Packaging</td>\n",
              "    </tr>\n",
              "    <tr>\n",
              "      <th>5955</th>\n",
              "      <td>Smells Bad</td>\n",
              "    </tr>\n",
              "    <tr>\n",
              "      <th>5956</th>\n",
              "      <td>Bad Taste/Flavor</td>\n",
              "    </tr>\n",
              "    <tr>\n",
              "      <th>5957</th>\n",
              "      <td>Bad Taste/Flavor</td>\n",
              "    </tr>\n",
              "    <tr>\n",
              "      <th>5958</th>\n",
              "      <td>Bad Taste/Flavor</td>\n",
              "    </tr>\n",
              "  </tbody>\n",
              "</table>\n",
              "<p>5959 rows × 1 columns</p>\n",
              "</div>"
            ],
            "text/plain": [
              "                      topic\n",
              "0     Shipment and delivery\n",
              "1             Not Effective\n",
              "2          Customer Service\n",
              "3                  Allergic\n",
              "4                   Texture\n",
              "...                     ...\n",
              "5954              Packaging\n",
              "5955             Smells Bad\n",
              "5956       Bad Taste/Flavor\n",
              "5957       Bad Taste/Flavor\n",
              "5958       Bad Taste/Flavor\n",
              "\n",
              "[5959 rows x 1 columns]"
            ]
          },
          "metadata": {
            "tags": []
          },
          "execution_count": 19
        }
      ]
    },
    {
      "cell_type": "markdown",
      "metadata": {
        "id": "1bncVyvPIGfY"
      },
      "source": [
        "Now to use Random Over Sampler , we create an object **ros** of **RandomOverSampler** class with parameter **random_state=42**. We use the **random_state** parameter in order to reproduce the same result every time we create the object. "
      ]
    },
    {
      "cell_type": "markdown",
      "metadata": {
        "id": "lwfcxZfkskvC"
      },
      "source": [
        "Then we use **fit_sample**() function using the object **ros** to get the balanced dataset(**X_res**,**Y_res**) by class.And we will pass **X** as input which contains data present in column **Review Text** and **Y** as output which contains data present in column **topic**."
      ]
    },
    {
      "cell_type": "code",
      "metadata": {
        "id": "upSdmIz01T_e",
        "outputId": "b3b54e27-cc61-4295-fb23-3cff034eb5a9",
        "colab": {
          "base_uri": "https://localhost:8080/",
          "height": 0
        }
      },
      "source": [
        "ros=RandomOverSampler(random_state=42)\n",
        "X_res,Y_res=ros.fit_sample(X,Y)"
      ],
      "execution_count": 20,
      "outputs": [
        {
          "output_type": "stream",
          "text": [
            "/usr/local/lib/python3.6/dist-packages/sklearn/utils/validation.py:760: DataConversionWarning: A column-vector y was passed when a 1d array was expected. Please change the shape of y to (n_samples, ), for example using ravel().\n",
            "  y = column_or_1d(y, warn=True)\n",
            "/usr/local/lib/python3.6/dist-packages/sklearn/utils/deprecation.py:87: FutureWarning: Function safe_indexing is deprecated; safe_indexing is deprecated in version 0.22 and will be removed in version 0.24.\n",
            "  warnings.warn(msg, category=FutureWarning)\n"
          ],
          "name": "stderr"
        }
      ]
    },
    {
      "cell_type": "markdown",
      "metadata": {
        "id": "Ov6kPPDR2mg7"
      },
      "source": [
        "By using the **shape** attribute we can see that the number of rows in **X_res** is greater than **X[ ]** as we have used Random Over Sampler which duplicates the samples corresponding to minority classes."
      ]
    },
    {
      "cell_type": "code",
      "metadata": {
        "id": "EbLHLdSxH2W2",
        "outputId": "cabe97ee-98ee-458c-aac3-c3d198312837",
        "colab": {
          "base_uri": "https://localhost:8080/",
          "height": 0
        }
      },
      "source": [
        "X_res.shape"
      ],
      "execution_count": 21,
      "outputs": [
        {
          "output_type": "execute_result",
          "data": {
            "text/plain": [
              "(25074, 1)"
            ]
          },
          "metadata": {
            "tags": []
          },
          "execution_count": 21
        }
      ]
    },
    {
      "cell_type": "code",
      "metadata": {
        "id": "0aHY31k8H6xJ",
        "outputId": "e6a83a24-20aa-43a6-89f1-56fc98e30f0d",
        "colab": {
          "base_uri": "https://localhost:8080/",
          "height": 0
        }
      },
      "source": [
        "Y_res.shape"
      ],
      "execution_count": 22,
      "outputs": [
        {
          "output_type": "execute_result",
          "data": {
            "text/plain": [
              "(25074,)"
            ]
          },
          "metadata": {
            "tags": []
          },
          "execution_count": 22
        }
      ]
    },
    {
      "cell_type": "markdown",
      "metadata": {
        "id": "eONoB7lAU2Ui"
      },
      "source": [
        "We import the **collections** package to count the unique values present in **Y_res**, and now every class has 1194 instances each and we have solved the problem of **class imbalance** which would have caused the minority classes to be wrongly labelled, otherwise."
      ]
    },
    {
      "cell_type": "code",
      "metadata": {
        "id": "5ypa-vtbU13J",
        "outputId": "21e34432-b8ac-430c-d2d6-db3267c6546e",
        "colab": {
          "base_uri": "https://localhost:8080/",
          "height": 0
        }
      },
      "source": [
        "import collections\n",
        "collections.Counter(Y_res)"
      ],
      "execution_count": 23,
      "outputs": [
        {
          "output_type": "execute_result",
          "data": {
            "text/plain": [
              "Counter({'Allergic': 1194,\n",
              "         'Bad Taste/Flavor': 1194,\n",
              "         'Color and texture': 1194,\n",
              "         'Customer Issues': 1194,\n",
              "         'Customer Service': 1194,\n",
              "         \"Didn't Like\": 1194,\n",
              "         'Expiry': 1194,\n",
              "         'False Advertisement': 1194,\n",
              "         'Hard to Chew': 1194,\n",
              "         'Inferior to competitors': 1194,\n",
              "         'Ingredients': 1194,\n",
              "         'Not Effective': 1194,\n",
              "         'Packaging': 1194,\n",
              "         'Pricing': 1194,\n",
              "         'Quality/Contaminated': 1194,\n",
              "         'Shipment and delivery': 1194,\n",
              "         'Smells Bad': 1194,\n",
              "         'Texture': 1194,\n",
              "         'Too Sweet': 1194,\n",
              "         'Too big to swallow': 1194,\n",
              "         'Wrong Product received': 1194})"
            ]
          },
          "metadata": {
            "tags": []
          },
          "execution_count": 23
        }
      ]
    },
    {
      "cell_type": "markdown",
      "metadata": {
        "id": "nupQUUlHzB23"
      },
      "source": [
        "##Vectorization"
      ]
    },
    {
      "cell_type": "markdown",
      "metadata": {
        "id": "HEdCeUcXUsjV"
      },
      "source": [
        "Now that we have dealt with the imbalanced class distribution, before training the model, we use **TfidVectorizer** from **sklearn** python library to convert our text data to a vectorized format of numbers.\n"
      ]
    },
    {
      "cell_type": "markdown",
      "metadata": {
        "id": "gFzHRApEZLsb"
      },
      "source": [
        "Machine learning algorithms cannot work with raw text directly. That is why we use **TfidfVectorizer** to convert the text data into tf-idf weights. TF-IDF is an abbreviation for Term Frequency Inverse Document Frequency. This is a very common algorithm to transform the text into a meaningful representation of numbers which is used to fit a machine algorithm for prediction. A higher value of TF-IDF means the importance of that word is greater while making a prediction. \n"
      ]
    },
    {
      "cell_type": "code",
      "metadata": {
        "id": "Q-SAUySWnmUM"
      },
      "source": [
        "from sklearn.feature_extraction.text import TfidfVectorizer"
      ],
      "execution_count": 24,
      "outputs": []
    },
    {
      "cell_type": "markdown",
      "metadata": {
        "id": "VLaBrxuLc3iT"
      },
      "source": [
        "Now we create a DataFrame using **Pandas.Dataframe()** with **X_res** as input.\n"
      ]
    },
    {
      "cell_type": "code",
      "metadata": {
        "id": "jJJpIRxwcXEY"
      },
      "source": [
        "df = pd.DataFrame(data=X_res, columns=[\"Review Text\"])"
      ],
      "execution_count": 25,
      "outputs": []
    },
    {
      "cell_type": "markdown",
      "metadata": {
        "id": "1Ccj2pJwdKrh"
      },
      "source": [
        "To use **TfidfVectorizer** , we create an object **tfidf_vectorizer** of **TfidfVectorizer** class with parameter **use_idf** set to true as we need idf values for our model.To transform our text data, we use **fit_transform()** function of **TfidfVectorizer** class using the object we just created and passing the **Review Text** column in **df** DataFrame as input."
      ]
    },
    {
      "cell_type": "code",
      "metadata": {
        "id": "2OgIfulOcmDU"
      },
      "source": [
        "tfidf_vectorizer=TfidfVectorizer(use_idf=True)\n",
        "tfidf_vectorizer_vectors=tfidf_vectorizer.fit_transform(df[\"Review Text\"])"
      ],
      "execution_count": 26,
      "outputs": []
    },
    {
      "cell_type": "markdown",
      "metadata": {
        "id": "NcnhNz23eBdS"
      },
      "source": [
        "Now **tfidf_vectorizer_vectors** is the vectorized format of our text data having the same number of rows as **X_res**. The 8323 columns correspond to each unique word present in our text."
      ]
    },
    {
      "cell_type": "code",
      "metadata": {
        "id": "2Pz0-ib6co6_",
        "outputId": "4775a841-8f44-4917-cf39-e20ba35c4854",
        "colab": {
          "base_uri": "https://localhost:8080/",
          "height": 0
        }
      },
      "source": [
        "tfidf_vectorizer_vectors.shape"
      ],
      "execution_count": 27,
      "outputs": [
        {
          "output_type": "execute_result",
          "data": {
            "text/plain": [
              "(25074, 8323)"
            ]
          },
          "metadata": {
            "tags": []
          },
          "execution_count": 27
        }
      ]
    },
    {
      "cell_type": "markdown",
      "metadata": {
        "id": "yHqKULCOzFPz"
      },
      "source": [
        "##Training the Model"
      ]
    },
    {
      "cell_type": "markdown",
      "metadata": {
        "id": "XZtu0Il1f5Gw"
      },
      "source": [
        "Once we have our data in our desired format, we use **train_test_split** from **sklearn** python library. The **train_test_split** function is for splitting a single dataset for two different purposes: training and testing. The training subset is for building our model. The testing subset is for using the model on previouslyunseen dataset to evaluate the performance of the model."
      ]
    },
    {
      "cell_type": "code",
      "metadata": {
        "id": "EnyZQUaufO6q"
      },
      "source": [
        "from sklearn.model_selection import train_test_split"
      ],
      "execution_count": 28,
      "outputs": []
    },
    {
      "cell_type": "markdown",
      "metadata": {
        "id": "1fHko5U-hLpE"
      },
      "source": [
        "The input parameter for **train_test_split** function is the vectorized version of our text data i.e. **tfidf_vectorizer_vectors** and the output parameter is **Y_res**. The **test_size** parameter is used to decide in what proportion the training and test data is split. And **random_state** parameter is to ensure that the results can be reproduced while running the code again."
      ]
    },
    {
      "cell_type": "code",
      "metadata": {
        "id": "3ZnGouZEhGUc"
      },
      "source": [
        "X_train, X_test, y_train, y_test = train_test_split(tfidf_vectorizer_vectors,Y_res , test_size = 0.45, random_state = 42, shuffle = True)"
      ],
      "execution_count": 29,
      "outputs": []
    },
    {
      "cell_type": "markdown",
      "metadata": {
        "id": "clYTqM7DiTJv"
      },
      "source": [
        "We use a gradient boost classifier for this classification problem. Gradient boosting is a machine learning technique for regression and classification problems, which produces a prediction model in the form of an ensemble of weak prediction models, typically decision trees. It builds the model in a stage-wise fashion like other boosting methods do, and it generalizes them by allowing optimization of an arbitrary differentiable loss function."
      ]
    },
    {
      "cell_type": "markdown",
      "metadata": {
        "id": "DTpdx7UzjUvZ"
      },
      "source": [
        "We import **ensemble** from **sklearn** python library for using **GradientBoostingClassifier**."
      ]
    },
    {
      "cell_type": "code",
      "metadata": {
        "id": "xAUXNZtzh7GQ"
      },
      "source": [
        "from sklearn import ensemble "
      ],
      "execution_count": 30,
      "outputs": []
    },
    {
      "cell_type": "markdown",
      "metadata": {
        "id": "WQGBT4wSjjo1"
      },
      "source": [
        "While defining the **classifier**, we set the **n_estimators** parameter to 100 i.e. the total number of decision trees to be built with 0.5 as **learning_rate**. Also, the **max_Depth** parameter is set to 6 which is used to set the maximum depth allowed for a decision tree."
      ]
    },
    {
      "cell_type": "code",
      "metadata": {
        "id": "N-7ZavsfjJ6I"
      },
      "source": [
        "classifier = ensemble.GradientBoostingClassifier(\n",
        "    n_estimators = 100, #how many decision trees to build\n",
        "    learning_rate = 0.5, #learning rate\n",
        "    max_depth = 6\n",
        ")"
      ],
      "execution_count": 31,
      "outputs": []
    },
    {
      "cell_type": "markdown",
      "metadata": {
        "id": "sLJadUKklT8p"
      },
      "source": [
        "To train the model, we just need to use the **fit()** function with **X_train** as input and **y_train** as output values"
      ]
    },
    {
      "cell_type": "code",
      "metadata": {
        "id": "4ceSEmH4lOgs",
        "outputId": "09bbede9-1641-4148-83ff-d24f6210c538",
        "colab": {
          "base_uri": "https://localhost:8080/",
          "height": 0
        }
      },
      "source": [
        "classifier.fit(X_train, y_train)"
      ],
      "execution_count": 32,
      "outputs": [
        {
          "output_type": "execute_result",
          "data": {
            "text/plain": [
              "GradientBoostingClassifier(ccp_alpha=0.0, criterion='friedman_mse', init=None,\n",
              "                           learning_rate=0.5, loss='deviance', max_depth=6,\n",
              "                           max_features=None, max_leaf_nodes=None,\n",
              "                           min_impurity_decrease=0.0, min_impurity_split=None,\n",
              "                           min_samples_leaf=1, min_samples_split=2,\n",
              "                           min_weight_fraction_leaf=0.0, n_estimators=100,\n",
              "                           n_iter_no_change=None, presort='deprecated',\n",
              "                           random_state=None, subsample=1.0, tol=0.0001,\n",
              "                           validation_fraction=0.1, verbose=0,\n",
              "                           warm_start=False)"
            ]
          },
          "metadata": {
            "tags": []
          },
          "execution_count": 32
        }
      ]
    },
    {
      "cell_type": "markdown",
      "metadata": {
        "id": "k0pHAyp5zOfD"
      },
      "source": [
        "##Checking the efficiency of the Model"
      ]
    },
    {
      "cell_type": "markdown",
      "metadata": {
        "id": "AxFibut6mvYM"
      },
      "source": [
        "To check the accuracy of the model, we import **classififcation_report** from **sklearn** python library. "
      ]
    },
    {
      "cell_type": "code",
      "metadata": {
        "id": "k2x2NQ0emuXr"
      },
      "source": [
        "from sklearn.metrics import classification_report"
      ],
      "execution_count": 33,
      "outputs": []
    },
    {
      "cell_type": "markdown",
      "metadata": {
        "id": "keZgPLdKnLc0"
      },
      "source": [
        "To check the accuracy , we make predictions using **predict()** function using our **classifier** object and pass **X_test** as input. Then we compare the predictions made by the model with the given output values already present in **y_test**."
      ]
    },
    {
      "cell_type": "code",
      "metadata": {
        "id": "J-BL6gLIlpU7",
        "outputId": "2b0164e0-7097-4ecb-a302-519dd3a168ba",
        "colab": {
          "base_uri": "https://localhost:8080/",
          "height": 493
        }
      },
      "source": [
        "predictions = classifier.predict(X_test)\n",
        "print(classification_report(y_test, predictions))"
      ],
      "execution_count": 34,
      "outputs": [
        {
          "output_type": "stream",
          "text": [
            "                         precision    recall  f1-score   support\n",
            "\n",
            "               Allergic       0.67      0.58      0.62       570\n",
            "       Bad Taste/Flavor       0.49      0.43      0.46       522\n",
            "      Color and texture       0.63      0.61      0.62       532\n",
            "        Customer Issues       0.99      1.00      1.00       568\n",
            "       Customer Service       0.80      0.63      0.71       556\n",
            "            Didn't Like       0.92      1.00      0.96       539\n",
            "                 Expiry       0.89      0.96      0.92       545\n",
            "    False Advertisement       0.97      0.89      0.93       561\n",
            "           Hard to Chew       0.99      1.00      1.00       528\n",
            "Inferior to competitors       0.94      0.94      0.94       568\n",
            "            Ingredients       0.71      0.64      0.68       496\n",
            "          Not Effective       0.47      0.75      0.58       547\n",
            "              Packaging       0.76      0.66      0.70       530\n",
            "                Pricing       0.88      0.93      0.91       536\n",
            "   Quality/Contaminated       0.42      0.36      0.39       531\n",
            "  Shipment and delivery       0.83      0.73      0.78       536\n",
            "             Smells Bad       0.84      0.86      0.85       533\n",
            "                Texture       0.59      0.49      0.54       532\n",
            "              Too Sweet       0.82      0.98      0.89       525\n",
            "     Too big to swallow       0.75      0.78      0.77       488\n",
            " Wrong Product received       0.85      1.00      0.92       541\n",
            "\n",
            "               accuracy                           0.77     11284\n",
            "              macro avg       0.77      0.77      0.77     11284\n",
            "           weighted avg       0.77      0.77      0.77     11284\n",
            "\n"
          ],
          "name": "stdout"
        }
      ]
    },
    {
      "cell_type": "markdown",
      "metadata": {
        "id": "woSXHLxGV9em"
      },
      "source": [
        "We can see by the classification report that our model has an **accuracy** of **78%**. **Recall** is the number of relevant documents retrieved by a search divided by the total number of existing relevant documents, while **precision** is the number of relevant documents retrieved by a search divided by the total number of documents retrieved by that search. And the F1 Score is the 2*((precision * recall)/(precision+recall))."
      ]
    },
    {
      "cell_type": "markdown",
      "metadata": {
        "id": "u7tzkyVzVahl"
      },
      "source": [
        "# Deployment"
      ]
    },
    {
      "cell_type": "markdown",
      "metadata": {
        "id": "HNpZujwSTof8"
      },
      "source": [
        "For deployment, the following details should be kept in mind:\n",
        "- On an Nvidia P4 16Gb GPU, it took roughly 30 mins to finish running 1 epoch of training.\n",
        "- The following libraries (python packages) are needed:\n",
        "  *   Pandas\n",
        "  *   Matplotlib\n",
        "  *   Re\n",
        "  *   Imblearn\n",
        "  *   Collections\n",
        "  *   Sklearn\n",
        "\n",
        "\n",
        "\n",
        "\n",
        "\n",
        "\n"
      ]
    }
  ]
}